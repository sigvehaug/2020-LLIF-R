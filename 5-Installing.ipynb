{
 "cells": [
  {
   "cell_type": "markdown",
   "metadata": {},
   "source": [
    "2020-01-06, S. Haug, K. Sipos, University of Bern"
   ]
  },
  {
   "cell_type": "markdown",
   "metadata": {},
   "source": [
    "# 5. Installation of Anaconda and R on own Laptops \n",
    "\n",
    "In this workshop we are working with R within Jupyter notebooks on the Jupyter hub service noto.epfl.ch. This has some advantages:\n",
    "\n",
    "- No need to install anything\n",
    "- No local files\n",
    "- Notebook features like rich text, working in the browser etc\n",
    "- Easy interface to GitHub (see end of workshop)\n",
    "\n",
    "However, many people prefer to have R locally installed and to work with the Integrated Development Environment (IDE) RStudio on their laptops. For this we suggest to install the data science platform software Anaconda. It comes with R, RStudio, Python, Jupyter Notebooks and more:\n",
    "\n",
    "- Google \"anaconda install\" and follow the instructions suitable for your computer (Windows, Mac or Linux)\n",
    "- Open Anaconda Navigator and from there install RStudio\n",
    "\n"
   ]
  },
  {
   "cell_type": "markdown",
   "metadata": {},
   "source": [
    "### For tomorrow's discussion session\n",
    "\n",
    "Please submit one question or topic you would like to discuss in tomorrow's discussion session here: https://forms.gle/M9HV7jVU2HDdU5cG9\n",
    "\n",
    "Thanks and good evening!"
   ]
  }
 ],
 "metadata": {
  "kernelspec": {
   "display_name": "R",
   "language": "R",
   "name": "ir"
  },
  "language_info": {
   "codemirror_mode": "r",
   "file_extension": ".r",
   "mimetype": "text/x-r-source",
   "name": "R",
   "pygments_lexer": "r",
   "version": "3.6.2"
  }
 },
 "nbformat": 4,
 "nbformat_minor": 4
}
