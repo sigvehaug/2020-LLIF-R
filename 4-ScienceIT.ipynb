{
 "cells": [
  {
   "cell_type": "markdown",
   "metadata": {},
   "source": [
    "2020-01-06, S. Haug, K. Sipos, University of Bern"
   ]
  },
  {
   "cell_type": "markdown",
   "metadata": {},
   "source": [
    "# 4. How to work with Science IT Support\n",
    "\n",
    "The Science IT Support unit at the Science Faculty of University of Bern targets within the whole university:\n",
    "\n",
    "- Research groups\n",
    "- Researchers including phd students\n",
    "- To some extent other students\n",
    "\n",
    "For data science, analysis, data and computing infrastructure etc it provides  \n",
    "\n",
    "- Training and workshops in Sep/Aug, Jan/Feb, Jun or on demand\n",
    "- Initial consulting \n",
    "- Expertise for your group based on Service Level Agreements (SLA)\n",
    "    - Example IZB\n",
    "    - Example MIC\n",
    "- Project partnering in SNSF and other projects\n",
    "    - Example Climate\n",
    "    - Example Geography\n",
    "    \n",
    "For project partnering, other possible collaborations, you may contact the unit lead directly (S. Haug). All other information on the website www.scits.unibe.ch.\n",
    "    \n"
   ]
  },
  {
   "cell_type": "code",
   "execution_count": null,
   "metadata": {},
   "outputs": [],
   "source": []
  }
 ],
 "metadata": {
  "kernelspec": {
   "display_name": "R",
   "language": "R",
   "name": "ir"
  },
  "language_info": {
   "codemirror_mode": "r",
   "file_extension": ".r",
   "mimetype": "text/x-r-source",
   "name": "R",
   "pygments_lexer": "r",
   "version": "3.6.2"
  }
 },
 "nbformat": 4,
 "nbformat_minor": 4
}
