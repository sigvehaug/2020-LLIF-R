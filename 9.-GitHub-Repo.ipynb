{
 "cells": [
  {
   "cell_type": "markdown",
   "metadata": {},
   "source": [
    "2020-01-06, S. Haug, K. Sipos, University of Bern"
   ]
  },
  {
   "cell_type": "markdown",
   "metadata": {},
   "source": [
    "# 9. Publish notebooks on GitHub and Data on Zenodo\n",
    "\n",
    "Regarding reproducible science, the extreme statement can be\n",
    "\n",
    "- The publication is just the advertisement, the science is in the code and the data \n",
    "\n",
    "So we should publish our code and the data. You may have public repositories for this \n",
    "in our field. If this is not the case, you can use **GitHub** for code and smaller datasets\n",
    "and for example **Zenodo** for larger data sets.\n",
    "\n",
    "Let's give it a try:\n",
    "\n",
    "- Create an account on GitHub\n",
    "- Create a repository on GitHub (+ button in top right corner)\n",
    "- Upload all the files you like, e.g. your notebooks from this workshop\n",
    "- When you have all the notebooks used for the publication, archive and create a DOI for your repository by followin these instructions: https://guides.github.com/activities/citable-code/\n",
    "\n",
    "The University of Bern is working on own alternatives for GitHub (GitLab) and Zenodo. It is not quite ready yet.\n",
    "\n",
    "\n",
    "    \n"
   ]
  },
  {
   "cell_type": "markdown",
   "metadata": {},
   "source": [
    "## Please fill the feedback survey regarding this workshop (5 min)\n",
    "\n",
    "Please submit one question or topic you would like to discuss in t\n",
    "\n",
    "# 10. Apero\n",
    "\n",
    "Thanks, enjoy and bon weekend"
   ]
  },
  {
   "cell_type": "code",
   "execution_count": null,
   "metadata": {},
   "outputs": [],
   "source": []
  }
 ],
 "metadata": {
  "kernelspec": {
   "display_name": "R",
   "language": "R",
   "name": "ir"
  },
  "language_info": {
   "codemirror_mode": "r",
   "file_extension": ".r",
   "mimetype": "text/x-r-source",
   "name": "R",
   "pygments_lexer": "r",
   "version": "3.6.2"
  }
 },
 "nbformat": 4,
 "nbformat_minor": 4
}
