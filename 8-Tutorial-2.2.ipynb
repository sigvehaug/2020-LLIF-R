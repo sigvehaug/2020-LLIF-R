{
 "cells": [
  {
   "cell_type": "markdown",
   "metadata": {},
   "source": [
    "# Reproducing the results of publications \n",
    "\n",
    "Chosen article: **What makes a straw man acceptable? Three experiments assessing linguistic factors**  \n",
    "Autors: Jennifer Schumann, Sandrine Zufferey, Steve Oswald"
   ]
  },
  {
   "cell_type": "markdown",
   "metadata": {},
   "source": [
    "The considered publication sums up the results of three consecutive experiments. We have received the data that was collected in the second experiment: *BaseDonnees_Exp.2_PresenceAbsenceConnecteur.xlsx*. We opened it with Excel and saved it as comma separated file. That's what we are going to import into our notebook as a tibble."
   ]
  },
  {
   "cell_type": "markdown",
   "metadata": {},
   "source": [
    "## 1. Import the data"
   ]
  },
  {
   "cell_type": "code",
   "execution_count": 197,
   "metadata": {
    "collapsed": true,
    "jupyter": {
     "outputs_hidden": true
    }
   },
   "outputs": [],
   "source": [
    "library(readr)\n",
    "library(tibble)"
   ]
  },
  {
   "cell_type": "markdown",
   "metadata": {},
   "source": [
    "Which packages do we need for the following line to execute?"
   ]
  },
  {
   "cell_type": "code",
   "execution_count": 208,
   "metadata": {
    "collapsed": true,
    "jupyter": {
     "outputs_hidden": true
    }
   },
   "outputs": [
    {
     "name": "stderr",
     "output_type": "stream",
     "text": [
      "Parsed with column specification:\n",
      "cols(\n",
      "  `Participant ID` = \u001b[32mcol_double()\u001b[39m,\n",
      "  List = \u001b[32mcol_double()\u001b[39m,\n",
      "  TagQualtrics = \u001b[31mcol_character()\u001b[39m,\n",
      "  Valeur = \u001b[31mcol_character()\u001b[39m,\n",
      "  Item = \u001b[32mcol_double()\u001b[39m,\n",
      "  Condition = \u001b[31mcol_character()\u001b[39m,\n",
      "  `Presence Connecteur` = \u001b[31mcol_character()\u001b[39m,\n",
      "  `Type Connecteur` = \u001b[31mcol_character()\u001b[39m,\n",
      "  `Type Question` = \u001b[31mcol_character()\u001b[39m\n",
      ")\n",
      "\n"
     ]
    }
   ],
   "source": [
    "DB <- read_delim(\"BaseDonnees_Exp.2_PresenceAbsenceConnecteur.csv\",\",\", col_names = TRUE)"
   ]
  },
  {
   "cell_type": "markdown",
   "metadata": {},
   "source": [
    "Now let's check whether the created dataframe is a tibble."
   ]
  },
  {
   "cell_type": "code",
   "execution_count": 199,
   "metadata": {
    "collapsed": true,
    "jupyter": {
     "outputs_hidden": true
    }
   },
   "outputs": [
    {
     "data": {
      "text/html": [
       "TRUE"
      ],
      "text/latex": [
       "TRUE"
      ],
      "text/markdown": [
       "TRUE"
      ],
      "text/plain": [
       "[1] TRUE"
      ]
     },
     "metadata": {},
     "output_type": "display_data"
    }
   ],
   "source": [
    "is_tibble(DB)"
   ]
  },
  {
   "cell_type": "markdown",
   "metadata": {},
   "source": [
    "Let's check how does it the data that we imported look like."
   ]
  },
  {
   "cell_type": "code",
   "execution_count": 200,
   "metadata": {
    "collapsed": true,
    "jupyter": {
     "outputs_hidden": true
    }
   },
   "outputs": [
    {
     "data": {
      "text/html": [
       "<table>\n",
       "<caption>A tibble: 6 × 9</caption>\n",
       "<thead>\n",
       "\t<tr><th scope=col>Participant ID</th><th scope=col>List</th><th scope=col>TagQualtrics</th><th scope=col>Valeur</th><th scope=col>Item</th><th scope=col>Condition</th><th scope=col>Presence Connecteur</th><th scope=col>Type Connecteur</th><th scope=col>Type Question</th></tr>\n",
       "\t<tr><th scope=col>&lt;dbl&gt;</th><th scope=col>&lt;dbl&gt;</th><th scope=col>&lt;chr&gt;</th><th scope=col>&lt;chr&gt;</th><th scope=col>&lt;dbl&gt;</th><th scope=col>&lt;chr&gt;</th><th scope=col>&lt;chr&gt;</th><th scope=col>&lt;chr&gt;</th><th scope=col>&lt;chr&gt;</th></tr>\n",
       "</thead>\n",
       "<tbody>\n",
       "\t<tr><td>1</td><td>1</td><td>Q1_Sexe         </td><td>1          </td><td>NA</td><td>NA</td><td>NA</td><td>NA</td><td>Q1.1_Sexe       </td></tr>\n",
       "\t<tr><td>1</td><td>1</td><td>Q1_Sexe_3_TEXT  </td><td>NA         </td><td>NA</td><td>NA</td><td>NA</td><td>NA</td><td>Q1.2_Sexe_3_TEXT</td></tr>\n",
       "\t<tr><td>1</td><td>1</td><td>Q2_Age          </td><td>22         </td><td>NA</td><td>NA</td><td>NA</td><td>NA</td><td>Q2_Age          </td></tr>\n",
       "\t<tr><td>1</td><td>1</td><td>Q3_Langue       </td><td>2          </td><td>NA</td><td>NA</td><td>NA</td><td>NA</td><td>Q3.1_Langue     </td></tr>\n",
       "\t<tr><td>1</td><td>1</td><td>Q3_Langue_3_TEXT</td><td>NA         </td><td>NA</td><td>NA</td><td>NA</td><td>NA</td><td>Q3.2_Langue     </td></tr>\n",
       "\t<tr><td>1</td><td>1</td><td>Q5_Lieu         </td><td>Royaume uni</td><td>NA</td><td>NA</td><td>NA</td><td>NA</td><td>Q5_Lieu         </td></tr>\n",
       "</tbody>\n",
       "</table>\n"
      ],
      "text/latex": [
       "A tibble: 6 × 9\n",
       "\\begin{tabular}{r|lllllllll}\n",
       " Participant ID & List & TagQualtrics & Valeur & Item & Condition & Presence Connecteur & Type Connecteur & Type Question\\\\\n",
       " <dbl> & <dbl> & <chr> & <chr> & <dbl> & <chr> & <chr> & <chr> & <chr>\\\\\n",
       "\\hline\n",
       "\t 1 & 1 & Q1\\_Sexe          & 1           & NA & NA & NA & NA & Q1.1\\_Sexe       \\\\\n",
       "\t 1 & 1 & Q1\\_Sexe\\_3\\_TEXT   & NA          & NA & NA & NA & NA & Q1.2\\_Sexe\\_3\\_TEXT\\\\\n",
       "\t 1 & 1 & Q2\\_Age           & 22          & NA & NA & NA & NA & Q2\\_Age          \\\\\n",
       "\t 1 & 1 & Q3\\_Langue        & 2           & NA & NA & NA & NA & Q3.1\\_Langue     \\\\\n",
       "\t 1 & 1 & Q3\\_Langue\\_3\\_TEXT & NA          & NA & NA & NA & NA & Q3.2\\_Langue     \\\\\n",
       "\t 1 & 1 & Q5\\_Lieu          & Royaume uni & NA & NA & NA & NA & Q5\\_Lieu         \\\\\n",
       "\\end{tabular}\n"
      ],
      "text/markdown": [
       "\n",
       "A tibble: 6 × 9\n",
       "\n",
       "| Participant ID &lt;dbl&gt; | List &lt;dbl&gt; | TagQualtrics &lt;chr&gt; | Valeur &lt;chr&gt; | Item &lt;dbl&gt; | Condition &lt;chr&gt; | Presence Connecteur &lt;chr&gt; | Type Connecteur &lt;chr&gt; | Type Question &lt;chr&gt; |\n",
       "|---|---|---|---|---|---|---|---|---|\n",
       "| 1 | 1 | Q1_Sexe          | 1           | NA | NA | NA | NA | Q1.1_Sexe        |\n",
       "| 1 | 1 | Q1_Sexe_3_TEXT   | NA          | NA | NA | NA | NA | Q1.2_Sexe_3_TEXT |\n",
       "| 1 | 1 | Q2_Age           | 22          | NA | NA | NA | NA | Q2_Age           |\n",
       "| 1 | 1 | Q3_Langue        | 2           | NA | NA | NA | NA | Q3.1_Langue      |\n",
       "| 1 | 1 | Q3_Langue_3_TEXT | NA          | NA | NA | NA | NA | Q3.2_Langue      |\n",
       "| 1 | 1 | Q5_Lieu          | Royaume uni | NA | NA | NA | NA | Q5_Lieu          |\n",
       "\n"
      ],
      "text/plain": [
       "  Participant ID List TagQualtrics     Valeur      Item Condition\n",
       "1 1              1    Q1_Sexe          1           NA   NA       \n",
       "2 1              1    Q1_Sexe_3_TEXT   NA          NA   NA       \n",
       "3 1              1    Q2_Age           22          NA   NA       \n",
       "4 1              1    Q3_Langue        2           NA   NA       \n",
       "5 1              1    Q3_Langue_3_TEXT NA          NA   NA       \n",
       "6 1              1    Q5_Lieu          Royaume uni NA   NA       \n",
       "  Presence Connecteur Type Connecteur Type Question   \n",
       "1 NA                  NA              Q1.1_Sexe       \n",
       "2 NA                  NA              Q1.2_Sexe_3_TEXT\n",
       "3 NA                  NA              Q2_Age          \n",
       "4 NA                  NA              Q3.1_Langue     \n",
       "5 NA                  NA              Q3.2_Langue     \n",
       "6 NA                  NA              Q5_Lieu         "
      ]
     },
     "metadata": {},
     "output_type": "display_data"
    }
   ],
   "source": [
    "#print(DB) \n",
    "head(DB)"
   ]
  },
  {
   "cell_type": "markdown",
   "metadata": {},
   "source": [
    "# 2. Reproduce the descriptive statistics \n",
    "\n",
    "In the article the descriptive statistics of the collected data is in the below table summarised.\n",
    "\n",
    "![Whatever](Experiment2DescriptStat.png)"
   ]
  },
  {
   "cell_type": "markdown",
   "metadata": {},
   "source": [
    "Without any other specification we can create some statistics:"
   ]
  },
  {
   "cell_type": "code",
   "execution_count": 5,
   "metadata": {
    "collapsed": true,
    "jupyter": {
     "outputs_hidden": true
    }
   },
   "outputs": [
    {
     "name": "stderr",
     "output_type": "stream",
     "text": [
      "Warning message in mean.default(X[[i]], ...):\n",
      "“argument is not numeric or logical: returning NA”\n",
      "Warning message in mean.default(X[[i]], ...):\n",
      "“argument is not numeric or logical: returning NA”\n",
      "Warning message in mean.default(X[[i]], ...):\n",
      "“argument is not numeric or logical: returning NA”\n",
      "Warning message in mean.default(X[[i]], ...):\n",
      "“argument is not numeric or logical: returning NA”\n",
      "Warning message in mean.default(X[[i]], ...):\n",
      "“argument is not numeric or logical: returning NA”\n",
      "Warning message in mean.default(X[[i]], ...):\n",
      "“argument is not numeric or logical: returning NA”\n"
     ]
    },
    {
     "data": {
      "text/html": [
       "<dl class=dl-horizontal>\n",
       "\t<dt>Participant ID</dt>\n",
       "\t\t<dd>36.9457147557164</dd>\n",
       "\t<dt>List</dt>\n",
       "\t\t<dd>2.58899490047705</dd>\n",
       "\t<dt>TagQualtrics</dt>\n",
       "\t\t<dd>&lt;NA&gt;</dd>\n",
       "\t<dt>Valeur</dt>\n",
       "\t\t<dd>&lt;NA&gt;</dd>\n",
       "\t<dt>Item</dt>\n",
       "\t\t<dd>&lt;NA&gt;</dd>\n",
       "\t<dt>Condition</dt>\n",
       "\t\t<dd>&lt;NA&gt;</dd>\n",
       "\t<dt>Presence Connecteur</dt>\n",
       "\t\t<dd>&lt;NA&gt;</dd>\n",
       "\t<dt>Type Connecteur</dt>\n",
       "\t\t<dd>&lt;NA&gt;</dd>\n",
       "\t<dt>Type Question</dt>\n",
       "\t\t<dd>&lt;NA&gt;</dd>\n",
       "</dl>\n"
      ],
      "text/latex": [
       "\\begin{description*}\n",
       "\\item[Participant ID] 36.9457147557164\n",
       "\\item[List] 2.58899490047705\n",
       "\\item[TagQualtrics] <NA>\n",
       "\\item[Valeur] <NA>\n",
       "\\item[Item] <NA>\n",
       "\\item[Condition] <NA>\n",
       "\\item[Presence Connecteur] <NA>\n",
       "\\item[Type Connecteur] <NA>\n",
       "\\item[Type Question] <NA>\n",
       "\\end{description*}\n"
      ],
      "text/markdown": [
       "Participant ID\n",
       ":   36.9457147557164List\n",
       ":   2.58899490047705TagQualtrics\n",
       ":   &lt;NA&gt;Valeur\n",
       ":   &lt;NA&gt;Item\n",
       ":   &lt;NA&gt;Condition\n",
       ":   &lt;NA&gt;Presence Connecteur\n",
       ":   &lt;NA&gt;Type Connecteur\n",
       ":   &lt;NA&gt;Type Question\n",
       ":   &lt;NA&gt;\n",
       "\n"
      ],
      "text/plain": [
       "     Participant ID                List        TagQualtrics              Valeur \n",
       "          36.945715            2.588995                  NA                  NA \n",
       "               Item           Condition Presence Connecteur     Type Connecteur \n",
       "                 NA                  NA                  NA                  NA \n",
       "      Type Question \n",
       "                 NA "
      ]
     },
     "metadata": {},
     "output_type": "display_data"
    }
   ],
   "source": [
    "sapply(DB, mean) # only mean value\n",
    "#summary(DB)"
   ]
  },
  {
   "cell_type": "markdown",
   "metadata": {},
   "source": [
    "Let's erase the lines with personal information, as the presented study doesn't use these in any sense later on. These might be the cause preventing to get any reasonable statistics."
   ]
  },
  {
   "cell_type": "markdown",
   "metadata": {},
   "source": [
    "## Data preparation (tidying)"
   ]
  },
  {
   "cell_type": "markdown",
   "metadata": {},
   "source": [
    "Handy cheatsheet: https://rstudio.com/wp-content/uploads/2015/02/data-wrangling-cheatsheet.pdf."
   ]
  },
  {
   "cell_type": "code",
   "execution_count": 6,
   "metadata": {
    "collapsed": true,
    "jupyter": {
     "outputs_hidden": true
    }
   },
   "outputs": [
    {
     "name": "stderr",
     "output_type": "stream",
     "text": [
      "\n",
      "Attaching package: ‘dplyr’\n",
      "\n",
      "\n",
      "The following objects are masked from ‘package:stats’:\n",
      "\n",
      "    filter, lag\n",
      "\n",
      "\n",
      "The following objects are masked from ‘package:base’:\n",
      "\n",
      "    intersect, setdiff, setequal, union\n",
      "\n",
      "\n"
     ]
    }
   ],
   "source": [
    "library(dplyr)"
   ]
  },
  {
   "cell_type": "code",
   "execution_count": 7,
   "metadata": {
    "collapsed": true,
    "jupyter": {
     "outputs_hidden": true
    }
   },
   "outputs": [],
   "source": [
    "library(tidyr)"
   ]
  },
  {
   "cell_type": "code",
   "execution_count": 209,
   "metadata": {
    "collapsed": true,
    "jupyter": {
     "outputs_hidden": true
    }
   },
   "outputs": [],
   "source": [
    "DB_WithoutID <- drop_na(DB)"
   ]
  },
  {
   "cell_type": "code",
   "execution_count": 210,
   "metadata": {
    "collapsed": true,
    "jupyter": {
     "outputs_hidden": true
    }
   },
   "outputs": [
    {
     "data": {
      "text/html": [
       "<table>\n",
       "<caption>A tibble: 10 × 9</caption>\n",
       "<thead>\n",
       "\t<tr><th scope=col>Participant ID</th><th scope=col>List</th><th scope=col>TagQualtrics</th><th scope=col>Valeur</th><th scope=col>Item</th><th scope=col>Condition</th><th scope=col>Presence Connecteur</th><th scope=col>Type Connecteur</th><th scope=col>Type Question</th></tr>\n",
       "\t<tr><th scope=col>&lt;dbl&gt;</th><th scope=col>&lt;dbl&gt;</th><th scope=col>&lt;chr&gt;</th><th scope=col>&lt;chr&gt;</th><th scope=col>&lt;dbl&gt;</th><th scope=col>&lt;chr&gt;</th><th scope=col>&lt;chr&gt;</th><th scope=col>&lt;chr&gt;</th><th scope=col>&lt;chr&gt;</th></tr>\n",
       "</thead>\n",
       "<tbody>\n",
       "\t<tr><td>1</td><td>1</td><td>L1_1_AFC_1</td><td>5</td><td>1</td><td>Fallacieux   </td><td>oui</td><td>Comme</td><td>Proportion </td></tr>\n",
       "\t<tr><td>1</td><td>1</td><td>L1_1_AFC_2</td><td>5</td><td>1</td><td>Fallacieux   </td><td>oui</td><td>Comme</td><td>Decoulement</td></tr>\n",
       "\t<tr><td>1</td><td>1</td><td>L1_1_AFC_3</td><td>5</td><td>1</td><td>Fallacieux   </td><td>oui</td><td>Comme</td><td>AccordA    </td></tr>\n",
       "\t<tr><td>1</td><td>1</td><td>L1_1_AFC_4</td><td>4</td><td>1</td><td>Fallacieux   </td><td>oui</td><td>Comme</td><td>AccordB    </td></tr>\n",
       "\t<tr><td>1</td><td>1</td><td>L1_2_AFS_1</td><td>2</td><td>2</td><td>Fallacieux   </td><td>non</td><td>Comme</td><td>Proportion </td></tr>\n",
       "\t<tr><td>1</td><td>1</td><td>L1_2_AFS_2</td><td>4</td><td>2</td><td>Fallacieux   </td><td>non</td><td>Comme</td><td>Decoulement</td></tr>\n",
       "\t<tr><td>1</td><td>1</td><td>L1_2_AFS_3</td><td>2</td><td>2</td><td>Fallacieux   </td><td>non</td><td>Comme</td><td>AccordA    </td></tr>\n",
       "\t<tr><td>1</td><td>1</td><td>L1_2_AFS_4</td><td>6</td><td>2</td><td>Fallacieux   </td><td>non</td><td>Comme</td><td>AccordB    </td></tr>\n",
       "\t<tr><td>1</td><td>1</td><td>L1_3_ANC_1</td><td>5</td><td>3</td><td>NonFallacieux</td><td>oui</td><td>Comme</td><td>Proportion </td></tr>\n",
       "\t<tr><td>1</td><td>1</td><td>L1_3_ANC_2</td><td>4</td><td>3</td><td>NonFallacieux</td><td>oui</td><td>Comme</td><td>Decoulement</td></tr>\n",
       "</tbody>\n",
       "</table>\n"
      ],
      "text/latex": [
       "A tibble: 10 × 9\n",
       "\\begin{tabular}{r|lllllllll}\n",
       " Participant ID & List & TagQualtrics & Valeur & Item & Condition & Presence Connecteur & Type Connecteur & Type Question\\\\\n",
       " <dbl> & <dbl> & <chr> & <chr> & <dbl> & <chr> & <chr> & <chr> & <chr>\\\\\n",
       "\\hline\n",
       "\t 1 & 1 & L1\\_1\\_AFC\\_1 & 5 & 1 & Fallacieux    & oui & Comme & Proportion \\\\\n",
       "\t 1 & 1 & L1\\_1\\_AFC\\_2 & 5 & 1 & Fallacieux    & oui & Comme & Decoulement\\\\\n",
       "\t 1 & 1 & L1\\_1\\_AFC\\_3 & 5 & 1 & Fallacieux    & oui & Comme & AccordA    \\\\\n",
       "\t 1 & 1 & L1\\_1\\_AFC\\_4 & 4 & 1 & Fallacieux    & oui & Comme & AccordB    \\\\\n",
       "\t 1 & 1 & L1\\_2\\_AFS\\_1 & 2 & 2 & Fallacieux    & non & Comme & Proportion \\\\\n",
       "\t 1 & 1 & L1\\_2\\_AFS\\_2 & 4 & 2 & Fallacieux    & non & Comme & Decoulement\\\\\n",
       "\t 1 & 1 & L1\\_2\\_AFS\\_3 & 2 & 2 & Fallacieux    & non & Comme & AccordA    \\\\\n",
       "\t 1 & 1 & L1\\_2\\_AFS\\_4 & 6 & 2 & Fallacieux    & non & Comme & AccordB    \\\\\n",
       "\t 1 & 1 & L1\\_3\\_ANC\\_1 & 5 & 3 & NonFallacieux & oui & Comme & Proportion \\\\\n",
       "\t 1 & 1 & L1\\_3\\_ANC\\_2 & 4 & 3 & NonFallacieux & oui & Comme & Decoulement\\\\\n",
       "\\end{tabular}\n"
      ],
      "text/markdown": [
       "\n",
       "A tibble: 10 × 9\n",
       "\n",
       "| Participant ID &lt;dbl&gt; | List &lt;dbl&gt; | TagQualtrics &lt;chr&gt; | Valeur &lt;chr&gt; | Item &lt;dbl&gt; | Condition &lt;chr&gt; | Presence Connecteur &lt;chr&gt; | Type Connecteur &lt;chr&gt; | Type Question &lt;chr&gt; |\n",
       "|---|---|---|---|---|---|---|---|---|\n",
       "| 1 | 1 | L1_1_AFC_1 | 5 | 1 | Fallacieux    | oui | Comme | Proportion  |\n",
       "| 1 | 1 | L1_1_AFC_2 | 5 | 1 | Fallacieux    | oui | Comme | Decoulement |\n",
       "| 1 | 1 | L1_1_AFC_3 | 5 | 1 | Fallacieux    | oui | Comme | AccordA     |\n",
       "| 1 | 1 | L1_1_AFC_4 | 4 | 1 | Fallacieux    | oui | Comme | AccordB     |\n",
       "| 1 | 1 | L1_2_AFS_1 | 2 | 2 | Fallacieux    | non | Comme | Proportion  |\n",
       "| 1 | 1 | L1_2_AFS_2 | 4 | 2 | Fallacieux    | non | Comme | Decoulement |\n",
       "| 1 | 1 | L1_2_AFS_3 | 2 | 2 | Fallacieux    | non | Comme | AccordA     |\n",
       "| 1 | 1 | L1_2_AFS_4 | 6 | 2 | Fallacieux    | non | Comme | AccordB     |\n",
       "| 1 | 1 | L1_3_ANC_1 | 5 | 3 | NonFallacieux | oui | Comme | Proportion  |\n",
       "| 1 | 1 | L1_3_ANC_2 | 4 | 3 | NonFallacieux | oui | Comme | Decoulement |\n",
       "\n"
      ],
      "text/plain": [
       "   Participant ID List TagQualtrics Valeur Item Condition    \n",
       "1  1              1    L1_1_AFC_1   5      1    Fallacieux   \n",
       "2  1              1    L1_1_AFC_2   5      1    Fallacieux   \n",
       "3  1              1    L1_1_AFC_3   5      1    Fallacieux   \n",
       "4  1              1    L1_1_AFC_4   4      1    Fallacieux   \n",
       "5  1              1    L1_2_AFS_1   2      2    Fallacieux   \n",
       "6  1              1    L1_2_AFS_2   4      2    Fallacieux   \n",
       "7  1              1    L1_2_AFS_3   2      2    Fallacieux   \n",
       "8  1              1    L1_2_AFS_4   6      2    Fallacieux   \n",
       "9  1              1    L1_3_ANC_1   5      3    NonFallacieux\n",
       "10 1              1    L1_3_ANC_2   4      3    NonFallacieux\n",
       "   Presence Connecteur Type Connecteur Type Question\n",
       "1  oui                 Comme           Proportion   \n",
       "2  oui                 Comme           Decoulement  \n",
       "3  oui                 Comme           AccordA      \n",
       "4  oui                 Comme           AccordB      \n",
       "5  non                 Comme           Proportion   \n",
       "6  non                 Comme           Decoulement  \n",
       "7  non                 Comme           AccordA      \n",
       "8  non                 Comme           AccordB      \n",
       "9  oui                 Comme           Proportion   \n",
       "10 oui                 Comme           Decoulement  "
      ]
     },
     "metadata": {},
     "output_type": "display_data"
    }
   ],
   "source": [
    "head(DB_WithoutID, n=10)"
   ]
  },
  {
   "cell_type": "markdown",
   "metadata": {},
   "source": [
    "Now our data table looks good. It contains the necessary information for calculating mean and standard deviation of the \"Valeur\". The only issue is that the typr of this column is still not numeric. "
   ]
  },
  {
   "cell_type": "code",
   "execution_count": 211,
   "metadata": {
    "collapsed": true,
    "jupyter": {
     "outputs_hidden": true
    }
   },
   "outputs": [],
   "source": [
    "DB_WithoutID$Valeur <- as.numeric(as.character(DB_WithoutID$Valeur))"
   ]
  },
  {
   "cell_type": "code",
   "execution_count": 212,
   "metadata": {
    "collapsed": true,
    "jupyter": {
     "outputs_hidden": true
    }
   },
   "outputs": [],
   "source": [
    "DB_cleaned <- DB_WithoutID %>%\n",
    "  select(\"Participant ID\",\"Valeur\",\"Item\", \"Condition\", \"Presence Connecteur\", \"Type Question\")"
   ]
  },
  {
   "cell_type": "code",
   "execution_count": 213,
   "metadata": {
    "collapsed": true,
    "jupyter": {
     "outputs_hidden": true
    }
   },
   "outputs": [
    {
     "data": {
      "text/html": [
       "<table>\n",
       "<caption>A tibble: 6 × 6</caption>\n",
       "<thead>\n",
       "\t<tr><th scope=col>Participant ID</th><th scope=col>Valeur</th><th scope=col>Item</th><th scope=col>Condition</th><th scope=col>Presence Connecteur</th><th scope=col>Type Question</th></tr>\n",
       "\t<tr><th scope=col>&lt;dbl&gt;</th><th scope=col>&lt;dbl&gt;</th><th scope=col>&lt;dbl&gt;</th><th scope=col>&lt;chr&gt;</th><th scope=col>&lt;chr&gt;</th><th scope=col>&lt;chr&gt;</th></tr>\n",
       "</thead>\n",
       "<tbody>\n",
       "\t<tr><td>1</td><td>5</td><td>1</td><td>Fallacieux</td><td>oui</td><td>Proportion </td></tr>\n",
       "\t<tr><td>1</td><td>5</td><td>1</td><td>Fallacieux</td><td>oui</td><td>Decoulement</td></tr>\n",
       "\t<tr><td>1</td><td>5</td><td>1</td><td>Fallacieux</td><td>oui</td><td>AccordA    </td></tr>\n",
       "\t<tr><td>1</td><td>4</td><td>1</td><td>Fallacieux</td><td>oui</td><td>AccordB    </td></tr>\n",
       "\t<tr><td>1</td><td>2</td><td>2</td><td>Fallacieux</td><td>non</td><td>Proportion </td></tr>\n",
       "\t<tr><td>1</td><td>4</td><td>2</td><td>Fallacieux</td><td>non</td><td>Decoulement</td></tr>\n",
       "</tbody>\n",
       "</table>\n"
      ],
      "text/latex": [
       "A tibble: 6 × 6\n",
       "\\begin{tabular}{r|llllll}\n",
       " Participant ID & Valeur & Item & Condition & Presence Connecteur & Type Question\\\\\n",
       " <dbl> & <dbl> & <dbl> & <chr> & <chr> & <chr>\\\\\n",
       "\\hline\n",
       "\t 1 & 5 & 1 & Fallacieux & oui & Proportion \\\\\n",
       "\t 1 & 5 & 1 & Fallacieux & oui & Decoulement\\\\\n",
       "\t 1 & 5 & 1 & Fallacieux & oui & AccordA    \\\\\n",
       "\t 1 & 4 & 1 & Fallacieux & oui & AccordB    \\\\\n",
       "\t 1 & 2 & 2 & Fallacieux & non & Proportion \\\\\n",
       "\t 1 & 4 & 2 & Fallacieux & non & Decoulement\\\\\n",
       "\\end{tabular}\n"
      ],
      "text/markdown": [
       "\n",
       "A tibble: 6 × 6\n",
       "\n",
       "| Participant ID &lt;dbl&gt; | Valeur &lt;dbl&gt; | Item &lt;dbl&gt; | Condition &lt;chr&gt; | Presence Connecteur &lt;chr&gt; | Type Question &lt;chr&gt; |\n",
       "|---|---|---|---|---|---|\n",
       "| 1 | 5 | 1 | Fallacieux | oui | Proportion  |\n",
       "| 1 | 5 | 1 | Fallacieux | oui | Decoulement |\n",
       "| 1 | 5 | 1 | Fallacieux | oui | AccordA     |\n",
       "| 1 | 4 | 1 | Fallacieux | oui | AccordB     |\n",
       "| 1 | 2 | 2 | Fallacieux | non | Proportion  |\n",
       "| 1 | 4 | 2 | Fallacieux | non | Decoulement |\n",
       "\n"
      ],
      "text/plain": [
       "  Participant ID Valeur Item Condition  Presence Connecteur Type Question\n",
       "1 1              5      1    Fallacieux oui                 Proportion   \n",
       "2 1              5      1    Fallacieux oui                 Decoulement  \n",
       "3 1              5      1    Fallacieux oui                 AccordA      \n",
       "4 1              4      1    Fallacieux oui                 AccordB      \n",
       "5 1              2      2    Fallacieux non                 Proportion   \n",
       "6 1              4      2    Fallacieux non                 Decoulement  "
      ]
     },
     "metadata": {},
     "output_type": "display_data"
    }
   ],
   "source": [
    "head(DB_cleaned)"
   ]
  },
  {
   "cell_type": "code",
   "execution_count": 214,
   "metadata": {
    "collapsed": true,
    "jupyter": {
     "outputs_hidden": true
    }
   },
   "outputs": [
    {
     "data": {
      "text/plain": [
       "   Min. 1st Qu.  Median    Mean 3rd Qu.    Max. \n",
       "  1.000   3.000   4.000   4.207   5.000   7.000 "
      ]
     },
     "metadata": {},
     "output_type": "display_data"
    }
   ],
   "source": [
    "#sapply(DB_cleaned, mean) # only mean value\n",
    "#summary(DB_cleaned)\n",
    "summary(DB_cleaned$Valeur)"
   ]
  },
  {
   "cell_type": "code",
   "execution_count": 215,
   "metadata": {
    "collapsed": true,
    "jupyter": {
     "outputs_hidden": true
    }
   },
   "outputs": [
    {
     "name": "stderr",
     "output_type": "stream",
     "text": [
      "Warning message in mean.default(X[[i]], ...):\n",
      "“argument is not numeric or logical: returning NA”\n",
      "Warning message in mean.default(X[[i]], ...):\n",
      "“argument is not numeric or logical: returning NA”\n",
      "Warning message in mean.default(X[[i]], ...):\n",
      "“argument is not numeric or logical: returning NA”\n",
      "Warning message in mean.default(X[[i]], ...):\n",
      "“argument is not numeric or logical: returning NA”\n",
      "Warning message in mean.default(X[[i]], ...):\n",
      "“argument is not numeric or logical: returning NA”\n"
     ]
    },
    {
     "data": {
      "text/html": [
       "<dl class=dl-horizontal>\n",
       "\t<dt>Participant ID</dt>\n",
       "\t\t<dd>37</dd>\n",
       "\t<dt>List</dt>\n",
       "\t\t<dd>2.58904109589041</dd>\n",
       "\t<dt>TagQualtrics</dt>\n",
       "\t\t<dd>&lt;NA&gt;</dd>\n",
       "\t<dt>Valeur</dt>\n",
       "\t\t<dd>4.20710616438356</dd>\n",
       "\t<dt>Item</dt>\n",
       "\t\t<dd>20.5</dd>\n",
       "\t<dt>Condition</dt>\n",
       "\t\t<dd>&lt;NA&gt;</dd>\n",
       "\t<dt>Presence Connecteur</dt>\n",
       "\t\t<dd>&lt;NA&gt;</dd>\n",
       "\t<dt>Type Connecteur</dt>\n",
       "\t\t<dd>&lt;NA&gt;</dd>\n",
       "\t<dt>Type Question</dt>\n",
       "\t\t<dd>&lt;NA&gt;</dd>\n",
       "</dl>\n"
      ],
      "text/latex": [
       "\\begin{description*}\n",
       "\\item[Participant ID] 37\n",
       "\\item[List] 2.58904109589041\n",
       "\\item[TagQualtrics] <NA>\n",
       "\\item[Valeur] 4.20710616438356\n",
       "\\item[Item] 20.5\n",
       "\\item[Condition] <NA>\n",
       "\\item[Presence Connecteur] <NA>\n",
       "\\item[Type Connecteur] <NA>\n",
       "\\item[Type Question] <NA>\n",
       "\\end{description*}\n"
      ],
      "text/markdown": [
       "Participant ID\n",
       ":   37List\n",
       ":   2.58904109589041TagQualtrics\n",
       ":   &lt;NA&gt;Valeur\n",
       ":   4.20710616438356Item\n",
       ":   20.5Condition\n",
       ":   &lt;NA&gt;Presence Connecteur\n",
       ":   &lt;NA&gt;Type Connecteur\n",
       ":   &lt;NA&gt;Type Question\n",
       ":   &lt;NA&gt;\n",
       "\n"
      ],
      "text/plain": [
       "     Participant ID                List        TagQualtrics              Valeur \n",
       "          37.000000            2.589041                  NA            4.207106 \n",
       "               Item           Condition Presence Connecteur     Type Connecteur \n",
       "          20.500000                  NA                  NA                  NA \n",
       "      Type Question \n",
       "                 NA "
      ]
     },
     "metadata": {},
     "output_type": "display_data"
    }
   ],
   "source": [
    "sapply(DB_WithoutID, mean)"
   ]
  },
  {
   "cell_type": "code",
   "execution_count": 216,
   "metadata": {
    "collapsed": true,
    "jupyter": {
     "outputs_hidden": true
    }
   },
   "outputs": [],
   "source": [
    "library(psych)"
   ]
  },
  {
   "cell_type": "code",
   "execution_count": 217,
   "metadata": {
    "collapsed": true,
    "jupyter": {
     "outputs_hidden": true
    }
   },
   "outputs": [
    {
     "data": {
      "text/html": [
       "\n",
       "<table width=\"100%\" summary=\"page for describeBy {psych}\"><tr><td>describeBy {psych}</td><td style=\"text-align: right;\">R Documentation</td></tr></table>\n",
       "\n",
       "<h2> Basic summary statistics by group</h2>\n",
       "\n",
       "<h3>Description</h3>\n",
       "\n",
       "<p>Report basic summary statistics by a grouping variable.  Useful if the grouping variable is some experimental variable and data are to be aggregated for plotting.  Partly a wrapper for by and <code>describe</code>\n",
       "</p>\n",
       "\n",
       "\n",
       "<h3>Usage</h3>\n",
       "\n",
       "<pre>\n",
       "describeBy(x, group=NULL,mat=FALSE,type=3,digits=15,...)\n",
       "describe.by(x, group=NULL,mat=FALSE,type=3,...)  # deprecated\n",
       "\n",
       "</pre>\n",
       "\n",
       "\n",
       "<h3>Arguments</h3>\n",
       "\n",
       "<table summary=\"R argblock\">\n",
       "<tr valign=\"top\"><td><code>x</code></td>\n",
       "<td>\n",
       "<p>a data.frame or matrix. See note for statsBy.  </p>\n",
       "</td></tr>\n",
       "<tr valign=\"top\"><td><code>group</code></td>\n",
       "<td>\n",
       "<p>a grouping variable or a list of grouping variables</p>\n",
       "</td></tr>\n",
       "<tr valign=\"top\"><td><code>mat</code></td>\n",
       "<td>\n",
       "<p>provide a matrix output rather than a list</p>\n",
       "</td></tr>\n",
       "<tr valign=\"top\"><td><code>type</code></td>\n",
       "<td>\n",
       "<p>Which type of skew and kurtosis should be found</p>\n",
       "</td></tr>\n",
       "<tr valign=\"top\"><td><code>digits</code></td>\n",
       "<td>\n",
       "<p>When giving matrix output, how many digits should be reported?</p>\n",
       "</td></tr>\n",
       "<tr valign=\"top\"><td><code>...</code></td>\n",
       "<td>\n",
       "<p>parameters to be passed to describe</p>\n",
       "</td></tr>\n",
       "</table>\n",
       "\n",
       "\n",
       "<h3>Details</h3>\n",
       "\n",
       "<p>To get descriptive statistics for several different grouping variables, make sure that group is a list.  In the case of matrix output with multiple grouping variables, the grouping variable values are added to the output.\n",
       "</p>\n",
       "<p>The type parameter specifies which version of skew and kurtosis should be found.  See <code>describe</code> for more details. \n",
       "</p>\n",
       "<p>An alternative function (<code>statsBy</code>) returns a list of means, n, and standard deviations for each group.  This is particularly useful if finding weighted correlations of group means using <code>cor.wt</code>. More importantly, it does a proper within and between group decomposition of the correlation.\n",
       "</p>\n",
       "<p><code>cohen.d</code>  will work for two groups. It converts the data into mean differences and pools the within group standard deviations.  Returns cohen.d statistic as well as the multivariate generalization (Mahalanobis D). \n",
       "</p>\n",
       "\n",
       "\n",
       "<h3>Value</h3>\n",
       "\n",
       "<p>A data.frame of the relevant statistics broken down by group: <br />\n",
       "item name <br />\n",
       "item number <br />\n",
       "number of valid cases<br />\n",
       "mean<br />\n",
       "standard deviation<br />\n",
       "median<br />\n",
       "mad: median absolute deviation (from the median) <br />\n",
       "minimum<br />\n",
       "maximum<br />\n",
       "skew<br />\n",
       "standard error<br />\n",
       "</p>\n",
       "\n",
       "\n",
       "<h3>Author(s)</h3>\n",
       "\n",
       "<p> William Revelle</p>\n",
       "\n",
       "\n",
       "<h3>See Also</h3>\n",
       "\n",
       "  <p><code>describe</code>,  <code>statsBy</code>, <code>densityBy</code> and <code>violinBy</code>,  <code>cohen.d</code>,  <code>cohen.d.by</code>, and  <code>cohen.d.ci</code>\n",
       "as well as <code>error.bars</code> and <code>error.bars.by</code> for other graphical displays. </p>\n",
       "\n",
       "\n",
       "<h3>Examples</h3>\n",
       "\n",
       "<pre>\n",
       "\n",
       "data(sat.act)\n",
       "describeBy(sat.act,sat.act$gender) #just one grouping variable\t\n",
       "#describeBy(sat.act,list(sat.act$gender,sat.act$education))  #two grouping variables\n",
       "des.mat &lt;- describeBy(sat.act$age,sat.act$education,mat=TRUE) #matrix (data.frame) output \n",
       "des.mat &lt;- describeBy(sat.act$age,list(sat.act$education,sat.act$gender),\n",
       "             mat=TRUE,digits=2)  #matrix output\n",
       "\n",
       "\n",
       "</pre>\n",
       "\n",
       "<hr /><div style=\"text-align: center;\">[Package <em>psych</em> version 1.9.12.31 ]</div>"
      ],
      "text/latex": [
       "\\inputencoding{utf8}\n",
       "\\HeaderA{describeBy}{ Basic summary statistics by group}{describeBy}\n",
       "\\aliasA{describe.by}{describeBy}{describe.by}\n",
       "\\keyword{models}{describeBy}\n",
       "\\keyword{univar}{describeBy}\n",
       "%\n",
       "\\begin{Description}\\relax\n",
       "Report basic summary statistics by a grouping variable.  Useful if the grouping variable is some experimental variable and data are to be aggregated for plotting.  Partly a wrapper for by and \\code{\\LinkA{describe}{describe}}\n",
       "\\end{Description}\n",
       "%\n",
       "\\begin{Usage}\n",
       "\\begin{verbatim}\n",
       "describeBy(x, group=NULL,mat=FALSE,type=3,digits=15,...)\n",
       "describe.by(x, group=NULL,mat=FALSE,type=3,...)  # deprecated\n",
       "\n",
       "\\end{verbatim}\n",
       "\\end{Usage}\n",
       "%\n",
       "\\begin{Arguments}\n",
       "\\begin{ldescription}\n",
       "\\item[\\code{x}] a data.frame or matrix. See note for statsBy.  \n",
       "\n",
       "\\item[\\code{group}] a grouping variable or a list of grouping variables\n",
       "\\item[\\code{mat}] provide a matrix output rather than a list\n",
       "\\item[\\code{type}] Which type of skew and kurtosis should be found\n",
       "\\item[\\code{digits}] When giving matrix output, how many digits should be reported?\n",
       "\n",
       "\\item[\\code{...}] parameters to be passed to describe\n",
       "\\end{ldescription}\n",
       "\\end{Arguments}\n",
       "%\n",
       "\\begin{Details}\\relax\n",
       "To get descriptive statistics for several different grouping variables, make sure that group is a list.  In the case of matrix output with multiple grouping variables, the grouping variable values are added to the output.\n",
       "\n",
       "The type parameter specifies which version of skew and kurtosis should be found.  See \\code{\\LinkA{describe}{describe}} for more details. \n",
       "\n",
       "An alternative function (\\code{\\LinkA{statsBy}{statsBy}}) returns a list of means, n, and standard deviations for each group.  This is particularly useful if finding weighted correlations of group means using \\code{\\LinkA{cor.wt}{cor.wt}}. More importantly, it does a proper within and between group decomposition of the correlation.\n",
       "\n",
       "\\code{\\LinkA{cohen.d}{cohen.d}}  will work for two groups. It converts the data into mean differences and pools the within group standard deviations.  Returns cohen.d statistic as well as the multivariate generalization (Mahalanobis D). \n",
       "\\end{Details}\n",
       "%\n",
       "\\begin{Value}\n",
       "A data.frame of the relevant statistics broken down by group: \\\\{}\n",
       "item name \\\\{}\n",
       "item number \\\\{}\n",
       "number of valid cases\\\\{}\n",
       "mean\\\\{}\n",
       "standard deviation\\\\{}\n",
       "median\\\\{}\n",
       "mad: median absolute deviation (from the median) \\\\{}\n",
       "minimum\\\\{}\n",
       "maximum\\\\{}\n",
       "skew\\\\{}\n",
       "standard error\\\\{}\n",
       "\\end{Value}\n",
       "%\n",
       "\\begin{Author}\\relax\n",
       " William Revelle\n",
       "\\end{Author}\n",
       "%\n",
       "\\begin{SeeAlso}\\relax\n",
       "  \\code{\\LinkA{describe}{describe}},  \\code{\\LinkA{statsBy}{statsBy}}, \\code{\\LinkA{densityBy}{densityBy}} and \\code{\\LinkA{violinBy}{violinBy}},  \\code{\\LinkA{cohen.d}{cohen.d}},  \\code{\\LinkA{cohen.d.by}{cohen.d.by}}, and  \\code{\\LinkA{cohen.d.ci}{cohen.d.ci}}\n",
       "as well as \\code{\\LinkA{error.bars}{error.bars}} and \\code{\\LinkA{error.bars.by}{error.bars.by}} for other graphical displays. \n",
       "\\end{SeeAlso}\n",
       "%\n",
       "\\begin{Examples}\n",
       "\\begin{ExampleCode}\n",
       "\n",
       "data(sat.act)\n",
       "describeBy(sat.act,sat.act$gender) #just one grouping variable\t\n",
       "#describeBy(sat.act,list(sat.act$gender,sat.act$education))  #two grouping variables\n",
       "des.mat <- describeBy(sat.act$age,sat.act$education,mat=TRUE) #matrix (data.frame) output \n",
       "des.mat <- describeBy(sat.act$age,list(sat.act$education,sat.act$gender),\n",
       "             mat=TRUE,digits=2)  #matrix output\n",
       "\n",
       "\n",
       "\\end{ExampleCode}\n",
       "\\end{Examples}"
      ],
      "text/plain": [
       "describeBy                package:psych                R Documentation\n",
       "\n",
       "_\bB_\ba_\bs_\bi_\bc _\bs_\bu_\bm_\bm_\ba_\br_\by _\bs_\bt_\ba_\bt_\bi_\bs_\bt_\bi_\bc_\bs _\bb_\by _\bg_\br_\bo_\bu_\bp\n",
       "\n",
       "_\bD_\be_\bs_\bc_\br_\bi_\bp_\bt_\bi_\bo_\bn:\n",
       "\n",
       "     Report basic summary statistics by a grouping variable.  Useful if\n",
       "     the grouping variable is some experimental variable and data are\n",
       "     to be aggregated for plotting.  Partly a wrapper for by and\n",
       "     ‘describe’\n",
       "\n",
       "_\bU_\bs_\ba_\bg_\be:\n",
       "\n",
       "     describeBy(x, group=NULL,mat=FALSE,type=3,digits=15,...)\n",
       "     describe.by(x, group=NULL,mat=FALSE,type=3,...)  # deprecated\n",
       "     \n",
       "_\bA_\br_\bg_\bu_\bm_\be_\bn_\bt_\bs:\n",
       "\n",
       "       x: a data.frame or matrix. See note for statsBy.\n",
       "\n",
       "   group: a grouping variable or a list of grouping variables\n",
       "\n",
       "     mat: provide a matrix output rather than a list\n",
       "\n",
       "    type: Which type of skew and kurtosis should be found\n",
       "\n",
       "  digits: When giving matrix output, how many digits should be\n",
       "          reported?\n",
       "\n",
       "     ...: parameters to be passed to describe\n",
       "\n",
       "_\bD_\be_\bt_\ba_\bi_\bl_\bs:\n",
       "\n",
       "     To get descriptive statistics for several different grouping\n",
       "     variables, make sure that group is a list.  In the case of matrix\n",
       "     output with multiple grouping variables, the grouping variable\n",
       "     values are added to the output.\n",
       "\n",
       "     The type parameter specifies which version of skew and kurtosis\n",
       "     should be found.  See ‘describe’ for more details.\n",
       "\n",
       "     An alternative function (‘statsBy’) returns a list of means, n,\n",
       "     and standard deviations for each group.  This is particularly\n",
       "     useful if finding weighted correlations of group means using\n",
       "     ‘cor.wt’. More importantly, it does a proper within and between\n",
       "     group decomposition of the correlation.\n",
       "\n",
       "     ‘cohen.d’ will work for two groups. It converts the data into mean\n",
       "     differences and pools the within group standard deviations.\n",
       "     Returns cohen.d statistic as well as the multivariate\n",
       "     generalization (Mahalanobis D).\n",
       "\n",
       "_\bV_\ba_\bl_\bu_\be:\n",
       "\n",
       "     A data.frame of the relevant statistics broken down by group:\n",
       "     item name\n",
       "     item number\n",
       "     number of valid cases\n",
       "     mean\n",
       "     standard deviation\n",
       "     median\n",
       "     mad: median absolute deviation (from the median)\n",
       "     minimum\n",
       "     maximum\n",
       "     skew\n",
       "     standard error\n",
       "\n",
       "_\bA_\bu_\bt_\bh_\bo_\br(_\bs):\n",
       "\n",
       "     William Revelle\n",
       "\n",
       "_\bS_\be_\be _\bA_\bl_\bs_\bo:\n",
       "\n",
       "     ‘describe’, ‘statsBy’, ‘densityBy’ and ‘violinBy’, ‘cohen.d’,\n",
       "     ‘cohen.d.by’, and ‘cohen.d.ci’ as well as ‘error.bars’ and\n",
       "     ‘error.bars.by’ for other graphical displays.\n",
       "\n",
       "_\bE_\bx_\ba_\bm_\bp_\bl_\be_\bs:\n",
       "\n",
       "     data(sat.act)\n",
       "     describeBy(sat.act,sat.act$gender) #just one grouping variable  \n",
       "     #describeBy(sat.act,list(sat.act$gender,sat.act$education))  #two grouping variables\n",
       "     des.mat <- describeBy(sat.act$age,sat.act$education,mat=TRUE) #matrix (data.frame) output \n",
       "     des.mat <- describeBy(sat.act$age,list(sat.act$education,sat.act$gender),\n",
       "                  mat=TRUE,digits=2)  #matrix output\n",
       "     "
      ]
     },
     "metadata": {},
     "output_type": "display_data"
    }
   ],
   "source": [
    "?describeBy"
   ]
  },
  {
   "cell_type": "markdown",
   "metadata": {},
   "source": [
    "Try the following statistics out. Keep the one which is the easiest to compare with the descriptive statistics from the article."
   ]
  },
  {
   "cell_type": "code",
   "execution_count": 219,
   "metadata": {
    "collapsed": true,
    "jupyter": {
     "outputs_hidden": true
    }
   },
   "outputs": [
    {
     "data": {
      "text/html": [
       "<table>\n",
       "<caption>A data.frame: 16 × 17</caption>\n",
       "<thead>\n",
       "\t<tr><th></th><th scope=col>item</th><th scope=col>group1</th><th scope=col>group2</th><th scope=col>group3</th><th scope=col>vars</th><th scope=col>n</th><th scope=col>mean</th><th scope=col>sd</th><th scope=col>median</th><th scope=col>trimmed</th><th scope=col>mad</th><th scope=col>min</th><th scope=col>max</th><th scope=col>range</th><th scope=col>skew</th><th scope=col>kurtosis</th><th scope=col>se</th></tr>\n",
       "\t<tr><th></th><th scope=col>&lt;fct&gt;</th><th scope=col>&lt;fct&gt;</th><th scope=col>&lt;fct&gt;</th><th scope=col>&lt;fct&gt;</th><th scope=col>&lt;dbl&gt;</th><th scope=col>&lt;dbl&gt;</th><th scope=col>&lt;dbl&gt;</th><th scope=col>&lt;dbl&gt;</th><th scope=col>&lt;dbl&gt;</th><th scope=col>&lt;dbl&gt;</th><th scope=col>&lt;dbl&gt;</th><th scope=col>&lt;dbl&gt;</th><th scope=col>&lt;dbl&gt;</th><th scope=col>&lt;dbl&gt;</th><th scope=col>&lt;dbl&gt;</th><th scope=col>&lt;dbl&gt;</th><th scope=col>&lt;dbl&gt;</th></tr>\n",
       "</thead>\n",
       "<tbody>\n",
       "\t<tr><th scope=row>X11</th><td>1 </td><td>non</td><td>Fallacieux   </td><td>AccordA    </td><td>1</td><td>730</td><td>3.641096</td><td>1.730849</td><td>4</td><td>3.614726</td><td>1.4826</td><td>1</td><td>7</td><td>6</td><td> 0.14721491</td><td>-0.99292114</td><td>0.06406161</td></tr>\n",
       "\t<tr><th scope=row>X12</th><td>2 </td><td>oui</td><td>Fallacieux   </td><td>AccordA    </td><td>1</td><td>730</td><td>3.616438</td><td>1.739007</td><td>4</td><td>3.575342</td><td>1.4826</td><td>1</td><td>7</td><td>6</td><td> 0.17191534</td><td>-0.92834493</td><td>0.06436355</td></tr>\n",
       "\t<tr><th scope=row>X13</th><td>3 </td><td>non</td><td>NonFallacieux</td><td>AccordA    </td><td>1</td><td>730</td><td>4.454795</td><td>1.507643</td><td>5</td><td>4.592466</td><td>1.4826</td><td>1</td><td>7</td><td>6</td><td>-0.62818296</td><td>-0.37211166</td><td>0.05580038</td></tr>\n",
       "\t<tr><th scope=row>X14</th><td>4 </td><td>oui</td><td>NonFallacieux</td><td>AccordA    </td><td>1</td><td>730</td><td>4.456164</td><td>1.582265</td><td>5</td><td>4.582192</td><td>1.4826</td><td>1</td><td>7</td><td>6</td><td>-0.56918002</td><td>-0.42848978</td><td>0.05856226</td></tr>\n",
       "\t<tr><th scope=row>X15</th><td>5 </td><td>non</td><td>Fallacieux   </td><td>AccordB    </td><td>1</td><td>730</td><td>4.664384</td><td>1.455689</td><td>5</td><td>4.835616</td><td>1.4826</td><td>1</td><td>7</td><td>6</td><td>-0.82070011</td><td> 0.12661875</td><td>0.05387748</td></tr>\n",
       "\t<tr><th scope=row>X16</th><td>6 </td><td>oui</td><td>Fallacieux   </td><td>AccordB    </td><td>1</td><td>730</td><td>4.679452</td><td>1.451073</td><td>5</td><td>4.856164</td><td>1.4826</td><td>1</td><td>7</td><td>6</td><td>-0.84998495</td><td> 0.18523950</td><td>0.05370662</td></tr>\n",
       "\t<tr><th scope=row>X17</th><td>7 </td><td>non</td><td>NonFallacieux</td><td>AccordB    </td><td>1</td><td>730</td><td>4.723288</td><td>1.444019</td><td>5</td><td>4.914384</td><td>1.4826</td><td>1</td><td>7</td><td>6</td><td>-0.93019697</td><td> 0.32012188</td><td>0.05344554</td></tr>\n",
       "\t<tr><th scope=row>X18</th><td>8 </td><td>oui</td><td>NonFallacieux</td><td>AccordB    </td><td>1</td><td>730</td><td>4.808219</td><td>1.391307</td><td>5</td><td>4.984589</td><td>1.4826</td><td>1</td><td>7</td><td>6</td><td>-1.01064021</td><td> 0.67094585</td><td>0.05149458</td></tr>\n",
       "\t<tr><th scope=row>X19</th><td>9 </td><td>non</td><td>Fallacieux   </td><td>Decoulement</td><td>1</td><td>730</td><td>3.995890</td><td>1.319365</td><td>4</td><td>4.027397</td><td>1.4826</td><td>1</td><td>7</td><td>6</td><td>-0.27875915</td><td>-0.28154445</td><td>0.04883189</td></tr>\n",
       "\t<tr><th scope=row>X110</th><td>10</td><td>oui</td><td>Fallacieux   </td><td>Decoulement</td><td>1</td><td>730</td><td>3.860274</td><td>1.395539</td><td>4</td><td>3.892123</td><td>1.4826</td><td>1</td><td>7</td><td>6</td><td>-0.23733571</td><td>-0.48329410</td><td>0.05165120</td></tr>\n",
       "\t<tr><th scope=row>X111</th><td>11</td><td>non</td><td>NonFallacieux</td><td>Decoulement</td><td>1</td><td>730</td><td>4.383562</td><td>1.331585</td><td>4</td><td>4.505137</td><td>1.4826</td><td>1</td><td>7</td><td>6</td><td>-0.58864530</td><td>-0.17142807</td><td>0.04928416</td></tr>\n",
       "\t<tr><th scope=row>X112</th><td>12</td><td>oui</td><td>NonFallacieux</td><td>Decoulement</td><td>1</td><td>730</td><td>4.334247</td><td>1.351950</td><td>4</td><td>4.445205</td><td>1.4826</td><td>1</td><td>7</td><td>6</td><td>-0.55400607</td><td>-0.06740391</td><td>0.05003792</td></tr>\n",
       "\t<tr><th scope=row>X113</th><td>13</td><td>non</td><td>Fallacieux   </td><td>Proportion </td><td>1</td><td>730</td><td>3.579452</td><td>1.486977</td><td>4</td><td>3.566781</td><td>1.4826</td><td>1</td><td>7</td><td>6</td><td> 0.04955121</td><td>-0.73273253</td><td>0.05503548</td></tr>\n",
       "\t<tr><th scope=row>X114</th><td>14</td><td>oui</td><td>Fallacieux   </td><td>Proportion </td><td>1</td><td>730</td><td>3.469863</td><td>1.486951</td><td>3</td><td>3.446918</td><td>1.4826</td><td>1</td><td>7</td><td>6</td><td> 0.11718601</td><td>-0.72081018</td><td>0.05503454</td></tr>\n",
       "\t<tr><th scope=row>X115</th><td>15</td><td>non</td><td>NonFallacieux</td><td>Proportion </td><td>1</td><td>730</td><td>4.350685</td><td>1.261558</td><td>4</td><td>4.434932</td><td>1.4826</td><td>1</td><td>7</td><td>6</td><td>-0.40533759</td><td>-0.28499149</td><td>0.04669236</td></tr>\n",
       "\t<tr><th scope=row>X116</th><td>16</td><td>oui</td><td>NonFallacieux</td><td>Proportion </td><td>1</td><td>730</td><td>4.295890</td><td>1.347704</td><td>4</td><td>4.386986</td><td>1.4826</td><td>1</td><td>7</td><td>6</td><td>-0.42657916</td><td>-0.26729172</td><td>0.04988077</td></tr>\n",
       "</tbody>\n",
       "</table>\n"
      ],
      "text/latex": [
       "A data.frame: 16 × 17\n",
       "\\begin{tabular}{r|lllllllllllllllll}\n",
       "  & item & group1 & group2 & group3 & vars & n & mean & sd & median & trimmed & mad & min & max & range & skew & kurtosis & se\\\\\n",
       "  & <fct> & <fct> & <fct> & <fct> & <dbl> & <dbl> & <dbl> & <dbl> & <dbl> & <dbl> & <dbl> & <dbl> & <dbl> & <dbl> & <dbl> & <dbl> & <dbl>\\\\\n",
       "\\hline\n",
       "\tX11 & 1  & non & Fallacieux    & AccordA     & 1 & 730 & 3.641096 & 1.730849 & 4 & 3.614726 & 1.4826 & 1 & 7 & 6 &  0.14721491 & -0.99292114 & 0.06406161\\\\\n",
       "\tX12 & 2  & oui & Fallacieux    & AccordA     & 1 & 730 & 3.616438 & 1.739007 & 4 & 3.575342 & 1.4826 & 1 & 7 & 6 &  0.17191534 & -0.92834493 & 0.06436355\\\\\n",
       "\tX13 & 3  & non & NonFallacieux & AccordA     & 1 & 730 & 4.454795 & 1.507643 & 5 & 4.592466 & 1.4826 & 1 & 7 & 6 & -0.62818296 & -0.37211166 & 0.05580038\\\\\n",
       "\tX14 & 4  & oui & NonFallacieux & AccordA     & 1 & 730 & 4.456164 & 1.582265 & 5 & 4.582192 & 1.4826 & 1 & 7 & 6 & -0.56918002 & -0.42848978 & 0.05856226\\\\\n",
       "\tX15 & 5  & non & Fallacieux    & AccordB     & 1 & 730 & 4.664384 & 1.455689 & 5 & 4.835616 & 1.4826 & 1 & 7 & 6 & -0.82070011 &  0.12661875 & 0.05387748\\\\\n",
       "\tX16 & 6  & oui & Fallacieux    & AccordB     & 1 & 730 & 4.679452 & 1.451073 & 5 & 4.856164 & 1.4826 & 1 & 7 & 6 & -0.84998495 &  0.18523950 & 0.05370662\\\\\n",
       "\tX17 & 7  & non & NonFallacieux & AccordB     & 1 & 730 & 4.723288 & 1.444019 & 5 & 4.914384 & 1.4826 & 1 & 7 & 6 & -0.93019697 &  0.32012188 & 0.05344554\\\\\n",
       "\tX18 & 8  & oui & NonFallacieux & AccordB     & 1 & 730 & 4.808219 & 1.391307 & 5 & 4.984589 & 1.4826 & 1 & 7 & 6 & -1.01064021 &  0.67094585 & 0.05149458\\\\\n",
       "\tX19 & 9  & non & Fallacieux    & Decoulement & 1 & 730 & 3.995890 & 1.319365 & 4 & 4.027397 & 1.4826 & 1 & 7 & 6 & -0.27875915 & -0.28154445 & 0.04883189\\\\\n",
       "\tX110 & 10 & oui & Fallacieux    & Decoulement & 1 & 730 & 3.860274 & 1.395539 & 4 & 3.892123 & 1.4826 & 1 & 7 & 6 & -0.23733571 & -0.48329410 & 0.05165120\\\\\n",
       "\tX111 & 11 & non & NonFallacieux & Decoulement & 1 & 730 & 4.383562 & 1.331585 & 4 & 4.505137 & 1.4826 & 1 & 7 & 6 & -0.58864530 & -0.17142807 & 0.04928416\\\\\n",
       "\tX112 & 12 & oui & NonFallacieux & Decoulement & 1 & 730 & 4.334247 & 1.351950 & 4 & 4.445205 & 1.4826 & 1 & 7 & 6 & -0.55400607 & -0.06740391 & 0.05003792\\\\\n",
       "\tX113 & 13 & non & Fallacieux    & Proportion  & 1 & 730 & 3.579452 & 1.486977 & 4 & 3.566781 & 1.4826 & 1 & 7 & 6 &  0.04955121 & -0.73273253 & 0.05503548\\\\\n",
       "\tX114 & 14 & oui & Fallacieux    & Proportion  & 1 & 730 & 3.469863 & 1.486951 & 3 & 3.446918 & 1.4826 & 1 & 7 & 6 &  0.11718601 & -0.72081018 & 0.05503454\\\\\n",
       "\tX115 & 15 & non & NonFallacieux & Proportion  & 1 & 730 & 4.350685 & 1.261558 & 4 & 4.434932 & 1.4826 & 1 & 7 & 6 & -0.40533759 & -0.28499149 & 0.04669236\\\\\n",
       "\tX116 & 16 & oui & NonFallacieux & Proportion  & 1 & 730 & 4.295890 & 1.347704 & 4 & 4.386986 & 1.4826 & 1 & 7 & 6 & -0.42657916 & -0.26729172 & 0.04988077\\\\\n",
       "\\end{tabular}\n"
      ],
      "text/markdown": [
       "\n",
       "A data.frame: 16 × 17\n",
       "\n",
       "| <!--/--> | item &lt;fct&gt; | group1 &lt;fct&gt; | group2 &lt;fct&gt; | group3 &lt;fct&gt; | vars &lt;dbl&gt; | n &lt;dbl&gt; | mean &lt;dbl&gt; | sd &lt;dbl&gt; | median &lt;dbl&gt; | trimmed &lt;dbl&gt; | mad &lt;dbl&gt; | min &lt;dbl&gt; | max &lt;dbl&gt; | range &lt;dbl&gt; | skew &lt;dbl&gt; | kurtosis &lt;dbl&gt; | se &lt;dbl&gt; |\n",
       "|---|---|---|---|---|---|---|---|---|---|---|---|---|---|---|---|---|---|\n",
       "| X11 | 1  | non | Fallacieux    | AccordA     | 1 | 730 | 3.641096 | 1.730849 | 4 | 3.614726 | 1.4826 | 1 | 7 | 6 |  0.14721491 | -0.99292114 | 0.06406161 |\n",
       "| X12 | 2  | oui | Fallacieux    | AccordA     | 1 | 730 | 3.616438 | 1.739007 | 4 | 3.575342 | 1.4826 | 1 | 7 | 6 |  0.17191534 | -0.92834493 | 0.06436355 |\n",
       "| X13 | 3  | non | NonFallacieux | AccordA     | 1 | 730 | 4.454795 | 1.507643 | 5 | 4.592466 | 1.4826 | 1 | 7 | 6 | -0.62818296 | -0.37211166 | 0.05580038 |\n",
       "| X14 | 4  | oui | NonFallacieux | AccordA     | 1 | 730 | 4.456164 | 1.582265 | 5 | 4.582192 | 1.4826 | 1 | 7 | 6 | -0.56918002 | -0.42848978 | 0.05856226 |\n",
       "| X15 | 5  | non | Fallacieux    | AccordB     | 1 | 730 | 4.664384 | 1.455689 | 5 | 4.835616 | 1.4826 | 1 | 7 | 6 | -0.82070011 |  0.12661875 | 0.05387748 |\n",
       "| X16 | 6  | oui | Fallacieux    | AccordB     | 1 | 730 | 4.679452 | 1.451073 | 5 | 4.856164 | 1.4826 | 1 | 7 | 6 | -0.84998495 |  0.18523950 | 0.05370662 |\n",
       "| X17 | 7  | non | NonFallacieux | AccordB     | 1 | 730 | 4.723288 | 1.444019 | 5 | 4.914384 | 1.4826 | 1 | 7 | 6 | -0.93019697 |  0.32012188 | 0.05344554 |\n",
       "| X18 | 8  | oui | NonFallacieux | AccordB     | 1 | 730 | 4.808219 | 1.391307 | 5 | 4.984589 | 1.4826 | 1 | 7 | 6 | -1.01064021 |  0.67094585 | 0.05149458 |\n",
       "| X19 | 9  | non | Fallacieux    | Decoulement | 1 | 730 | 3.995890 | 1.319365 | 4 | 4.027397 | 1.4826 | 1 | 7 | 6 | -0.27875915 | -0.28154445 | 0.04883189 |\n",
       "| X110 | 10 | oui | Fallacieux    | Decoulement | 1 | 730 | 3.860274 | 1.395539 | 4 | 3.892123 | 1.4826 | 1 | 7 | 6 | -0.23733571 | -0.48329410 | 0.05165120 |\n",
       "| X111 | 11 | non | NonFallacieux | Decoulement | 1 | 730 | 4.383562 | 1.331585 | 4 | 4.505137 | 1.4826 | 1 | 7 | 6 | -0.58864530 | -0.17142807 | 0.04928416 |\n",
       "| X112 | 12 | oui | NonFallacieux | Decoulement | 1 | 730 | 4.334247 | 1.351950 | 4 | 4.445205 | 1.4826 | 1 | 7 | 6 | -0.55400607 | -0.06740391 | 0.05003792 |\n",
       "| X113 | 13 | non | Fallacieux    | Proportion  | 1 | 730 | 3.579452 | 1.486977 | 4 | 3.566781 | 1.4826 | 1 | 7 | 6 |  0.04955121 | -0.73273253 | 0.05503548 |\n",
       "| X114 | 14 | oui | Fallacieux    | Proportion  | 1 | 730 | 3.469863 | 1.486951 | 3 | 3.446918 | 1.4826 | 1 | 7 | 6 |  0.11718601 | -0.72081018 | 0.05503454 |\n",
       "| X115 | 15 | non | NonFallacieux | Proportion  | 1 | 730 | 4.350685 | 1.261558 | 4 | 4.434932 | 1.4826 | 1 | 7 | 6 | -0.40533759 | -0.28499149 | 0.04669236 |\n",
       "| X116 | 16 | oui | NonFallacieux | Proportion  | 1 | 730 | 4.295890 | 1.347704 | 4 | 4.386986 | 1.4826 | 1 | 7 | 6 | -0.42657916 | -0.26729172 | 0.04988077 |\n",
       "\n"
      ],
      "text/plain": [
       "     item group1 group2        group3      vars n   mean     sd       median\n",
       "X11  1    non    Fallacieux    AccordA     1    730 3.641096 1.730849 4     \n",
       "X12  2    oui    Fallacieux    AccordA     1    730 3.616438 1.739007 4     \n",
       "X13  3    non    NonFallacieux AccordA     1    730 4.454795 1.507643 5     \n",
       "X14  4    oui    NonFallacieux AccordA     1    730 4.456164 1.582265 5     \n",
       "X15  5    non    Fallacieux    AccordB     1    730 4.664384 1.455689 5     \n",
       "X16  6    oui    Fallacieux    AccordB     1    730 4.679452 1.451073 5     \n",
       "X17  7    non    NonFallacieux AccordB     1    730 4.723288 1.444019 5     \n",
       "X18  8    oui    NonFallacieux AccordB     1    730 4.808219 1.391307 5     \n",
       "X19  9    non    Fallacieux    Decoulement 1    730 3.995890 1.319365 4     \n",
       "X110 10   oui    Fallacieux    Decoulement 1    730 3.860274 1.395539 4     \n",
       "X111 11   non    NonFallacieux Decoulement 1    730 4.383562 1.331585 4     \n",
       "X112 12   oui    NonFallacieux Decoulement 1    730 4.334247 1.351950 4     \n",
       "X113 13   non    Fallacieux    Proportion  1    730 3.579452 1.486977 4     \n",
       "X114 14   oui    Fallacieux    Proportion  1    730 3.469863 1.486951 3     \n",
       "X115 15   non    NonFallacieux Proportion  1    730 4.350685 1.261558 4     \n",
       "X116 16   oui    NonFallacieux Proportion  1    730 4.295890 1.347704 4     \n",
       "     trimmed  mad    min max range skew        kurtosis    se        \n",
       "X11  3.614726 1.4826 1   7   6      0.14721491 -0.99292114 0.06406161\n",
       "X12  3.575342 1.4826 1   7   6      0.17191534 -0.92834493 0.06436355\n",
       "X13  4.592466 1.4826 1   7   6     -0.62818296 -0.37211166 0.05580038\n",
       "X14  4.582192 1.4826 1   7   6     -0.56918002 -0.42848978 0.05856226\n",
       "X15  4.835616 1.4826 1   7   6     -0.82070011  0.12661875 0.05387748\n",
       "X16  4.856164 1.4826 1   7   6     -0.84998495  0.18523950 0.05370662\n",
       "X17  4.914384 1.4826 1   7   6     -0.93019697  0.32012188 0.05344554\n",
       "X18  4.984589 1.4826 1   7   6     -1.01064021  0.67094585 0.05149458\n",
       "X19  4.027397 1.4826 1   7   6     -0.27875915 -0.28154445 0.04883189\n",
       "X110 3.892123 1.4826 1   7   6     -0.23733571 -0.48329410 0.05165120\n",
       "X111 4.505137 1.4826 1   7   6     -0.58864530 -0.17142807 0.04928416\n",
       "X112 4.445205 1.4826 1   7   6     -0.55400607 -0.06740391 0.05003792\n",
       "X113 3.566781 1.4826 1   7   6      0.04955121 -0.73273253 0.05503548\n",
       "X114 3.446918 1.4826 1   7   6      0.11718601 -0.72081018 0.05503454\n",
       "X115 4.434932 1.4826 1   7   6     -0.40533759 -0.28499149 0.04669236\n",
       "X116 4.386986 1.4826 1   7   6     -0.42657916 -0.26729172 0.04988077"
      ]
     },
     "metadata": {},
     "output_type": "display_data"
    }
   ],
   "source": [
    "describeBy(DB_cleaned,list(DB_cleaned$\"Type Question\", DB_cleaned$\"Condition\",DB_cleaned$\"Presence Connecteur\"))\n",
    "#describeBy(DB_cleaned$Valeur,list(DB_cleaned$\"Type Question\", DB_cleaned$\"Condition\",DB_cleaned$\"Presence Connecteur\"))\n",
    "#describeBy(DB_cleaned$Valeur,list(DB_cleaned$\"Type Question\", DB_cleaned$\"Condition\",DB_cleaned$\"Presence Connecteur\"),mat=TRUE)\n",
    "#describeBy(DB_cleaned$Valeur,list(DB_cleaned$\"Presence Connecteur\", DB_cleaned$\"Condition\", DB_cleaned$\"Type Question\"),mat=TRUE)"
   ]
  },
  {
   "cell_type": "markdown",
   "metadata": {},
   "source": [
    "Do our results match the ones from the article?"
   ]
  },
  {
   "cell_type": "markdown",
   "metadata": {},
   "source": [
    "Let's double check. Find another way to provide the desired descriptive statistics.\n",
    "* First we will have to group the answers with respect to the \"Type Question\" and with respect to the \"Condition\" and \"Presence Connecteur\". \n",
    "* Then we calculate the mean and standard deviation."
   ]
  },
  {
   "cell_type": "code",
   "execution_count": 222,
   "metadata": {
    "collapsed": true,
    "jupyter": {
     "outputs_hidden": true
    }
   },
   "outputs": [
    {
     "data": {
      "text/html": [
       "<table>\n",
       "<caption>A tibble: 2 × 3</caption>\n",
       "<thead>\n",
       "\t<tr><th scope=col>Condition</th><th scope=col>mean_valeur</th><th scope=col>sd_valeur</th></tr>\n",
       "\t<tr><th scope=col>&lt;chr&gt;</th><th scope=col>&lt;dbl&gt;</th><th scope=col>&lt;dbl&gt;</th></tr>\n",
       "</thead>\n",
       "<tbody>\n",
       "\t<tr><td>Fallacieux   </td><td>3.938356</td><td>1.579530</td></tr>\n",
       "\t<tr><td>NonFallacieux</td><td>4.475856</td><td>1.415823</td></tr>\n",
       "</tbody>\n",
       "</table>\n"
      ],
      "text/latex": [
       "A tibble: 2 × 3\n",
       "\\begin{tabular}{r|lll}\n",
       " Condition & mean\\_valeur & sd\\_valeur\\\\\n",
       " <chr> & <dbl> & <dbl>\\\\\n",
       "\\hline\n",
       "\t Fallacieux    & 3.938356 & 1.579530\\\\\n",
       "\t NonFallacieux & 4.475856 & 1.415823\\\\\n",
       "\\end{tabular}\n"
      ],
      "text/markdown": [
       "\n",
       "A tibble: 2 × 3\n",
       "\n",
       "| Condition &lt;chr&gt; | mean_valeur &lt;dbl&gt; | sd_valeur &lt;dbl&gt; |\n",
       "|---|---|---|\n",
       "| Fallacieux    | 3.938356 | 1.579530 |\n",
       "| NonFallacieux | 4.475856 | 1.415823 |\n",
       "\n"
      ],
      "text/plain": [
       "  Condition     mean_valeur sd_valeur\n",
       "1 Fallacieux    3.938356    1.579530 \n",
       "2 NonFallacieux 4.475856    1.415823 "
      ]
     },
     "metadata": {},
     "output_type": "display_data"
    },
    {
     "data": {
      "text/html": [
       "<table>\n",
       "<caption>A grouped_df: 2 × 4</caption>\n",
       "<thead>\n",
       "\t<tr><th scope=col>\"Type Question\"</th><th scope=col>Condition</th><th scope=col>mean_valeur</th><th scope=col>sd_valeur</th></tr>\n",
       "\t<tr><th scope=col>&lt;chr&gt;</th><th scope=col>&lt;chr&gt;</th><th scope=col>&lt;dbl&gt;</th><th scope=col>&lt;dbl&gt;</th></tr>\n",
       "</thead>\n",
       "<tbody>\n",
       "\t<tr><td>Type Question</td><td>Fallacieux   </td><td>3.938356</td><td>1.579530</td></tr>\n",
       "\t<tr><td>Type Question</td><td>NonFallacieux</td><td>4.475856</td><td>1.415823</td></tr>\n",
       "</tbody>\n",
       "</table>\n"
      ],
      "text/latex": [
       "A grouped_df: 2 × 4\n",
       "\\begin{tabular}{r|llll}\n",
       " \"Type Question\" & Condition & mean\\_valeur & sd\\_valeur\\\\\n",
       " <chr> & <chr> & <dbl> & <dbl>\\\\\n",
       "\\hline\n",
       "\t Type Question & Fallacieux    & 3.938356 & 1.579530\\\\\n",
       "\t Type Question & NonFallacieux & 4.475856 & 1.415823\\\\\n",
       "\\end{tabular}\n"
      ],
      "text/markdown": [
       "\n",
       "A grouped_df: 2 × 4\n",
       "\n",
       "| \"Type Question\" &lt;chr&gt; | Condition &lt;chr&gt; | mean_valeur &lt;dbl&gt; | sd_valeur &lt;dbl&gt; |\n",
       "|---|---|---|---|\n",
       "| Type Question | Fallacieux    | 3.938356 | 1.579530 |\n",
       "| Type Question | NonFallacieux | 4.475856 | 1.415823 |\n",
       "\n"
      ],
      "text/plain": [
       "  \"Type Question\" Condition     mean_valeur sd_valeur\n",
       "1 Type Question   Fallacieux    3.938356    1.579530 \n",
       "2 Type Question   NonFallacieux 4.475856    1.415823 "
      ]
     },
     "metadata": {},
     "output_type": "display_data"
    },
    {
     "data": {
      "text/html": [
       "<table>\n",
       "<caption>A grouped_df: 2 × 5</caption>\n",
       "<thead>\n",
       "\t<tr><th scope=col>\"Type Question\"</th><th scope=col>Condition</th><th scope=col>\"Presence Connecteur\"</th><th scope=col>mean_valeur</th><th scope=col>sd_valeur</th></tr>\n",
       "\t<tr><th scope=col>&lt;chr&gt;</th><th scope=col>&lt;chr&gt;</th><th scope=col>&lt;chr&gt;</th><th scope=col>&lt;dbl&gt;</th><th scope=col>&lt;dbl&gt;</th></tr>\n",
       "</thead>\n",
       "<tbody>\n",
       "\t<tr><td>Type Question</td><td>Fallacieux   </td><td>Presence Connecteur</td><td>3.938356</td><td>1.579530</td></tr>\n",
       "\t<tr><td>Type Question</td><td>NonFallacieux</td><td>Presence Connecteur</td><td>4.475856</td><td>1.415823</td></tr>\n",
       "</tbody>\n",
       "</table>\n"
      ],
      "text/latex": [
       "A grouped_df: 2 × 5\n",
       "\\begin{tabular}{r|lllll}\n",
       " \"Type Question\" & Condition & \"Presence Connecteur\" & mean\\_valeur & sd\\_valeur\\\\\n",
       " <chr> & <chr> & <chr> & <dbl> & <dbl>\\\\\n",
       "\\hline\n",
       "\t Type Question & Fallacieux    & Presence Connecteur & 3.938356 & 1.579530\\\\\n",
       "\t Type Question & NonFallacieux & Presence Connecteur & 4.475856 & 1.415823\\\\\n",
       "\\end{tabular}\n"
      ],
      "text/markdown": [
       "\n",
       "A grouped_df: 2 × 5\n",
       "\n",
       "| \"Type Question\" &lt;chr&gt; | Condition &lt;chr&gt; | \"Presence Connecteur\" &lt;chr&gt; | mean_valeur &lt;dbl&gt; | sd_valeur &lt;dbl&gt; |\n",
       "|---|---|---|---|---|\n",
       "| Type Question | Fallacieux    | Presence Connecteur | 3.938356 | 1.579530 |\n",
       "| Type Question | NonFallacieux | Presence Connecteur | 4.475856 | 1.415823 |\n",
       "\n"
      ],
      "text/plain": [
       "  \"Type Question\" Condition     \"Presence Connecteur\" mean_valeur sd_valeur\n",
       "1 Type Question   Fallacieux    Presence Connecteur   3.938356    1.579530 \n",
       "2 Type Question   NonFallacieux Presence Connecteur   4.475856    1.415823 "
      ]
     },
     "metadata": {},
     "output_type": "display_data"
    }
   ],
   "source": [
    "DB_cleaned %>%\n",
    "  group_by(Condition) %>%\n",
    "  summarize(mean_valeur = mean(Valeur,na.rm=TRUE),\n",
    "            sd_valeur = sd(Valeur,na.rm=TRUE))\n",
    "\n",
    "DB_cleaned %>%\n",
    "  group_by(\"Type Question\", Condition) %>%\n",
    "  summarize(mean_valeur = mean(Valeur,na.rm=TRUE),\n",
    "            sd_valeur = sd(Valeur,na.rm=TRUE))\n",
    "\n",
    "DB_cleaned %>%\n",
    "  group_by(\"Type Question\", Condition, \"Presence Connecteur\") %>%\n",
    "  summarize(mean_valeur = mean(Valeur,na.rm=TRUE),\n",
    "            sd_valeur = sd(Valeur,na.rm=TRUE))"
   ]
  },
  {
   "cell_type": "code",
   "execution_count": 230,
   "metadata": {
    "collapsed": true,
    "jupyter": {
     "outputs_hidden": true
    }
   },
   "outputs": [
    {
     "data": {
      "text/html": [
       "<table>\n",
       "<caption>A grouped_df: 16 × 5</caption>\n",
       "<thead>\n",
       "\t<tr><th scope=col>Type Question</th><th scope=col>Condition</th><th scope=col>Presence Connecteur</th><th scope=col>mean_valeur</th><th scope=col>sd_valeur</th></tr>\n",
       "\t<tr><th scope=col>&lt;chr&gt;</th><th scope=col>&lt;chr&gt;</th><th scope=col>&lt;chr&gt;</th><th scope=col>&lt;dbl&gt;</th><th scope=col>&lt;dbl&gt;</th></tr>\n",
       "</thead>\n",
       "<tbody>\n",
       "\t<tr><td>AccordA    </td><td>Fallacieux   </td><td>non</td><td>3.641096</td><td>1.730849</td></tr>\n",
       "\t<tr><td>AccordA    </td><td>Fallacieux   </td><td>oui</td><td>3.616438</td><td>1.739007</td></tr>\n",
       "\t<tr><td>AccordA    </td><td>NonFallacieux</td><td>non</td><td>4.454795</td><td>1.507643</td></tr>\n",
       "\t<tr><td>AccordA    </td><td>NonFallacieux</td><td>oui</td><td>4.456164</td><td>1.582265</td></tr>\n",
       "\t<tr><td>AccordB    </td><td>Fallacieux   </td><td>non</td><td>4.664384</td><td>1.455689</td></tr>\n",
       "\t<tr><td>AccordB    </td><td>Fallacieux   </td><td>oui</td><td>4.679452</td><td>1.451073</td></tr>\n",
       "\t<tr><td>AccordB    </td><td>NonFallacieux</td><td>non</td><td>4.723288</td><td>1.444019</td></tr>\n",
       "\t<tr><td>AccordB    </td><td>NonFallacieux</td><td>oui</td><td>4.808219</td><td>1.391307</td></tr>\n",
       "\t<tr><td>Decoulement</td><td>Fallacieux   </td><td>non</td><td>3.995890</td><td>1.319365</td></tr>\n",
       "\t<tr><td>Decoulement</td><td>Fallacieux   </td><td>oui</td><td>3.860274</td><td>1.395539</td></tr>\n",
       "\t<tr><td>Decoulement</td><td>NonFallacieux</td><td>non</td><td>4.383562</td><td>1.331585</td></tr>\n",
       "\t<tr><td>Decoulement</td><td>NonFallacieux</td><td>oui</td><td>4.334247</td><td>1.351950</td></tr>\n",
       "\t<tr><td>Proportion </td><td>Fallacieux   </td><td>non</td><td>3.579452</td><td>1.486977</td></tr>\n",
       "\t<tr><td>Proportion </td><td>Fallacieux   </td><td>oui</td><td>3.469863</td><td>1.486951</td></tr>\n",
       "\t<tr><td>Proportion </td><td>NonFallacieux</td><td>non</td><td>4.350685</td><td>1.261558</td></tr>\n",
       "\t<tr><td>Proportion </td><td>NonFallacieux</td><td>oui</td><td>4.295890</td><td>1.347704</td></tr>\n",
       "</tbody>\n",
       "</table>\n"
      ],
      "text/latex": [
       "A grouped_df: 16 × 5\n",
       "\\begin{tabular}{r|lllll}\n",
       " Type Question & Condition & Presence Connecteur & mean\\_valeur & sd\\_valeur\\\\\n",
       " <chr> & <chr> & <chr> & <dbl> & <dbl>\\\\\n",
       "\\hline\n",
       "\t AccordA     & Fallacieux    & non & 3.641096 & 1.730849\\\\\n",
       "\t AccordA     & Fallacieux    & oui & 3.616438 & 1.739007\\\\\n",
       "\t AccordA     & NonFallacieux & non & 4.454795 & 1.507643\\\\\n",
       "\t AccordA     & NonFallacieux & oui & 4.456164 & 1.582265\\\\\n",
       "\t AccordB     & Fallacieux    & non & 4.664384 & 1.455689\\\\\n",
       "\t AccordB     & Fallacieux    & oui & 4.679452 & 1.451073\\\\\n",
       "\t AccordB     & NonFallacieux & non & 4.723288 & 1.444019\\\\\n",
       "\t AccordB     & NonFallacieux & oui & 4.808219 & 1.391307\\\\\n",
       "\t Decoulement & Fallacieux    & non & 3.995890 & 1.319365\\\\\n",
       "\t Decoulement & Fallacieux    & oui & 3.860274 & 1.395539\\\\\n",
       "\t Decoulement & NonFallacieux & non & 4.383562 & 1.331585\\\\\n",
       "\t Decoulement & NonFallacieux & oui & 4.334247 & 1.351950\\\\\n",
       "\t Proportion  & Fallacieux    & non & 3.579452 & 1.486977\\\\\n",
       "\t Proportion  & Fallacieux    & oui & 3.469863 & 1.486951\\\\\n",
       "\t Proportion  & NonFallacieux & non & 4.350685 & 1.261558\\\\\n",
       "\t Proportion  & NonFallacieux & oui & 4.295890 & 1.347704\\\\\n",
       "\\end{tabular}\n"
      ],
      "text/markdown": [
       "\n",
       "A grouped_df: 16 × 5\n",
       "\n",
       "| Type Question &lt;chr&gt; | Condition &lt;chr&gt; | Presence Connecteur &lt;chr&gt; | mean_valeur &lt;dbl&gt; | sd_valeur &lt;dbl&gt; |\n",
       "|---|---|---|---|---|\n",
       "| AccordA     | Fallacieux    | non | 3.641096 | 1.730849 |\n",
       "| AccordA     | Fallacieux    | oui | 3.616438 | 1.739007 |\n",
       "| AccordA     | NonFallacieux | non | 4.454795 | 1.507643 |\n",
       "| AccordA     | NonFallacieux | oui | 4.456164 | 1.582265 |\n",
       "| AccordB     | Fallacieux    | non | 4.664384 | 1.455689 |\n",
       "| AccordB     | Fallacieux    | oui | 4.679452 | 1.451073 |\n",
       "| AccordB     | NonFallacieux | non | 4.723288 | 1.444019 |\n",
       "| AccordB     | NonFallacieux | oui | 4.808219 | 1.391307 |\n",
       "| Decoulement | Fallacieux    | non | 3.995890 | 1.319365 |\n",
       "| Decoulement | Fallacieux    | oui | 3.860274 | 1.395539 |\n",
       "| Decoulement | NonFallacieux | non | 4.383562 | 1.331585 |\n",
       "| Decoulement | NonFallacieux | oui | 4.334247 | 1.351950 |\n",
       "| Proportion  | Fallacieux    | non | 3.579452 | 1.486977 |\n",
       "| Proportion  | Fallacieux    | oui | 3.469863 | 1.486951 |\n",
       "| Proportion  | NonFallacieux | non | 4.350685 | 1.261558 |\n",
       "| Proportion  | NonFallacieux | oui | 4.295890 | 1.347704 |\n",
       "\n"
      ],
      "text/plain": [
       "   Type Question Condition     Presence Connecteur mean_valeur sd_valeur\n",
       "1  AccordA       Fallacieux    non                 3.641096    1.730849 \n",
       "2  AccordA       Fallacieux    oui                 3.616438    1.739007 \n",
       "3  AccordA       NonFallacieux non                 4.454795    1.507643 \n",
       "4  AccordA       NonFallacieux oui                 4.456164    1.582265 \n",
       "5  AccordB       Fallacieux    non                 4.664384    1.455689 \n",
       "6  AccordB       Fallacieux    oui                 4.679452    1.451073 \n",
       "7  AccordB       NonFallacieux non                 4.723288    1.444019 \n",
       "8  AccordB       NonFallacieux oui                 4.808219    1.391307 \n",
       "9  Decoulement   Fallacieux    non                 3.995890    1.319365 \n",
       "10 Decoulement   Fallacieux    oui                 3.860274    1.395539 \n",
       "11 Decoulement   NonFallacieux non                 4.383562    1.331585 \n",
       "12 Decoulement   NonFallacieux oui                 4.334247    1.351950 \n",
       "13 Proportion    Fallacieux    non                 3.579452    1.486977 \n",
       "14 Proportion    Fallacieux    oui                 3.469863    1.486951 \n",
       "15 Proportion    NonFallacieux non                 4.350685    1.261558 \n",
       "16 Proportion    NonFallacieux oui                 4.295890    1.347704 "
      ]
     },
     "metadata": {},
     "output_type": "display_data"
    }
   ],
   "source": [
    "DB_cleaned %>%\n",
    "  group_by_at(c(\"Type Question\",\"Condition\",\"Presence Connecteur\")) %>%\n",
    "  summarize(mean_valeur = mean(Valeur,na.rm=TRUE),\n",
    "            sd_valeur = sd(Valeur,na.rm=TRUE))"
   ]
  },
  {
   "cell_type": "code",
   "execution_count": 233,
   "metadata": {
    "collapsed": true,
    "jupyter": {
     "outputs_hidden": true
    }
   },
   "outputs": [],
   "source": [
    "DB_cleaned2 <- DB_cleaned[DB_cleaned$Valeur<7,]"
   ]
  },
  {
   "cell_type": "code",
   "execution_count": 234,
   "metadata": {
    "collapsed": true,
    "jupyter": {
     "outputs_hidden": true
    }
   },
   "outputs": [
    {
     "data": {
      "text/html": [
       "<table>\n",
       "<caption>A tibble: 6 × 6</caption>\n",
       "<thead>\n",
       "\t<tr><th scope=col>Participant ID</th><th scope=col>Valeur</th><th scope=col>Item</th><th scope=col>Condition</th><th scope=col>Presence Connecteur</th><th scope=col>Type Question</th></tr>\n",
       "\t<tr><th scope=col>&lt;dbl&gt;</th><th scope=col>&lt;dbl&gt;</th><th scope=col>&lt;dbl&gt;</th><th scope=col>&lt;chr&gt;</th><th scope=col>&lt;chr&gt;</th><th scope=col>&lt;chr&gt;</th></tr>\n",
       "</thead>\n",
       "<tbody>\n",
       "\t<tr><td>1</td><td>5</td><td>1</td><td>Fallacieux</td><td>oui</td><td>Proportion </td></tr>\n",
       "\t<tr><td>1</td><td>5</td><td>1</td><td>Fallacieux</td><td>oui</td><td>Decoulement</td></tr>\n",
       "\t<tr><td>1</td><td>5</td><td>1</td><td>Fallacieux</td><td>oui</td><td>AccordA    </td></tr>\n",
       "\t<tr><td>1</td><td>4</td><td>1</td><td>Fallacieux</td><td>oui</td><td>AccordB    </td></tr>\n",
       "\t<tr><td>1</td><td>2</td><td>2</td><td>Fallacieux</td><td>non</td><td>Proportion </td></tr>\n",
       "\t<tr><td>1</td><td>4</td><td>2</td><td>Fallacieux</td><td>non</td><td>Decoulement</td></tr>\n",
       "</tbody>\n",
       "</table>\n"
      ],
      "text/latex": [
       "A tibble: 6 × 6\n",
       "\\begin{tabular}{r|llllll}\n",
       " Participant ID & Valeur & Item & Condition & Presence Connecteur & Type Question\\\\\n",
       " <dbl> & <dbl> & <dbl> & <chr> & <chr> & <chr>\\\\\n",
       "\\hline\n",
       "\t 1 & 5 & 1 & Fallacieux & oui & Proportion \\\\\n",
       "\t 1 & 5 & 1 & Fallacieux & oui & Decoulement\\\\\n",
       "\t 1 & 5 & 1 & Fallacieux & oui & AccordA    \\\\\n",
       "\t 1 & 4 & 1 & Fallacieux & oui & AccordB    \\\\\n",
       "\t 1 & 2 & 2 & Fallacieux & non & Proportion \\\\\n",
       "\t 1 & 4 & 2 & Fallacieux & non & Decoulement\\\\\n",
       "\\end{tabular}\n"
      ],
      "text/markdown": [
       "\n",
       "A tibble: 6 × 6\n",
       "\n",
       "| Participant ID &lt;dbl&gt; | Valeur &lt;dbl&gt; | Item &lt;dbl&gt; | Condition &lt;chr&gt; | Presence Connecteur &lt;chr&gt; | Type Question &lt;chr&gt; |\n",
       "|---|---|---|---|---|---|\n",
       "| 1 | 5 | 1 | Fallacieux | oui | Proportion  |\n",
       "| 1 | 5 | 1 | Fallacieux | oui | Decoulement |\n",
       "| 1 | 5 | 1 | Fallacieux | oui | AccordA     |\n",
       "| 1 | 4 | 1 | Fallacieux | oui | AccordB     |\n",
       "| 1 | 2 | 2 | Fallacieux | non | Proportion  |\n",
       "| 1 | 4 | 2 | Fallacieux | non | Decoulement |\n",
       "\n"
      ],
      "text/plain": [
       "  Participant ID Valeur Item Condition  Presence Connecteur Type Question\n",
       "1 1              5      1    Fallacieux oui                 Proportion   \n",
       "2 1              5      1    Fallacieux oui                 Decoulement  \n",
       "3 1              5      1    Fallacieux oui                 AccordA      \n",
       "4 1              4      1    Fallacieux oui                 AccordB      \n",
       "5 1              2      2    Fallacieux non                 Proportion   \n",
       "6 1              4      2    Fallacieux non                 Decoulement  "
      ]
     },
     "metadata": {},
     "output_type": "display_data"
    }
   ],
   "source": [
    "head(DB_cleaned2)"
   ]
  },
  {
   "cell_type": "code",
   "execution_count": 236,
   "metadata": {
    "collapsed": true,
    "jupyter": {
     "outputs_hidden": true
    }
   },
   "outputs": [
    {
     "data": {
      "text/plain": [
       "   Min. 1st Qu.  Median    Mean 3rd Qu.    Max. \n",
       "  1.000   3.000   4.000   4.123   5.000   6.000 "
      ]
     },
     "metadata": {},
     "output_type": "display_data"
    }
   ],
   "source": [
    "summary(DB_cleaned2$Valeur)"
   ]
  },
  {
   "cell_type": "code",
   "execution_count": 237,
   "metadata": {
    "collapsed": true,
    "jupyter": {
     "outputs_hidden": true
    }
   },
   "outputs": [
    {
     "data": {
      "text/html": [
       "<table>\n",
       "<caption>A grouped_df: 16 × 5</caption>\n",
       "<thead>\n",
       "\t<tr><th scope=col>Type Question</th><th scope=col>Condition</th><th scope=col>Presence Connecteur</th><th scope=col>mean_valeur</th><th scope=col>sd_valeur</th></tr>\n",
       "\t<tr><th scope=col>&lt;chr&gt;</th><th scope=col>&lt;chr&gt;</th><th scope=col>&lt;chr&gt;</th><th scope=col>&lt;dbl&gt;</th><th scope=col>&lt;dbl&gt;</th></tr>\n",
       "</thead>\n",
       "<tbody>\n",
       "\t<tr><td>AccordA    </td><td>Fallacieux   </td><td>non</td><td>3.466859</td><td>1.592161</td></tr>\n",
       "\t<tr><td>AccordA    </td><td>Fallacieux   </td><td>oui</td><td>3.415094</td><td>1.575283</td></tr>\n",
       "\t<tr><td>AccordA    </td><td>NonFallacieux</td><td>non</td><td>4.371994</td><td>1.459154</td></tr>\n",
       "\t<tr><td>AccordA    </td><td>NonFallacieux</td><td>oui</td><td>4.304790</td><td>1.498058</td></tr>\n",
       "\t<tr><td>AccordB    </td><td>Fallacieux   </td><td>non</td><td>4.560801</td><td>1.400044</td></tr>\n",
       "\t<tr><td>AccordB    </td><td>Fallacieux   </td><td>oui</td><td>4.580000</td><td>1.398200</td></tr>\n",
       "\t<tr><td>AccordB    </td><td>NonFallacieux</td><td>non</td><td>4.632479</td><td>1.397562</td></tr>\n",
       "\t<tr><td>AccordB    </td><td>NonFallacieux</td><td>oui</td><td>4.711016</td><td>1.341227</td></tr>\n",
       "\t<tr><td>Decoulement</td><td>Fallacieux   </td><td>non</td><td>3.954167</td><td>1.279716</td></tr>\n",
       "\t<tr><td>Decoulement</td><td>Fallacieux   </td><td>oui</td><td>3.825485</td><td>1.363285</td></tr>\n",
       "\t<tr><td>Decoulement</td><td>NonFallacieux</td><td>non</td><td>4.358230</td><td>1.312743</td></tr>\n",
       "\t<tr><td>Decoulement</td><td>NonFallacieux</td><td>oui</td><td>4.282123</td><td>1.312133</td></tr>\n",
       "\t<tr><td>Proportion </td><td>Fallacieux   </td><td>non</td><td>3.522284</td><td>1.431438</td></tr>\n",
       "\t<tr><td>Proportion </td><td>Fallacieux   </td><td>oui</td><td>3.425798</td><td>1.442548</td></tr>\n",
       "\t<tr><td>Proportion </td><td>NonFallacieux</td><td>non</td><td>4.328729</td><td>1.243385</td></tr>\n",
       "\t<tr><td>Proportion </td><td>NonFallacieux</td><td>oui</td><td>4.243017</td><td>1.306099</td></tr>\n",
       "</tbody>\n",
       "</table>\n"
      ],
      "text/latex": [
       "A grouped_df: 16 × 5\n",
       "\\begin{tabular}{r|lllll}\n",
       " Type Question & Condition & Presence Connecteur & mean\\_valeur & sd\\_valeur\\\\\n",
       " <chr> & <chr> & <chr> & <dbl> & <dbl>\\\\\n",
       "\\hline\n",
       "\t AccordA     & Fallacieux    & non & 3.466859 & 1.592161\\\\\n",
       "\t AccordA     & Fallacieux    & oui & 3.415094 & 1.575283\\\\\n",
       "\t AccordA     & NonFallacieux & non & 4.371994 & 1.459154\\\\\n",
       "\t AccordA     & NonFallacieux & oui & 4.304790 & 1.498058\\\\\n",
       "\t AccordB     & Fallacieux    & non & 4.560801 & 1.400044\\\\\n",
       "\t AccordB     & Fallacieux    & oui & 4.580000 & 1.398200\\\\\n",
       "\t AccordB     & NonFallacieux & non & 4.632479 & 1.397562\\\\\n",
       "\t AccordB     & NonFallacieux & oui & 4.711016 & 1.341227\\\\\n",
       "\t Decoulement & Fallacieux    & non & 3.954167 & 1.279716\\\\\n",
       "\t Decoulement & Fallacieux    & oui & 3.825485 & 1.363285\\\\\n",
       "\t Decoulement & NonFallacieux & non & 4.358230 & 1.312743\\\\\n",
       "\t Decoulement & NonFallacieux & oui & 4.282123 & 1.312133\\\\\n",
       "\t Proportion  & Fallacieux    & non & 3.522284 & 1.431438\\\\\n",
       "\t Proportion  & Fallacieux    & oui & 3.425798 & 1.442548\\\\\n",
       "\t Proportion  & NonFallacieux & non & 4.328729 & 1.243385\\\\\n",
       "\t Proportion  & NonFallacieux & oui & 4.243017 & 1.306099\\\\\n",
       "\\end{tabular}\n"
      ],
      "text/markdown": [
       "\n",
       "A grouped_df: 16 × 5\n",
       "\n",
       "| Type Question &lt;chr&gt; | Condition &lt;chr&gt; | Presence Connecteur &lt;chr&gt; | mean_valeur &lt;dbl&gt; | sd_valeur &lt;dbl&gt; |\n",
       "|---|---|---|---|---|\n",
       "| AccordA     | Fallacieux    | non | 3.466859 | 1.592161 |\n",
       "| AccordA     | Fallacieux    | oui | 3.415094 | 1.575283 |\n",
       "| AccordA     | NonFallacieux | non | 4.371994 | 1.459154 |\n",
       "| AccordA     | NonFallacieux | oui | 4.304790 | 1.498058 |\n",
       "| AccordB     | Fallacieux    | non | 4.560801 | 1.400044 |\n",
       "| AccordB     | Fallacieux    | oui | 4.580000 | 1.398200 |\n",
       "| AccordB     | NonFallacieux | non | 4.632479 | 1.397562 |\n",
       "| AccordB     | NonFallacieux | oui | 4.711016 | 1.341227 |\n",
       "| Decoulement | Fallacieux    | non | 3.954167 | 1.279716 |\n",
       "| Decoulement | Fallacieux    | oui | 3.825485 | 1.363285 |\n",
       "| Decoulement | NonFallacieux | non | 4.358230 | 1.312743 |\n",
       "| Decoulement | NonFallacieux | oui | 4.282123 | 1.312133 |\n",
       "| Proportion  | Fallacieux    | non | 3.522284 | 1.431438 |\n",
       "| Proportion  | Fallacieux    | oui | 3.425798 | 1.442548 |\n",
       "| Proportion  | NonFallacieux | non | 4.328729 | 1.243385 |\n",
       "| Proportion  | NonFallacieux | oui | 4.243017 | 1.306099 |\n",
       "\n"
      ],
      "text/plain": [
       "   Type Question Condition     Presence Connecteur mean_valeur sd_valeur\n",
       "1  AccordA       Fallacieux    non                 3.466859    1.592161 \n",
       "2  AccordA       Fallacieux    oui                 3.415094    1.575283 \n",
       "3  AccordA       NonFallacieux non                 4.371994    1.459154 \n",
       "4  AccordA       NonFallacieux oui                 4.304790    1.498058 \n",
       "5  AccordB       Fallacieux    non                 4.560801    1.400044 \n",
       "6  AccordB       Fallacieux    oui                 4.580000    1.398200 \n",
       "7  AccordB       NonFallacieux non                 4.632479    1.397562 \n",
       "8  AccordB       NonFallacieux oui                 4.711016    1.341227 \n",
       "9  Decoulement   Fallacieux    non                 3.954167    1.279716 \n",
       "10 Decoulement   Fallacieux    oui                 3.825485    1.363285 \n",
       "11 Decoulement   NonFallacieux non                 4.358230    1.312743 \n",
       "12 Decoulement   NonFallacieux oui                 4.282123    1.312133 \n",
       "13 Proportion    Fallacieux    non                 3.522284    1.431438 \n",
       "14 Proportion    Fallacieux    oui                 3.425798    1.442548 \n",
       "15 Proportion    NonFallacieux non                 4.328729    1.243385 \n",
       "16 Proportion    NonFallacieux oui                 4.243017    1.306099 "
      ]
     },
     "metadata": {},
     "output_type": "display_data"
    }
   ],
   "source": [
    "DB_cleaned2 %>%\n",
    "  group_by_at(c(\"Type Question\",\"Condition\",\"Presence Connecteur\")) %>%\n",
    "  summarize(mean_valeur = mean(Valeur,na.rm=TRUE),\n",
    "            sd_valeur = sd(Valeur,na.rm=TRUE))"
   ]
  },
  {
   "cell_type": "markdown",
   "metadata": {},
   "source": [
    "For more details about the above solution consult https://datacarpentry.org/R-genomics/04-dplyr.html."
   ]
  },
  {
   "cell_type": "markdown",
   "metadata": {},
   "source": [
    "# 3. Reproduce the two-way ANOVA analysis"
   ]
  },
  {
   "cell_type": "markdown",
   "metadata": {},
   "source": [
    "We will reproduce the two-way ANOVA per categories of questions. We start with the question type \"Proportion\"."
   ]
  },
  {
   "cell_type": "code",
   "execution_count": 241,
   "metadata": {
    "collapsed": true,
    "jupyter": {
     "outputs_hidden": true
    }
   },
   "outputs": [],
   "source": [
    "DB_Proportion <- DB_cleaned %>%\n",
    "  filter(get(\"Type Question\")==\"Proportion\") %>%\n",
    "  select(Condition, \"Presence Connecteur\", Valeur)"
   ]
  },
  {
   "cell_type": "code",
   "execution_count": 242,
   "metadata": {
    "collapsed": true,
    "jupyter": {
     "outputs_hidden": true
    }
   },
   "outputs": [
    {
     "data": {
      "text/html": [
       "<table>\n",
       "<caption>A tibble: 10 × 3</caption>\n",
       "<thead>\n",
       "\t<tr><th scope=col>Condition</th><th scope=col>Presence Connecteur</th><th scope=col>Valeur</th></tr>\n",
       "\t<tr><th scope=col>&lt;chr&gt;</th><th scope=col>&lt;chr&gt;</th><th scope=col>&lt;dbl&gt;</th></tr>\n",
       "</thead>\n",
       "<tbody>\n",
       "\t<tr><td>Fallacieux   </td><td>oui</td><td>5</td></tr>\n",
       "\t<tr><td>Fallacieux   </td><td>non</td><td>2</td></tr>\n",
       "\t<tr><td>NonFallacieux</td><td>oui</td><td>5</td></tr>\n",
       "\t<tr><td>NonFallacieux</td><td>non</td><td>6</td></tr>\n",
       "\t<tr><td>Fallacieux   </td><td>oui</td><td>4</td></tr>\n",
       "\t<tr><td>Fallacieux   </td><td>non</td><td>3</td></tr>\n",
       "\t<tr><td>NonFallacieux</td><td>oui</td><td>5</td></tr>\n",
       "\t<tr><td>NonFallacieux</td><td>non</td><td>6</td></tr>\n",
       "\t<tr><td>Fallacieux   </td><td>oui</td><td>3</td></tr>\n",
       "\t<tr><td>Fallacieux   </td><td>non</td><td>5</td></tr>\n",
       "</tbody>\n",
       "</table>\n"
      ],
      "text/latex": [
       "A tibble: 10 × 3\n",
       "\\begin{tabular}{r|lll}\n",
       " Condition & Presence Connecteur & Valeur\\\\\n",
       " <chr> & <chr> & <dbl>\\\\\n",
       "\\hline\n",
       "\t Fallacieux    & oui & 5\\\\\n",
       "\t Fallacieux    & non & 2\\\\\n",
       "\t NonFallacieux & oui & 5\\\\\n",
       "\t NonFallacieux & non & 6\\\\\n",
       "\t Fallacieux    & oui & 4\\\\\n",
       "\t Fallacieux    & non & 3\\\\\n",
       "\t NonFallacieux & oui & 5\\\\\n",
       "\t NonFallacieux & non & 6\\\\\n",
       "\t Fallacieux    & oui & 3\\\\\n",
       "\t Fallacieux    & non & 5\\\\\n",
       "\\end{tabular}\n"
      ],
      "text/markdown": [
       "\n",
       "A tibble: 10 × 3\n",
       "\n",
       "| Condition &lt;chr&gt; | Presence Connecteur &lt;chr&gt; | Valeur &lt;dbl&gt; |\n",
       "|---|---|---|\n",
       "| Fallacieux    | oui | 5 |\n",
       "| Fallacieux    | non | 2 |\n",
       "| NonFallacieux | oui | 5 |\n",
       "| NonFallacieux | non | 6 |\n",
       "| Fallacieux    | oui | 4 |\n",
       "| Fallacieux    | non | 3 |\n",
       "| NonFallacieux | oui | 5 |\n",
       "| NonFallacieux | non | 6 |\n",
       "| Fallacieux    | oui | 3 |\n",
       "| Fallacieux    | non | 5 |\n",
       "\n"
      ],
      "text/plain": [
       "   Condition     Presence Connecteur Valeur\n",
       "1  Fallacieux    oui                 5     \n",
       "2  Fallacieux    non                 2     \n",
       "3  NonFallacieux oui                 5     \n",
       "4  NonFallacieux non                 6     \n",
       "5  Fallacieux    oui                 4     \n",
       "6  Fallacieux    non                 3     \n",
       "7  NonFallacieux oui                 5     \n",
       "8  NonFallacieux non                 6     \n",
       "9  Fallacieux    oui                 3     \n",
       "10 Fallacieux    non                 5     "
      ]
     },
     "metadata": {},
     "output_type": "display_data"
    }
   ],
   "source": [
    "head(DB_Proportion, n=10)"
   ]
  },
  {
   "cell_type": "code",
   "execution_count": 243,
   "metadata": {
    "collapsed": true,
    "jupyter": {
     "outputs_hidden": true
    }
   },
   "outputs": [
    {
     "ename": "ERROR",
     "evalue": "Error in parse(text = x, srcfile = src): <text>:1:37: unexpected symbol\n1: boxplot(Valeur ~ Condition:Presence Connecteur\n                                        ^\n",
     "output_type": "error",
     "traceback": [
      "Error in parse(text = x, srcfile = src): <text>:1:37: unexpected symbol\n1: boxplot(Valeur ~ Condition:Presence Connecteur\n                                        ^\nTraceback:\n"
     ]
    }
   ],
   "source": [
    "boxplot(Valeur ~ Condition:Presence Connecteur,\n",
    "        data = DB_Proportion,\n",
    "        xlab = \"Condition x Presence Connecteur\",\n",
    "        ylab = \"Valeur\")"
   ]
  },
  {
   "cell_type": "code",
   "execution_count": 244,
   "metadata": {
    "collapsed": true,
    "jupyter": {
     "outputs_hidden": true
    }
   },
   "outputs": [],
   "source": [
    "library(\"ggpubr\")"
   ]
  },
  {
   "cell_type": "code",
   "execution_count": 245,
   "metadata": {
    "collapsed": true,
    "jupyter": {
     "outputs_hidden": true
    }
   },
   "outputs": [
    {
     "ename": "ERROR",
     "evalue": "Error in parse(text = x): <text>:1:10: unexpected symbol\n1: Presence Connecteur\n             ^\n",
     "output_type": "error",
     "traceback": [
      "Error in parse(text = x): <text>:1:10: unexpected symbol\n1: Presence Connecteur\n             ^\nTraceback:\n",
      "1. ggboxplot(DB_Proportion, x = \"Condition\", y = \"Valeur\", color = \"Presence Connecteur\", \n .     palette = c(\"#00AFBB\", \"#E7B800\"))",
      "2. do.call(.plotter, .opts)",
      "3. (function (fun, data, x, y, combine = FALSE, merge = FALSE, color = \"black\", \n .     fill = \"white\", title = NULL, xlab = NULL, ylab = NULL, legend = NULL, \n .     legend.title = NULL, facet.by = NULL, select = NULL, remove = NULL, \n .     order = NULL, add = \"none\", add.params = list(), label = NULL, \n .     font.label = list(size = 11, color = \"black\"), label.select = NULL, \n .     repel = FALSE, label.rectangle = FALSE, ggtheme = theme_pubr(), \n .     fun_name = \"\", group = 1, show.legend.text = NA, ...) \n . {\n .     if (is.logical(merge)) {\n .         if (merge) \n .             merge = \"asis\"\n .         else merge = \"none\"\n .     }\n .     if (combine & merge != \"none\") \n .         stop(\"You should use either combine = TRUE or merge = TRUE, but not both together.\")\n .     font.label <- .parse_font(font.label)\n .     if (is.null(label) & fun_name == \"barplot\") \n .         label <- FALSE\n .     .lab <- label\n .     if (fun_name != \"barplot\") \n .         .lab <- NULL\n .     if (!missing(x) & !missing(y)) {\n .         if (length(y) == 1 & length(x) == 1) {\n .             combine <- FALSE\n .             merge <- \"none\"\n .         }\n .     }\n .     opts <- .check_data(data, x, y, combine = combine | merge != \n .         \"none\")\n .     data <- opts$data\n .     x <- opts$x\n .     y <- opts$y\n .     is_density_plot <- y[1] %in% c(\"..count..\", \"..density..\", \n .         \"..ecdf..\", \"..qq..\")\n .     if (combine) \n .         facet.by <- \".y.\"\n .     if (merge != \"none\") {\n .         if (!is_density_plot) \n .             facet.by <- NULL\n .         if (is.null(legend.title)) \n .             legend.title <- \"\"\n .     }\n .     user.add.color <- add.params$color\n .     geom.text.position <- \"identity\"\n .     if (merge == \"asis\") {\n .         .grouping.var <- \".y.\"\n .     }\n .     else if (merge == \"flip\") {\n .         .grouping.var <- opts$x\n .         opts$x <- \".y.\"\n .         if (is.null(xlab)) \n .             xlab <- FALSE\n .     }\n .     if (merge == \"asis\" | merge == \"flip\") {\n .         if (is_density_plot) {\n .             color <- ifelse(color == \".x.\", \".y.\", color)\n .             fill <- ifelse(fill == \".x.\", \".y.\", fill)\n .         }\n .         if (any(c(color, fill) %in% names(data))) {\n .             add.params$color <- font.label$color <- ifelse(color %in% \n .                 names(data), color, fill)\n .         }\n .         else if (!all(c(color, fill) %in% names(data))) {\n .             color <- add.params$color <- font.label$color <- .grouping.var\n .         }\n .         group <- .grouping.var\n .         geom.text.position <- position_dodge(0.8)\n .     }\n .     if (!combine & merge == \"none\" & length(opts$y) > 1 & is.null(title)) \n .         title <- opts$y\n .     if (!combine & merge == \"none\" & is.null(title)) {\n .         if (length(opts$y) > 1) \n .             title <- opts$y\n .         else if (length(opts$x) > 1 & is_density_plot) \n .             title <- opts$x\n .     }\n .     x <- opts$data[, opts$x] %>% as.vector()\n .     if (!is.null(select)) \n .         opts$data <- subset(opts$data, x %in% select)\n .     if (!is.null(remove)) \n .         opts$data <- subset(opts$data, !(x %in% remove))\n .     if (!is.null(order)) \n .         opts$data[, opts$x] <- factor(opts$data[, opts$x], levels = order)\n .     opts <- opts %>% c(list(title = title, xlab = xlab, ylab = ylab)) %>% \n .         .compact()\n .     data <- opts$data\n .     opts$data <- list(opts$data)\n .     if (fun_name %in% c(\"ggline\", \"ggdotchart\")) \n .         opts$group <- group\n .     p <- purrr::pmap(opts, fun, color = color, fill = fill, legend = legend, \n .         legend.title = legend.title, ggtheme = ggtheme, facet.by = facet.by, \n .         add = add, add.params = add.params, user.add.color = user.add.color, \n .         label = .lab, font.label = font.label, repel = repel, \n .         label.rectangle = label.rectangle, ...)\n .     if (!is.null(facet.by)) \n .         p <- purrr::map(p, facet, facet.by = facet.by, ...)\n .     if (!is.null(label) & fun_name != \"barplot\") {\n .         if (is.logical(label)) {\n .             if (label) \n .                 label <- opts$y\n .         }\n .         grouping.vars <- intersect(c(facet.by, color, fill), \n .             colnames(data))\n .         label.opts <- font.label %>% .add_item(data = data, x = opts$x, \n .             y = opts$y, label = label, label.select = label.select, \n .             repel = repel, label.rectangle = label.rectangle, \n .             ggtheme = NULL, grouping.vars = grouping.vars, facet.by = facet.by, \n .             position = geom.text.position, show.legend = show.legend.text)\n .         p <- purrr::map(p, function(p, label.opts) {\n .             . <- NULL\n .             label.opts %>% .add_item(ggp = p) %>% do.call(ggtext, \n .                 .)\n .         }, label.opts)\n .     }\n .     p <- purrr::map(p, ggpar, legend = legend, legend.title = legend.title)\n .     if (.is_list(p) & length(p) == 1) \n .         p <- p[[1]]\n .     p\n . })(color = \"Presence Connecteur\", palette = c(\"#00AFBB\", \"#E7B800\"\n . ), data = structure(list(Condition = c(\"Fallacieux\", \"Fallacieux\", \n . \"NonFallacieux\", \"NonFallacieux\", \"Fallacieux\", \"Fallacieux\", \n . \"NonFallacieux\", \"NonFallacieux\", \"Fallacieux\", \"Fallacieux\", \n . \"NonFallacieux\", \"NonFallacieux\", \"Fallacieux\", \"Fallacieux\", \n . \"NonFallacieux\", \"NonFallacieux\", \"Fallacieux\", \"Fallacieux\", \n . \"NonFallacieux\", \"NonFallacieux\", \"Fallacieux\", \"Fallacieux\", \n . \"NonFallacieux\", \"NonFallacieux\", \"Fallacieux\", \"Fallacieux\", \n . \"NonFallacieux\", \"NonFallacieux\", \"Fallacieux\", \"Fallacieux\", \n . \"NonFallacieux\", \"NonFallacieux\", \"Fallacieux\", \"Fallacieux\", \n . \"NonFallacieux\", \"NonFallacieux\", \"Fallacieux\", \"Fallacieux\", \n . \"NonFallacieux\", \"NonFallacieux\", \"Fallacieux\", \"Fallacieux\", \n . \"NonFallacieux\", \"NonFallacieux\", \"Fallacieux\", \"Fallacieux\", \n . \"NonFallacieux\", \"NonFallacieux\", \"Fallacieux\", \"Fallacieux\", \n . \"NonFallacieux\", \"NonFallacieux\", \"Fallacieux\", \"Fallacieux\", \n . \"NonFallacieux\", \"NonFallacieux\", \"Fallacieux\", \"Fallacieux\", \n . \"NonFallacieux\", \"NonFallacieux\", \"Fallacieux\", \"Fallacieux\", \n . \"NonFallacieux\", \"NonFallacieux\", \"Fallacieux\", \"Fallacieux\", \n . \"NonFallacieux\", \"NonFallacieux\", \"Fallacieux\", \"Fallacieux\", \n . \"NonFallacieux\", \"NonFallacieux\", \"Fallacieux\", \"Fallacieux\", \n . \"NonFallacieux\", \"NonFallacieux\", \"Fallacieux\", \"Fallacieux\", \n . \"NonFallacieux\", \"NonFallacieux\", \"Fallacieux\", \"Fallacieux\", \n . \"NonFallacieux\", \"NonFallacieux\", \"Fallacieux\", \"Fallacieux\", \n . \"NonFallacieux\", \"NonFallacieux\", \"Fallacieux\", \"Fallacieux\", \n . \"NonFallacieux\", \"NonFallacieux\", \"Fallacieux\", \"Fallacieux\", \n . \"NonFallacieux\", \"NonFallacieux\", \"Fallacieux\", \"Fallacieux\", \n . \"NonFallacieux\", \"NonFallacieux\", \"Fallacieux\", \"Fallacieux\", \n . \"NonFallacieux\", \"NonFallacieux\", \"Fallacieux\", \"Fallacieux\", \n . \"NonFallacieux\", \"NonFallacieux\", \"Fallacieux\", \"Fallacieux\", \n . \"NonFallacieux\", \"NonFallacieux\", \"Fallacieux\", \"Fallacieux\", \n . \"NonFallacieux\", \"NonFallacieux\", \"Fallacieux\", \"Fallacieux\", \n . \"NonFallacieux\", \"NonFallacieux\", \"Fallacieux\", \"Fallacieux\", \n . \"NonFallacieux\", \"NonFallacieux\", \"Fallacieux\", \"Fallacieux\", \n . \"NonFallacieux\", \"NonFallacieux\", \"Fallacieux\", \"Fallacieux\", \n . \"NonFallacieux\", \"NonFallacieux\", \"Fallacieux\", \"Fallacieux\", \n . \"NonFallacieux\", \"NonFallacieux\", \"Fallacieux\", \"Fallacieux\", \n . \"NonFallacieux\", \"NonFallacieux\", \"Fallacieux\", \"Fallacieux\", \n . \"NonFallacieux\", \"NonFallacieux\", \"Fallacieux\", \"Fallacieux\", \n . \"NonFallacieux\", \"NonFallacieux\", \"Fallacieux\", \"Fallacieux\", \n . \"NonFallacieux\", \"NonFallacieux\", \"Fallacieux\", \"Fallacieux\", \n . \"NonFallacieux\", \"NonFallacieux\", \"Fallacieux\", \"Fallacieux\", \n . \"NonFallacieux\", \"NonFallacieux\", \"Fallacieux\", \"Fallacieux\", \n . \"NonFallacieux\", \"NonFallacieux\", \"Fallacieux\", \"Fallacieux\", \n . \"NonFallacieux\", \"NonFallacieux\", \"Fallacieux\", \"Fallacieux\", \n . \"NonFallacieux\", \"NonFallacieux\", \"Fallacieux\", \"Fallacieux\", \n . \"NonFallacieux\", \"NonFallacieux\", \"Fallacieux\", \"Fallacieux\", \n . \"NonFallacieux\", \"NonFallacieux\", \"Fallacieux\", \"Fallacieux\", \n . \"NonFallacieux\", \"NonFallacieux\", \"Fallacieux\", \"Fallacieux\", \n . \"NonFallacieux\", \"NonFallacieux\", \"Fallacieux\", \"Fallacieux\", \n . \"NonFallacieux\", \"NonFallacieux\", \"Fallacieux\", \"Fallacieux\", \n . \"NonFallacieux\", \"NonFallacieux\", \"Fallacieux\", \"Fallacieux\", \n . \"NonFallacieux\", \"NonFallacieux\", \"Fallacieux\", \"Fallacieux\", \n . \"NonFallacieux\", \"NonFallacieux\", \"Fallacieux\", \"Fallacieux\", \n . \"NonFallacieux\", \"NonFallacieux\", \"Fallacieux\", \"Fallacieux\", \n . \"NonFallacieux\", \"NonFallacieux\", \"Fallacieux\", \"Fallacieux\", \n . \"NonFallacieux\", \"NonFallacieux\", \"Fallacieux\", \"Fallacieux\", \n . \"NonFallacieux\", \"NonFallacieux\", \"Fallacieux\", \"Fallacieux\", \n . \"NonFallacieux\", \"NonFallacieux\", \"Fallacieux\", \"Fallacieux\", \n . \"NonFallacieux\", \"NonFallacieux\", \"Fallacieux\", \"Fallacieux\", \n . \"NonFallacieux\", \"NonFallacieux\", \"Fallacieux\", \"Fallacieux\", \n . \"NonFallacieux\", \"NonFallacieux\", \"Fallacieux\", \"Fallacieux\", \n . \"NonFallacieux\", \"NonFallacieux\", \"Fallacieux\", \"Fallacieux\", \n . \"NonFallacieux\", \"NonFallacieux\", \"Fallacieux\", \"Fallacieux\", \n . \"NonFallacieux\", \"NonFallacieux\", \"Fallacieux\", \"Fallacieux\", \n . \"NonFallacieux\", \"NonFallacieux\", \"Fallacieux\", \"Fallacieux\", \n . \"NonFallacieux\", \"NonFallacieux\", \"Fallacieux\", \"Fallacieux\", \n . \"NonFallacieux\", \"NonFallacieux\", \"Fallacieux\", \"Fallacieux\", \n . \"NonFallacieux\", \"NonFallacieux\", \"Fallacieux\", \"Fallacieux\", \n . \"NonFallacieux\", \"NonFallacieux\", \"Fallacieux\", \"Fallacieux\", \n . \"NonFallacieux\", \"NonFallacieux\", \"Fallacieux\", \"Fallacieux\", \n . \"NonFallacieux\", \"NonFallacieux\", \"Fallacieux\", \"Fallacieux\", \n . \"NonFallacieux\", \"NonFallacieux\", \"Fallacieux\", \"Fallacieux\", \n . \"NonFallacieux\", \"NonFallacieux\", \"Fallacieux\", \"Fallacieux\", \n . \"NonFallacieux\", \"NonFallacieux\", \"Fallacieux\", \"Fallacieux\", \n . \"NonFallacieux\", \"NonFallacieux\", \"Fallacieux\", \"Fallacieux\", \n . \"NonFallacieux\", \"NonFallacieux\", \"Fallacieux\", \"Fallacieux\", \n . \"NonFallacieux\", \"NonFallacieux\", \"Fallacieux\", \"Fallacieux\", \n . \"NonFallacieux\", \"NonFallacieux\", \"Fallacieux\", \"Fallacieux\", \n . \"NonFallacieux\", \"NonFallacieux\", \"Fallacieux\", \"Fallacieux\", \n . \"NonFallacieux\", \"NonFallacieux\", \"Fallacieux\", \"Fallacieux\", \n . \"NonFallacieux\", \"NonFallacieux\", \"Fallacieux\", \"Fallacieux\", \n . \"NonFallacieux\", \"NonFallacieux\", \"Fallacieux\", \"Fallacieux\", \n . \"NonFallacieux\", \"NonFallacieux\", \"Fallacieux\", \"Fallacieux\", \n . \"NonFallacieux\", \"NonFallacieux\", \"Fallacieux\", \"Fallacieux\", \n . \"NonFallacieux\", \"NonFallacieux\", \"Fallacieux\", \"Fallacieux\", \n . \"NonFallacieux\", \"NonFallacieux\", \"Fallacieux\", \"Fallacieux\", \n . \"NonFallacieux\", \"NonFallacieux\", \"Fallacieux\", \"Fallacieux\", \n . \"NonFallacieux\", \"NonFallacieux\", \"Fallacieux\", \"Fallacieux\", \n . \"NonFallacieux\", \"NonFallacieux\", \"Fallacieux\", \"Fallacieux\", \n . \"NonFallacieux\", \"NonFallacieux\", \"Fallacieux\", \"Fallacieux\", \n . \"NonFallacieux\", \"NonFallacieux\", \"Fallacieux\", \"Fallacieux\", \n . \"NonFallacieux\", \"NonFallacieux\", \"Fallacieux\", \"NonFallacieux\", \n . \"NonFallacieux\", \"Fallacieux\", \"Fallacieux\", \"NonFallacieux\", \n . \"NonFallacieux\", \"Fallacieux\", \"Fallacieux\", \"NonFallacieux\", \n . \"NonFallacieux\", \"Fallacieux\", \"Fallacieux\", \"NonFallacieux\", \n . \"NonFallacieux\", \"Fallacieux\", \"Fallacieux\", \"NonFallacieux\", \n . \"NonFallacieux\", \"Fallacieux\", \"Fallacieux\", \"NonFallacieux\", \n . \"NonFallacieux\", \"Fallacieux\", \"Fallacieux\", \"NonFallacieux\", \n . \"NonFallacieux\", \"Fallacieux\", \"Fallacieux\", \"NonFallacieux\", \n . \"NonFallacieux\", \"Fallacieux\", \"Fallacieux\", \"NonFallacieux\", \n . \"NonFallacieux\", \"Fallacieux\", \"Fallacieux\", \"NonFallacieux\", \n . \"NonFallacieux\", \"Fallacieux\", \"Fallacieux\", \"NonFallacieux\", \n . \"NonFallacieux\", \"Fallacieux\", \"Fallacieux\", \"NonFallacieux\", \n . \"NonFallacieux\", \"Fallacieux\", \"Fallacieux\", \"NonFallacieux\", \n . \"NonFallacieux\", \"Fallacieux\", \"Fallacieux\", \"NonFallacieux\", \n . \"NonFallacieux\", \"Fallacieux\", \"Fallacieux\", \"NonFallacieux\", \n . \"NonFallacieux\", \"Fallacieux\", \"Fallacieux\", \"NonFallacieux\", \n . \"NonFallacieux\", \"Fallacieux\", \"Fallacieux\", \"NonFallacieux\", \n . \"NonFallacieux\", \"Fallacieux\", \"Fallacieux\", \"NonFallacieux\", \n . \"NonFallacieux\", \"Fallacieux\", \"Fallacieux\", \"NonFallacieux\", \n . \"NonFallacieux\", \"Fallacieux\", \"Fallacieux\", \"NonFallacieux\", \n . \"NonFallacieux\", \"Fallacieux\", \"Fallacieux\", \"NonFallacieux\", \n . \"NonFallacieux\", \"Fallacieux\", \"Fallacieux\", \"NonFallacieux\", \n . \"NonFallacieux\", \"Fallacieux\", \"Fallacieux\", \"NonFallacieux\", \n . \"NonFallacieux\", \"Fallacieux\", \"Fallacieux\", \"NonFallacieux\", \n . \"NonFallacieux\", \"Fallacieux\", \"Fallacieux\", \"NonFallacieux\", \n . \"NonFallacieux\", \"Fallacieux\", \"Fallacieux\", \"NonFallacieux\", \n . \"NonFallacieux\", \"Fallacieux\", \"Fallacieux\", \"NonFallacieux\", \n . \"NonFallacieux\", \"Fallacieux\", \"Fallacieux\", \"NonFallacieux\", \n . \"NonFallacieux\", \"Fallacieux\", \"Fallacieux\", \"NonFallacieux\", \n . \"NonFallacieux\", \"Fallacieux\", \"Fallacieux\", \"NonFallacieux\", \n . \"NonFallacieux\", \"Fallacieux\", \"Fallacieux\", \"NonFallacieux\", \n . \"NonFallacieux\", \"Fallacieux\", \"Fallacieux\", \"NonFallacieux\", \n . \"NonFallacieux\", \"Fallacieux\", \"Fallacieux\", \"NonFallacieux\", \n . \"NonFallacieux\", \"Fallacieux\", \"Fallacieux\", \"NonFallacieux\", \n . \"NonFallacieux\", \"Fallacieux\", \"Fallacieux\", \"NonFallacieux\", \n . \"NonFallacieux\", \"Fallacieux\", \"Fallacieux\", \"NonFallacieux\", \n . \"NonFallacieux\", \"Fallacieux\", \"Fallacieux\", \"NonFallacieux\", \n . \"NonFallacieux\", \"Fallacieux\", \"Fallacieux\", \"NonFallacieux\", \n . \"NonFallacieux\", \"Fallacieux\", \"Fallacieux\", \"NonFallacieux\", \n . \"NonFallacieux\", \"Fallacieux\", \"Fallacieux\", \"NonFallacieux\", \n . \"NonFallacieux\", \"Fallacieux\", \"Fallacieux\", \"NonFallacieux\", \n . \"NonFallacieux\", \"Fallacieux\", \"Fallacieux\", \"NonFallacieux\", \n . \"NonFallacieux\", \"Fallacieux\", \"Fallacieux\", \"NonFallacieux\", \n . \"NonFallacieux\", \"Fallacieux\", \"Fallacieux\", \"NonFallacieux\", \n . \"NonFallacieux\", \"Fallacieux\", \"Fallacieux\", \"NonFallacieux\", \n . \"NonFallacieux\", \"Fallacieux\", \"Fallacieux\", \"NonFallacieux\", \n . \"NonFallacieux\", \"Fallacieux\", \"Fallacieux\", \"NonFallacieux\", \n . \"NonFallacieux\", \"Fallacieux\", \"Fallacieux\", \"NonFallacieux\", \n . \"NonFallacieux\", \"Fallacieux\", \"Fallacieux\", \"NonFallacieux\", \n . \"NonFallacieux\", \"Fallacieux\", \"Fallacieux\", \"NonFallacieux\", \n . \"NonFallacieux\", \"Fallacieux\", \"Fallacieux\", \"NonFallacieux\", \n . \"NonFallacieux\", \"Fallacieux\", \"Fallacieux\", \"NonFallacieux\", \n . \"NonFallacieux\", \"Fallacieux\", \"Fallacieux\", \"NonFallacieux\", \n . \"NonFallacieux\", \"Fallacieux\", \"Fallacieux\", \"NonFallacieux\", \n . \"NonFallacieux\", \"Fallacieux\", \"Fallacieux\", \"NonFallacieux\", \n . \"NonFallacieux\", \"Fallacieux\", \"Fallacieux\", \"NonFallacieux\", \n . \"NonFallacieux\", \"Fallacieux\", \"Fallacieux\", \"NonFallacieux\", \n . \"NonFallacieux\", \"Fallacieux\", \"Fallacieux\", \"NonFallacieux\", \n . \"NonFallacieux\", \"Fallacieux\", \"Fallacieux\", \"NonFallacieux\", \n . \"NonFallacieux\", \"Fallacieux\", \"Fallacieux\", \"NonFallacieux\", \n . \"NonFallacieux\", \"Fallacieux\", \"Fallacieux\", \"NonFallacieux\", \n . \"NonFallacieux\", \"Fallacieux\", \"Fallacieux\", \"NonFallacieux\", \n . \"NonFallacieux\", \"Fallacieux\", \"Fallacieux\", \"NonFallacieux\", \n . \"NonFallacieux\", \"Fallacieux\", \"Fallacieux\", \"NonFallacieux\", \n . \"NonFallacieux\", \"Fallacieux\", \"Fallacieux\", \"NonFallacieux\", \n . \"NonFallacieux\", \"Fallacieux\", \"Fallacieux\", \"NonFallacieux\", \n . \"NonFallacieux\", \"Fallacieux\", \"Fallacieux\", \"NonFallacieux\", \n . \"NonFallacieux\", \"Fallacieux\", \"Fallacieux\", \"NonFallacieux\", \n . \"NonFallacieux\", \"Fallacieux\", \"Fallacieux\", \"NonFallacieux\", \n . \"NonFallacieux\", \"Fallacieux\", \"Fallacieux\", \"NonFallacieux\", \n . \"NonFallacieux\", \"Fallacieux\", \"Fallacieux\", \"NonFallacieux\", \n . \"NonFallacieux\", \"Fallacieux\", \"Fallacieux\", \"NonFallacieux\", \n . \"NonFallacieux\", \"Fallacieux\", \"Fallacieux\", \"NonFallacieux\", \n . \"NonFallacieux\", \"Fallacieux\", \"Fallacieux\", \"NonFallacieux\", \n . \"NonFallacieux\", \"Fallacieux\", \"Fallacieux\", \"NonFallacieux\", \n . \"NonFallacieux\", \"Fallacieux\", \"Fallacieux\", \"NonFallacieux\", \n . \"NonFallacieux\", \"Fallacieux\", \"Fallacieux\", \"NonFallacieux\", \n . \"NonFallacieux\", \"Fallacieux\", \"Fallacieux\", \"NonFallacieux\", \n . \"NonFallacieux\", \"Fallacieux\", \"Fallacieux\", \"NonFallacieux\", \n . \"NonFallacieux\", \"Fallacieux\", \"Fallacieux\", \"NonFallacieux\", \n . \"NonFallacieux\", \"Fallacieux\", \"Fallacieux\", \"NonFallacieux\", \n . \"NonFallacieux\", \"Fallacieux\", \"Fallacieux\", \"NonFallacieux\", \n . \"NonFallacieux\", \"Fallacieux\", \"Fallacieux\", \"NonFallacieux\", \n . \"NonFallacieux\", \"Fallacieux\", \"Fallacieux\", \"NonFallacieux\", \n . \"NonFallacieux\", \"Fallacieux\", \"Fallacieux\", \"NonFallacieux\", \n . \"NonFallacieux\", \"Fallacieux\", \"Fallacieux\", \"NonFallacieux\", \n . \"NonFallacieux\", \"Fallacieux\", \"Fallacieux\", \"NonFallacieux\", \n . \"NonFallacieux\", \"Fallacieux\", \"Fallacieux\", \"NonFallacieux\", \n . \"NonFallacieux\", \"Fallacieux\", \"Fallacieux\", \"NonFallacieux\", \n . \"NonFallacieux\", \"Fallacieux\", \"Fallacieux\", \"NonFallacieux\", \n . \"NonFallacieux\", \"Fallacieux\", \"Fallacieux\", \"NonFallacieux\", \n . \"NonFallacieux\", \"Fallacieux\", \"Fallacieux\", \"NonFallacieux\", \n . \"NonFallacieux\", \"Fallacieux\", \"Fallacieux\", \"NonFallacieux\", \n . \"NonFallacieux\", \"Fallacieux\", \"Fallacieux\", \"NonFallacieux\", \n . \"NonFallacieux\", \"Fallacieux\", \"Fallacieux\", \"NonFallacieux\", \n . \"NonFallacieux\", \"Fallacieux\", \"Fallacieux\", \"NonFallacieux\", \n . \"NonFallacieux\", \"Fallacieux\", \"Fallacieux\", \"NonFallacieux\", \n . \"NonFallacieux\", \"Fallacieux\", \"Fallacieux\", \"NonFallacieux\", \n . \"NonFallacieux\", \"Fallacieux\", \"Fallacieux\", \"NonFallacieux\", \n . \"NonFallacieux\", \"Fallacieux\", \"Fallacieux\", \"NonFallacieux\", \n . \"NonFallacieux\", \"Fallacieux\", \"NonFallacieux\", \"NonFallacieux\", \n . \"Fallacieux\", \"Fallacieux\", \"NonFallacieux\", \"NonFallacieux\", \n . \"Fallacieux\", \"Fallacieux\", \"NonFallacieux\", \"NonFallacieux\", \n . \"Fallacieux\", \"Fallacieux\", \"NonFallacieux\", \"NonFallacieux\", \n . \"Fallacieux\", \"Fallacieux\", \"NonFallacieux\", \"NonFallacieux\", \n . \"Fallacieux\", \"Fallacieux\", \"NonFallacieux\", \"NonFallacieux\", \n . \"Fallacieux\", \"Fallacieux\", \"NonFallacieux\", \"NonFallacieux\", \n . \"Fallacieux\", \"Fallacieux\", \"NonFallacieux\", \"NonFallacieux\", \n . \"Fallacieux\", \"Fallacieux\", \"NonFallacieux\", \"NonFallacieux\", \n . \"Fallacieux\", \"Fallacieux\", \"NonFallacieux\", \"NonFallacieux\", \n . \"Fallacieux\", \"Fallacieux\", \"NonFallacieux\", \"NonFallacieux\", \n . \"Fallacieux\", \"Fallacieux\", \"NonFallacieux\", \"NonFallacieux\", \n . \"Fallacieux\", \"Fallacieux\", \"NonFallacieux\", \"NonFallacieux\", \n . \"Fallacieux\", \"Fallacieux\", \"NonFallacieux\", \"NonFallacieux\", \n . \"Fallacieux\", \"Fallacieux\", \"NonFallacieux\", \"NonFallacieux\", \n . \"Fallacieux\", \"Fallacieux\", \"NonFallacieux\", \"NonFallacieux\", \n . \"Fallacieux\", \"Fallacieux\", \"NonFallacieux\", \"NonFallacieux\", \n . \"Fallacieux\", \"Fallacieux\", \"NonFallacieux\", \"NonFallacieux\", \n . \"Fallacieux\", \"Fallacieux\", \"NonFallacieux\", \"NonFallacieux\", \n . \"Fallacieux\", \"Fallacieux\", \"NonFallacieux\", \"NonFallacieux\", \n . \"Fallacieux\", \"Fallacieux\", \"NonFallacieux\", \"NonFallacieux\", \n . \"Fallacieux\", \"Fallacieux\", \"NonFallacieux\", \"NonFallacieux\", \n . \"Fallacieux\", \"Fallacieux\", \"NonFallacieux\", \"NonFallacieux\", \n . \"Fallacieux\", \"Fallacieux\", \"NonFallacieux\", \"NonFallacieux\", \n . \"Fallacieux\", \"Fallacieux\", \"NonFallacieux\", \"NonFallacieux\", \n . \"Fallacieux\", \"Fallacieux\", \"NonFallacieux\", \"NonFallacieux\", \n . \"Fallacieux\", \"Fallacieux\", \"NonFallacieux\", \"NonFallacieux\", \n . \"Fallacieux\", \"Fallacieux\", \"NonFallacieux\", \"NonFallacieux\", \n . \"Fallacieux\", \"Fallacieux\", \"NonFallacieux\", \"NonFallacieux\", \n . \"Fallacieux\", \"Fallacieux\", \"NonFallacieux\", \"NonFallacieux\", \n . \"Fallacieux\", \"Fallacieux\", \"NonFallacieux\", \"NonFallacieux\", \n . \"Fallacieux\", \"Fallacieux\", \"NonFallacieux\", \"NonFallacieux\", \n . \"Fallacieux\", \"Fallacieux\", \"NonFallacieux\", \"NonFallacieux\", \n . \"Fallacieux\", \"Fallacieux\", \"NonFallacieux\", \"NonFallacieux\", \n . \"Fallacieux\", \"Fallacieux\", \"NonFallacieux\", \"NonFallacieux\", \n . \"Fallacieux\", \"Fallacieux\", \"NonFallacieux\", \"NonFallacieux\", \n . \"Fallacieux\", \"Fallacieux\", \"NonFallacieux\", \"NonFallacieux\", \n . \"Fallacieux\", \"Fallacieux\", \"NonFallacieux\", \"NonFallacieux\", \n . \"Fallacieux\", \"Fallacieux\", \"NonFallacieux\", \"NonFallacieux\", \n . \"Fallacieux\", \"Fallacieux\", \"NonFallacieux\", \"NonFallacieux\", \n . \"Fallacieux\", \"Fallacieux\", \"NonFallacieux\", \"NonFallacieux\", \n . \"Fallacieux\", \"Fallacieux\", \"NonFallacieux\", \"NonFallacieux\", \n . \"Fallacieux\", \"Fallacieux\", \"NonFallacieux\", \"NonFallacieux\", \n . \"Fallacieux\", \"Fallacieux\", \"NonFallacieux\", \"NonFallacieux\", \n . \"Fallacieux\", \"Fallacieux\", \"NonFallacieux\", \"NonFallacieux\", \n . \"Fallacieux\", \"Fallacieux\", \"NonFallacieux\", \"NonFallacieux\", \n . \"Fallacieux\", \"Fallacieux\", \"NonFallacieux\", \"NonFallacieux\", \n . \"Fallacieux\", \"Fallacieux\", \"NonFallacieux\", \"NonFallacieux\", \n . \"Fallacieux\", \"Fallacieux\", \"NonFallacieux\", \"NonFallacieux\", \n . \"Fallacieux\", \"Fallacieux\", \"NonFallacieux\", \"NonFallacieux\", \n . \"Fallacieux\", \"Fallacieux\", \"NonFallacieux\", \"NonFallacieux\", \n . \"Fallacieux\", \"Fallacieux\", \"NonFallacieux\", \"NonFallacieux\", \n . \"Fallacieux\", \"Fallacieux\", \"NonFallacieux\", \"NonFallacieux\", \n . \"Fallacieux\", \"Fallacieux\", \"NonFallacieux\", \"NonFallacieux\", \n . \"Fallacieux\", \"Fallacieux\", \"NonFallacieux\", \"NonFallacieux\", \n . \"Fallacieux\", \"Fallacieux\", \"NonFallacieux\", \"NonFallacieux\", \n . \"Fallacieux\", \"Fallacieux\", \"NonFallacieux\", \"NonFallacieux\", \n . \"Fallacieux\", \"Fallacieux\", \"NonFallacieux\", \"NonFallacieux\", \n . \"Fallacieux\", \"Fallacieux\", \"NonFallacieux\", \"NonFallacieux\", \n . \"Fallacieux\", \"Fallacieux\", \"NonFallacieux\", \"NonFallacieux\", \n . \"Fallacieux\", \"Fallacieux\", \"NonFallacieux\", \"NonFallacieux\", \n . \"Fallacieux\", \"Fallacieux\", \"NonFallacieux\", \"NonFallacieux\", \n . \"Fallacieux\", \"Fallacieux\", \"NonFallacieux\", \"NonFallacieux\", \n . \"Fallacieux\", \"Fallacieux\", \"NonFallacieux\", \"NonFallacieux\", \n . \"Fallacieux\", \"Fallacieux\", \"NonFallacieux\", \"NonFallacieux\", \n . \"Fallacieux\", \"Fallacieux\", \"NonFallacieux\", \"NonFallacieux\", \n . \"Fallacieux\", \"Fallacieux\", \"NonFallacieux\", \"NonFallacieux\", \n . \"Fallacieux\", \"Fallacieux\", \"NonFallacieux\", \"NonFallacieux\", \n . \"Fallacieux\", \"Fallacieux\", \"NonFallacieux\", \"NonFallacieux\", \n . \"Fallacieux\", \"Fallacieux\", \"NonFallacieux\", \"NonFallacieux\", \n . \"Fallacieux\", \"Fallacieux\", \"NonFallacieux\", \"NonFallacieux\", \n . \"Fallacieux\", \"Fallacieux\", \"NonFallacieux\", \"NonFallacieux\", \n . \"Fallacieux\", \"Fallacieux\", \"NonFallacieux\", \"NonFallacieux\", \n . \"Fallacieux\", \"Fallacieux\", \"NonFallacieux\", \"NonFallacieux\", \n . \"Fallacieux\", \"Fallacieux\", \"NonFallacieux\", \"NonFallacieux\", \n . \"Fallacieux\", \"Fallacieux\", \"NonFallacieux\", \"NonFallacieux\", \n . \"Fallacieux\", \"Fallacieux\", \"NonFallacieux\", \"NonFallacieux\", \n . \"Fallacieux\", \"Fallacieux\", \"NonFallacieux\", \"NonFallacieux\", \n . \"Fallacieux\", \"Fallacieux\", \"NonFallacieux\", \"NonFallacieux\", \n . \"Fallacieux\", \"Fallacieux\", \"NonFallacieux\", \"NonFallacieux\", \n . \"Fallacieux\", \"Fallacieux\", \"NonFallacieux\", \"NonFallacieux\", \n . \"Fallacieux\", \"Fallacieux\", \"NonFallacieux\", \"NonFallacieux\", \n . \"Fallacieux\", \"Fallacieux\", \"NonFallacieux\", \"NonFallacieux\", \n . \"Fallacieux\", \"Fallacieux\", \"NonFallacieux\", \"NonFallacieux\", \n . \"Fallacieux\", \"Fallacieux\", \"NonFallacieux\", \"NonFallacieux\", \n . \"Fallacieux\", \"Fallacieux\", \"NonFallacieux\", \"NonFallacieux\", \n . \"Fallacieux\", \"Fallacieux\", \"NonFallacieux\", \"NonFallacieux\", \n . \"Fallacieux\", \"Fallacieux\", \"NonFallacieux\", \"NonFallacieux\", \n . \"Fallacieux\", \"Fallacieux\", \"NonFallacieux\", \"NonFallacieux\", \n . \"Fallacieux\", \"Fallacieux\", \"NonFallacieux\", \"NonFallacieux\", \n . \"Fallacieux\", \"Fallacieux\", \"NonFallacieux\", \"NonFallacieux\", \n . \"Fallacieux\", \"Fallacieux\", \"NonFallacieux\", \"NonFallacieux\", \n . \"Fallacieux\", \"Fallacieux\", \"NonFallacieux\", \"NonFallacieux\", \n . \"Fallacieux\", \"Fallacieux\", \"NonFallacieux\", \"NonFallacieux\", \n . \"Fallacieux\", \"Fallacieux\", \"NonFallacieux\", \"NonFallacieux\", \n . \"Fallacieux\", \"Fallacieux\", \"NonFallacieux\", \"NonFallacieux\", \n . \"Fallacieux\", \"Fallacieux\", \"NonFallacieux\", \"NonFallacieux\", \n . \"Fallacieux\", \"Fallacieux\", \"NonFallacieux\", \"NonFallacieux\", \n . \"Fallacieux\", \"Fallacieux\", \"NonFallacieux\", \"NonFallacieux\", \n . \"Fallacieux\", \"Fallacieux\", \"NonFallacieux\", \"NonFallacieux\", \n . \"Fallacieux\", \"Fallacieux\", \"NonFallacieux\", \"Fallacieux\", \"Fallacieux\", \n . \"NonFallacieux\", \"NonFallacieux\", \"Fallacieux\", \"Fallacieux\", \n . \"NonFallacieux\", \"NonFallacieux\", \"Fallacieux\", \"Fallacieux\", \n . \"NonFallacieux\", \"NonFallacieux\", \"Fallacieux\", \"Fallacieux\", \n . \"NonFallacieux\", \"NonFallacieux\", \"Fallacieux\", \"Fallacieux\", \n . \"NonFallacieux\", \"NonFallacieux\", \"Fallacieux\", \"Fallacieux\", \n . \"NonFallacieux\", \"NonFallacieux\", \"Fallacieux\", \"Fallacieux\", \n . \"NonFallacieux\", \"NonFallacieux\", \"Fallacieux\", \"Fallacieux\", \n . \"NonFallacieux\", \"NonFallacieux\", \"Fallacieux\", \"Fallacieux\", \n . \"NonFallacieux\", \"NonFallacieux\", \"Fallacieux\", \"Fallacieux\", \n . \"NonFallacieux\", \"NonFallacieux\", \"Fallacieux\", \"Fallacieux\", \n . \"NonFallacieux\", \"NonFallacieux\", \"Fallacieux\", \"Fallacieux\", \n . \"NonFallacieux\", \"NonFallacieux\", \"Fallacieux\", \"Fallacieux\", \n . \"NonFallacieux\", \"NonFallacieux\", \"Fallacieux\", \"Fallacieux\", \n . \"NonFallacieux\", \"NonFallacieux\", \"Fallacieux\", \"Fallacieux\", \n . \"NonFallacieux\", \"NonFallacieux\", \"Fallacieux\", \"Fallacieux\", \n . \"NonFallacieux\", \"NonFallacieux\", \"Fallacieux\", \"Fallacieux\", \n . \"NonFallacieux\", \"NonFallacieux\", \"Fallacieux\", \"Fallacieux\", \n . \"NonFallacieux\", \"NonFallacieux\", \"Fallacieux\", \"Fallacieux\", \n . \"NonFallacieux\", \"NonFallacieux\", \"Fallacieux\", \"Fallacieux\", \n . \"NonFallacieux\", \"NonFallacieux\", \"Fallacieux\", \"Fallacieux\", \n . \"NonFallacieux\", \"NonFallacieux\", \"Fallacieux\", \"Fallacieux\", \n . \"NonFallacieux\", \"NonFallacieux\", \"Fallacieux\", \"Fallacieux\", \n . \"NonFallacieux\", \"NonFallacieux\", \"Fallacieux\", \"Fallacieux\", \n . \"NonFallacieux\", \"NonFallacieux\", \"Fallacieux\", \"Fallacieux\", \n . \"NonFallacieux\", \"NonFallacieux\", \"Fallacieux\", \"Fallacieux\", \n . \"NonFallacieux\", \"NonFallacieux\", \"Fallacieux\", \"Fallacieux\", \n . \"NonFallacieux\", \"NonFallacieux\", \"Fallacieux\", \"Fallacieux\", \n . \"NonFallacieux\", \"NonFallacieux\", \"Fallacieux\", \"Fallacieux\", \n . \"NonFallacieux\", \"NonFallacieux\", \"Fallacieux\", \"Fallacieux\", \n . \"NonFallacieux\", \"NonFallacieux\", \"Fallacieux\", \"Fallacieux\", \n . \"NonFallacieux\", \"NonFallacieux\", \"Fallacieux\", \"Fallacieux\", \n . \"NonFallacieux\", \"NonFallacieux\", \"Fallacieux\", \"Fallacieux\", \n . \"NonFallacieux\", \"NonFallacieux\", \"Fallacieux\", \"Fallacieux\", \n . \"NonFallacieux\", \"NonFallacieux\", \"Fallacieux\", \"Fallacieux\", \n . \"NonFallacieux\", \"NonFallacieux\", \"Fallacieux\", \"Fallacieux\", \n . \"NonFallacieux\", \"NonFallacieux\", \"Fallacieux\", \"Fallacieux\", \n . \"NonFallacieux\", \"NonFallacieux\", \"Fallacieux\", \"Fallacieux\", \n . \"NonFallacieux\", \"NonFallacieux\", \"Fallacieux\", \"Fallacieux\", \n . \"NonFallacieux\", \"NonFallacieux\", \"Fallacieux\", \"Fallacieux\", \n . \"NonFallacieux\", \"NonFallacieux\", \"Fallacieux\", \"Fallacieux\", \n . \"NonFallacieux\", \"NonFallacieux\", \"Fallacieux\", \"Fallacieux\", \n . \"NonFallacieux\", \"NonFallacieux\", \"Fallacieux\", \"Fallacieux\", \n . \"NonFallacieux\", \"NonFallacieux\", \"Fallacieux\", \"Fallacieux\", \n . \"NonFallacieux\", \"NonFallacieux\", \"Fallacieux\", \"Fallacieux\", \n . \"NonFallacieux\", \"NonFallacieux\", \"Fallacieux\", \"Fallacieux\", \n . \"NonFallacieux\", \"NonFallacieux\", \"Fallacieux\", \"Fallacieux\", \n . \"NonFallacieux\", \"NonFallacieux\", \"Fallacieux\", \"Fallacieux\", \n . \"NonFallacieux\", \"NonFallacieux\", \"Fallacieux\", \"Fallacieux\", \n . \"NonFallacieux\", \"NonFallacieux\", \"Fallacieux\", \"Fallacieux\", \n . \"NonFallacieux\", \"NonFallacieux\", \"Fallacieux\", \"Fallacieux\", \n . \"NonFallacieux\", \"NonFallacieux\", \"Fallacieux\", \"Fallacieux\", \n . \"NonFallacieux\", \"NonFallacieux\", \"Fallacieux\", \"Fallacieux\", \n . \"NonFallacieux\", \"NonFallacieux\", \"Fallacieux\", \"Fallacieux\", \n . \"NonFallacieux\", \"NonFallacieux\", \"Fallacieux\", \"Fallacieux\", \n . \"NonFallacieux\", \"NonFallacieux\", \"Fallacieux\", \"Fallacieux\", \n . \"NonFallacieux\", \"NonFallacieux\", \"Fallacieux\", \"Fallacieux\", \n . \"NonFallacieux\", \"NonFallacieux\", \"Fallacieux\", \"Fallacieux\", \n . \"NonFallacieux\", \"NonFallacieux\", \"Fallacieux\", \"Fallacieux\", \n . \"NonFallacieux\", \"NonFallacieux\", \"Fallacieux\", \"Fallacieux\", \n . \"NonFallacieux\", \"NonFallacieux\", \"Fallacieux\", \"Fallacieux\", \n . \"NonFallacieux\", \"NonFallacieux\", \"Fallacieux\", \"Fallacieux\", \n . \"NonFallacieux\", \"NonFallacieux\", \"Fallacieux\", \"Fallacieux\", \n . \"NonFallacieux\", \"NonFallacieux\", \"Fallacieux\", \"Fallacieux\", \n . \"NonFallacieux\", \"NonFallacieux\", \"Fallacieux\", \"Fallacieux\", \n . \"NonFallacieux\", \"NonFallacieux\", \"Fallacieux\", \"Fallacieux\", \n . \"NonFallacieux\", \"NonFallacieux\", \"Fallacieux\", \"Fallacieux\", \n . \"NonFallacieux\", \"NonFallacieux\", \"Fallacieux\", \"Fallacieux\", \n . \"NonFallacieux\", \"NonFallacieux\", \"Fallacieux\", \"Fallacieux\", \n . \"NonFallacieux\", \"NonFallacieux\", \"Fallacieux\", \"Fallacieux\", \n . \"NonFallacieux\", \"NonFallacieux\", \"Fallacieux\", \"Fallacieux\", \n . \"NonFallacieux\", \"NonFallacieux\", \"Fallacieux\", \"Fallacieux\", \n . \"NonFallacieux\", \"NonFallacieux\", \"Fallacieux\", \"Fallacieux\", \n . \"NonFallacieux\", \"NonFallacieux\", \"Fallacieux\", \"Fallacieux\", \n . \"NonFallacieux\", \"NonFallacieux\", \"Fallacieux\", \"Fallacieux\", \n . \"NonFallacieux\", \"NonFallacieux\", \"Fallacieux\", \"Fallacieux\", \n . \"NonFallacieux\", \"NonFallacieux\", \"Fallacieux\", \"Fallacieux\", \n . \"NonFallacieux\", \"NonFallacieux\", \"Fallacieux\", \"Fallacieux\", \n . \"NonFallacieux\", \"NonFallacieux\", \"Fallacieux\", \"Fallacieux\", \n . \"NonFallacieux\", \"NonFallacieux\", \"Fallacieux\", \"Fallacieux\", \n . \"NonFallacieux\", \"NonFallacieux\", \"Fallacieux\", \"Fallacieux\", \n . \"NonFallacieux\", \"NonFallacieux\", \"Fallacieux\", \"Fallacieux\", \n . \"NonFallacieux\", \"NonFallacieux\", \"Fallacieux\", \"Fallacieux\", \n . \"NonFallacieux\", \"NonFallacieux\", \"Fallacieux\", \"Fallacieux\", \n . \"NonFallacieux\", \"NonFallacieux\", \"Fallacieux\", \"Fallacieux\", \n . \"NonFallacieux\", \"NonFallacieux\", \"Fallacieux\", \"Fallacieux\", \n . \"NonFallacieux\", \"NonFallacieux\", \"Fallacieux\", \"Fallacieux\", \n . \"NonFallacieux\", \"NonFallacieux\", \"Fallacieux\", \"Fallacieux\", \n . \"NonFallacieux\", \"NonFallacieux\", \"Fallacieux\", \"Fallacieux\", \n . \"NonFallacieux\", \"NonFallacieux\", \"Fallacieux\", \"Fallacieux\", \n . \"NonFallacieux\", \"NonFallacieux\", \"Fallacieux\", \"Fallacieux\", \n . \"NonFallacieux\", \"NonFallacieux\", \"Fallacieux\", \"Fallacieux\", \n . \"NonFallacieux\", \"NonFallacieux\", \"Fallacieux\", \"Fallacieux\", \n . \"NonFallacieux\", \"NonFallacieux\", \"Fallacieux\", \"Fallacieux\", \n . \"NonFallacieux\", \"NonFallacieux\", \"Fallacieux\", \"Fallacieux\", \n . \"NonFallacieux\", \"NonFallacieux\", \"Fallacieux\", \"Fallacieux\", \n . \"NonFallacieux\", \"NonFallacieux\", \"Fallacieux\", \"Fallacieux\", \n . \"NonFallacieux\", \"NonFallacieux\", \"Fallacieux\", \"Fallacieux\", \n . \"NonFallacieux\", \"NonFallacieux\", \"Fallacieux\", \"Fallacieux\", \n . \"NonFallacieux\", \"NonFallacieux\", \"Fallacieux\", \"Fallacieux\", \n . \"NonFallacieux\", \"NonFallacieux\", \"Fallacieux\", \"Fallacieux\", \n . \"NonFallacieux\", \"NonFallacieux\", \"Fallacieux\", \"Fallacieux\", \n . \"NonFallacieux\", \"NonFallacieux\", \"Fallacieux\", \"Fallacieux\", \n . \"NonFallacieux\", \"NonFallacieux\", \"Fallacieux\", \"Fallacieux\", \n . \"NonFallacieux\", \"NonFallacieux\", \"Fallacieux\", \"Fallacieux\", \n . \"NonFallacieux\", \"NonFallacieux\", \"Fallacieux\", \"Fallacieux\", \n . \"NonFallacieux\", \"NonFallacieux\", \"Fallacieux\", \"Fallacieux\", \n . \"NonFallacieux\", \"NonFallacieux\", \"Fallacieux\", \"Fallacieux\", \n . \"NonFallacieux\", \"NonFallacieux\", \"Fallacieux\", \"Fallacieux\", \n . \"NonFallacieux\", \"NonFallacieux\", \"Fallacieux\", \"Fallacieux\", \n . \"NonFallacieux\", \"Fallacieux\", \"Fallacieux\", \"NonFallacieux\", \n . \"NonFallacieux\", \"Fallacieux\", \"Fallacieux\", \"NonFallacieux\", \n . \"NonFallacieux\", \"Fallacieux\", \"Fallacieux\", \"NonFallacieux\", \n . \"NonFallacieux\", \"Fallacieux\", \"Fallacieux\", \"NonFallacieux\", \n . \"NonFallacieux\", \"Fallacieux\", \"Fallacieux\", \"NonFallacieux\", \n . \"NonFallacieux\", \"Fallacieux\", \"Fallacieux\", \"NonFallacieux\", \n . \"NonFallacieux\", \"Fallacieux\", \"Fallacieux\", \"NonFallacieux\", \n . \"NonFallacieux\", \"Fallacieux\", \"Fallacieux\", \"NonFallacieux\", \n . \"NonFallacieux\", \"Fallacieux\", \"Fallacieux\", \"NonFallacieux\", \n . \"NonFallacieux\", \"Fallacieux\", \"Fallacieux\", \"NonFallacieux\", \n . \"NonFallacieux\", \"Fallacieux\", \"Fallacieux\", \"NonFallacieux\", \n . \"NonFallacieux\", \"Fallacieux\", \"Fallacieux\", \"NonFallacieux\", \n . \"NonFallacieux\", \"Fallacieux\", \"Fallacieux\", \"NonFallacieux\", \n . \"NonFallacieux\", \"Fallacieux\", \"Fallacieux\", \"NonFallacieux\", \n . \"NonFallacieux\", \"Fallacieux\", \"Fallacieux\", \"NonFallacieux\", \n . \"NonFallacieux\", \"Fallacieux\", \"Fallacieux\", \"NonFallacieux\", \n . \"NonFallacieux\", \"Fallacieux\", \"Fallacieux\", \"NonFallacieux\", \n . \"NonFallacieux\", \"Fallacieux\", \"Fallacieux\", \"NonFallacieux\", \n . \"NonFallacieux\", \"Fallacieux\", \"Fallacieux\", \"NonFallacieux\", \n . \"NonFallacieux\", \"Fallacieux\", \"Fallacieux\", \"NonFallacieux\", \n . \"NonFallacieux\", \"Fallacieux\", \"Fallacieux\", \"NonFallacieux\", \n . \"NonFallacieux\", \"Fallacieux\", \"Fallacieux\", \"NonFallacieux\", \n . \"NonFallacieux\", \"Fallacieux\", \"Fallacieux\", \"NonFallacieux\", \n . \"NonFallacieux\", \"Fallacieux\", \"Fallacieux\", \"NonFallacieux\", \n . \"NonFallacieux\", \"Fallacieux\", \"Fallacieux\", \"NonFallacieux\", \n . \"NonFallacieux\", \"Fallacieux\", \"Fallacieux\", \"NonFallacieux\", \n . \"NonFallacieux\", \"Fallacieux\", \"Fallacieux\", \"NonFallacieux\", \n . \"NonFallacieux\", \"Fallacieux\", \"Fallacieux\", \"NonFallacieux\", \n . \"NonFallacieux\", \"Fallacieux\", \"Fallacieux\", \"NonFallacieux\", \n . \"NonFallacieux\", \"Fallacieux\", \"Fallacieux\", \"NonFallacieux\", \n . \"NonFallacieux\", \"Fallacieux\", \"Fallacieux\", \"NonFallacieux\", \n . \"NonFallacieux\", \"Fallacieux\", \"Fallacieux\", \"NonFallacieux\", \n . \"NonFallacieux\", \"Fallacieux\", \"Fallacieux\", \"NonFallacieux\", \n . \"NonFallacieux\", \"Fallacieux\", \"Fallacieux\", \"NonFallacieux\", \n . \"NonFallacieux\", \"Fallacieux\", \"Fallacieux\", \"NonFallacieux\", \n . \"NonFallacieux\", \"Fallacieux\", \"Fallacieux\", \"NonFallacieux\", \n . \"NonFallacieux\", \"Fallacieux\", \"Fallacieux\", \"NonFallacieux\", \n . \"NonFallacieux\", \"Fallacieux\", \"Fallacieux\", \"NonFallacieux\", \n . \"NonFallacieux\", \"Fallacieux\", \"Fallacieux\", \"NonFallacieux\", \n . \"NonFallacieux\", \"Fallacieux\", \"Fallacieux\", \"NonFallacieux\", \n . \"NonFallacieux\", \"Fallacieux\", \"Fallacieux\", \"NonFallacieux\", \n . \"NonFallacieux\", \"Fallacieux\", \"Fallacieux\", \"NonFallacieux\", \n . \"NonFallacieux\", \"Fallacieux\", \"Fallacieux\", \"NonFallacieux\", \n . \"NonFallacieux\", \"Fallacieux\", \"Fallacieux\", \"NonFallacieux\", \n . \"NonFallacieux\", \"Fallacieux\", \"Fallacieux\", \"NonFallacieux\", \n . \"NonFallacieux\", \"Fallacieux\", \"Fallacieux\", \"NonFallacieux\", \n . \"NonFallacieux\", \"Fallacieux\", \"Fallacieux\", \"NonFallacieux\", \n . \"NonFallacieux\", \"Fallacieux\", \"Fallacieux\", \"NonFallacieux\", \n . \"NonFallacieux\", \"Fallacieux\", \"Fallacieux\", \"NonFallacieux\", \n . \"NonFallacieux\", \"Fallacieux\", \"Fallacieux\", \"NonFallacieux\", \n . \"NonFallacieux\", \"Fallacieux\", \"Fallacieux\", \"NonFallacieux\", \n . \"NonFallacieux\", \"Fallacieux\", \"Fallacieux\", \"NonFallacieux\", \n . \"NonFallacieux\", \"Fallacieux\", \"Fallacieux\", \"NonFallacieux\", \n . \"NonFallacieux\", \"Fallacieux\", \"Fallacieux\", \"NonFallacieux\", \n . \"NonFallacieux\", \"Fallacieux\", \"Fallacieux\", \"NonFallacieux\", \n . \"NonFallacieux\", \"Fallacieux\", \"Fallacieux\", \"NonFallacieux\", \n . \"NonFallacieux\", \"Fallacieux\", \"Fallacieux\", \"NonFallacieux\", \n . \"NonFallacieux\", \"Fallacieux\", \"Fallacieux\", \"NonFallacieux\", \n . \"NonFallacieux\", \"Fallacieux\", \"Fallacieux\", \"NonFallacieux\", \n . \"NonFallacieux\", \"Fallacieux\", \"Fallacieux\", \"NonFallacieux\", \n . \"NonFallacieux\", \"Fallacieux\", \"Fallacieux\", \"NonFallacieux\", \n . \"NonFallacieux\", \"Fallacieux\", \"Fallacieux\", \"NonFallacieux\", \n . \"NonFallacieux\", \"Fallacieux\", \"Fallacieux\", \"NonFallacieux\", \n . \"NonFallacieux\", \"Fallacieux\", \"Fallacieux\", \"NonFallacieux\", \n . \"NonFallacieux\", \"Fallacieux\", \"Fallacieux\", \"NonFallacieux\", \n . \"NonFallacieux\", \"Fallacieux\", \"Fallacieux\", \"NonFallacieux\", \n . \"NonFallacieux\", \"Fallacieux\", \"Fallacieux\", \"NonFallacieux\", \n . \"NonFallacieux\", \"Fallacieux\", \"Fallacieux\", \"NonFallacieux\", \n . \"NonFallacieux\", \"Fallacieux\", \"Fallacieux\", \"NonFallacieux\", \n . \"NonFallacieux\", \"Fallacieux\", \"Fallacieux\", \"NonFallacieux\", \n . \"NonFallacieux\", \"Fallacieux\", \"NonFallacieux\", \"NonFallacieux\", \n . \"Fallacieux\", \"Fallacieux\", \"NonFallacieux\", \"NonFallacieux\", \n . \"Fallacieux\", \"Fallacieux\", \"NonFallacieux\", \"NonFallacieux\", \n . \"Fallacieux\", \"Fallacieux\", \"NonFallacieux\", \"NonFallacieux\", \n . \"Fallacieux\", \"Fallacieux\", \"NonFallacieux\", \"NonFallacieux\", \n . \"Fallacieux\", \"Fallacieux\", \"NonFallacieux\", \"NonFallacieux\", \n . \"Fallacieux\", \"Fallacieux\", \"NonFallacieux\", \"NonFallacieux\", \n . \"Fallacieux\", \"Fallacieux\", \"NonFallacieux\", \"NonFallacieux\", \n . \"Fallacieux\", \"Fallacieux\", \"NonFallacieux\", \"NonFallacieux\", \n . \"Fallacieux\", \"Fallacieux\", \"NonFallacieux\", \"NonFallacieux\", \n . \"Fallacieux\", \"Fallacieux\", \"NonFallacieux\", \"NonFallacieux\", \n . \"Fallacieux\", \"Fallacieux\", \"NonFallacieux\", \"NonFallacieux\", \n . \"Fallacieux\", \"Fallacieux\", \"NonFallacieux\", \"NonFallacieux\", \n . \"Fallacieux\", \"Fallacieux\", \"NonFallacieux\", \"NonFallacieux\", \n . \"Fallacieux\", \"Fallacieux\", \"NonFallacieux\", \"NonFallacieux\", \n . \"Fallacieux\", \"Fallacieux\", \"NonFallacieux\", \"NonFallacieux\", \n . \"Fallacieux\", \"Fallacieux\", \"NonFallacieux\", \"NonFallacieux\", \n . \"Fallacieux\", \"Fallacieux\", \"NonFallacieux\", \"NonFallacieux\", \n . \"Fallacieux\", \"Fallacieux\", \"NonFallacieux\", \"NonFallacieux\", \n . \"Fallacieux\", \"Fallacieux\", \"NonFallacieux\", \"NonFallacieux\", \n . \"Fallacieux\", \"Fallacieux\", \"NonFallacieux\", \"NonFallacieux\", \n . \"Fallacieux\", \"Fallacieux\", \"NonFallacieux\", \"NonFallacieux\", \n . \"Fallacieux\", \"Fallacieux\", \"NonFallacieux\", \"NonFallacieux\", \n . \"Fallacieux\", \"Fallacieux\", \"NonFallacieux\", \"NonFallacieux\", \n . \"Fallacieux\", \"Fallacieux\", \"NonFallacieux\", \"NonFallacieux\", \n . \"Fallacieux\", \"Fallacieux\", \"NonFallacieux\", \"NonFallacieux\", \n . \"Fallacieux\", \"Fallacieux\", \"NonFallacieux\", \"NonFallacieux\", \n . \"Fallacieux\", \"Fallacieux\", \"NonFallacieux\", \"NonFallacieux\", \n . \"Fallacieux\", \"Fallacieux\", \"NonFallacieux\", \"NonFallacieux\", \n . \"Fallacieux\", \"Fallacieux\", \"NonFallacieux\", \"NonFallacieux\", \n . \"Fallacieux\", \"Fallacieux\", \"NonFallacieux\", \"NonFallacieux\", \n . \"Fallacieux\", \"Fallacieux\", \"NonFallacieux\", \"NonFallacieux\", \n . \"Fallacieux\", \"Fallacieux\", \"NonFallacieux\", \"NonFallacieux\", \n . \"Fallacieux\", \"Fallacieux\", \"NonFallacieux\", \"NonFallacieux\", \n . \"Fallacieux\", \"Fallacieux\", \"NonFallacieux\", \"NonFallacieux\", \n . \"Fallacieux\", \"Fallacieux\", \"NonFallacieux\", \"NonFallacieux\", \n . \"Fallacieux\", \"Fallacieux\", \"NonFallacieux\", \"NonFallacieux\", \n . \"Fallacieux\", \"Fallacieux\", \"NonFallacieux\", \"NonFallacieux\", \n . \"Fallacieux\", \"Fallacieux\", \"NonFallacieux\", \"NonFallacieux\", \n . \"Fallacieux\", \"Fallacieux\", \"NonFallacieux\", \"NonFallacieux\", \n . \"Fallacieux\", \"Fallacieux\", \"NonFallacieux\", \"NonFallacieux\", \n . \"Fallacieux\", \"Fallacieux\", \"NonFallacieux\", \"NonFallacieux\", \n . \"Fallacieux\", \"Fallacieux\", \"NonFallacieux\", \"NonFallacieux\", \n . \"Fallacieux\", \"Fallacieux\", \"NonFallacieux\", \"NonFallacieux\", \n . \"Fallacieux\", \"Fallacieux\", \"NonFallacieux\", \"NonFallacieux\", \n . \"Fallacieux\", \"Fallacieux\", \"NonFallacieux\", \"NonFallacieux\", \n . \"Fallacieux\", \"Fallacieux\", \"NonFallacieux\", \"NonFallacieux\", \n . \"Fallacieux\", \"Fallacieux\", \"NonFallacieux\", \"NonFallacieux\", \n . \"Fallacieux\", \"Fallacieux\", \"NonFallacieux\", \"NonFallacieux\", \n . \"Fallacieux\", \"Fallacieux\", \"NonFallacieux\", \"NonFallacieux\", \n . \"Fallacieux\", \"Fallacieux\", \"NonFallacieux\", \"NonFallacieux\", \n . \"Fallacieux\", \"Fallacieux\", \"NonFallacieux\", \"NonFallacieux\", \n . \"Fallacieux\", \"Fallacieux\", \"NonFallacieux\", \"NonFallacieux\", \n . \"Fallacieux\", \"Fallacieux\", \"NonFallacieux\", \"NonFallacieux\", \n . \"Fallacieux\", \"Fallacieux\", \"NonFallacieux\", \"NonFallacieux\", \n . \"Fallacieux\", \"Fallacieux\", \"NonFallacieux\", \"NonFallacieux\", \n . \"Fallacieux\", \"Fallacieux\", \"NonFallacieux\", \"NonFallacieux\", \n . \"Fallacieux\", \"Fallacieux\", \"NonFallacieux\", \"NonFallacieux\", \n . \"Fallacieux\", \"Fallacieux\", \"NonFallacieux\", \"NonFallacieux\", \n . \"Fallacieux\", \"Fallacieux\", \"NonFallacieux\", \"NonFallacieux\", \n . \"Fallacieux\", \"Fallacieux\", \"NonFallacieux\", \"NonFallacieux\", \n . \"Fallacieux\", \"Fallacieux\", \"NonFallacieux\", \"NonFallacieux\", \n . \"Fallacieux\", \"Fallacieux\", \"NonFallacieux\", \"NonFallacieux\", \n . \"Fallacieux\", \"Fallacieux\", \"NonFallacieux\", \"NonFallacieux\", \n . \"Fallacieux\", \"Fallacieux\", \"NonFallacieux\", \"NonFallacieux\", \n . \"Fallacieux\", \"Fallacieux\", \"NonFallacieux\", \"NonFallacieux\", \n . \"Fallacieux\", \"Fallacieux\", \"NonFallacieux\", \"NonFallacieux\", \n . \"Fallacieux\", \"Fallacieux\", \"NonFallacieux\", \"NonFallacieux\", \n . \"Fallacieux\", \"Fallacieux\", \"NonFallacieux\", \"NonFallacieux\", \n . \"Fallacieux\", \"Fallacieux\", \"NonFallacieux\", \"NonFallacieux\", \n . \"Fallacieux\", \"Fallacieux\", \"NonFallacieux\", \"NonFallacieux\", \n . \"Fallacieux\", \"Fallacieux\", \"NonFallacieux\", \"NonFallacieux\", \n . \"Fallacieux\", \"Fallacieux\", \"NonFallacieux\", \"NonFallacieux\", \n . \"Fallacieux\", \"Fallacieux\", \"NonFallacieux\", \"NonFallacieux\", \n . \"Fallacieux\", \"Fallacieux\", \"NonFallacieux\", \"NonFallacieux\", \n . \"Fallacieux\", \"Fallacieux\", \"NonFallacieux\", \"NonFallacieux\", \n . \"Fallacieux\", \"Fallacieux\", \"NonFallacieux\", \"NonFallacieux\", \n . \"Fallacieux\", \"Fallacieux\", \"NonFallacieux\", \"NonFallacieux\", \n . \"Fallacieux\", \"Fallacieux\", \"NonFallacieux\", \"NonFallacieux\", \n . \"Fallacieux\", \"Fallacieux\", \"NonFallacieux\", \"NonFallacieux\", \n . \"Fallacieux\", \"NonFallacieux\", \"NonFallacieux\", \"Fallacieux\", \n . \"Fallacieux\", \"NonFallacieux\", \"NonFallacieux\", \"Fallacieux\", \n . \"Fallacieux\", \"NonFallacieux\", \"NonFallacieux\", \"Fallacieux\", \n . \"Fallacieux\", \"NonFallacieux\", \"NonFallacieux\", \"Fallacieux\", \n . \"Fallacieux\", \"NonFallacieux\", \"NonFallacieux\", \"Fallacieux\", \n . \"Fallacieux\", \"NonFallacieux\", \"NonFallacieux\", \"Fallacieux\", \n . \"Fallacieux\", \"NonFallacieux\", \"NonFallacieux\", \"Fallacieux\", \n . \"Fallacieux\", \"NonFallacieux\", \"NonFallacieux\", \"Fallacieux\", \n . \"Fallacieux\", \"NonFallacieux\", \"NonFallacieux\", \"Fallacieux\", \n . \"Fallacieux\", \"NonFallacieux\", \"NonFallacieux\", \"Fallacieux\", \n . \"Fallacieux\", \"NonFallacieux\", \"NonFallacieux\", \"Fallacieux\", \n . \"Fallacieux\", \"NonFallacieux\", \"NonFallacieux\", \"Fallacieux\", \n . \"Fallacieux\", \"NonFallacieux\", \"NonFallacieux\", \"Fallacieux\", \n . \"Fallacieux\", \"NonFallacieux\", \"NonFallacieux\", \"Fallacieux\", \n . \"Fallacieux\", \"NonFallacieux\", \"NonFallacieux\", \"Fallacieux\", \n . \"Fallacieux\", \"NonFallacieux\", \"NonFallacieux\", \"Fallacieux\", \n . \"Fallacieux\", \"NonFallacieux\", \"NonFallacieux\", \"Fallacieux\", \n . \"Fallacieux\", \"NonFallacieux\", \"NonFallacieux\", \"Fallacieux\", \n . \"Fallacieux\", \"NonFallacieux\", \"NonFallacieux\", \"Fallacieux\", \n . \"Fallacieux\", \"NonFallacieux\", \"NonFallacieux\", \"Fallacieux\", \n . \"Fallacieux\", \"NonFallacieux\", \"NonFallacieux\", \"Fallacieux\", \n . \"Fallacieux\", \"NonFallacieux\", \"NonFallacieux\", \"Fallacieux\", \n . \"Fallacieux\", \"NonFallacieux\", \"NonFallacieux\", \"Fallacieux\", \n . \"Fallacieux\", \"NonFallacieux\", \"NonFallacieux\", \"Fallacieux\", \n . \"Fallacieux\", \"NonFallacieux\", \"NonFallacieux\", \"Fallacieux\", \n . \"Fallacieux\", \"NonFallacieux\", \"NonFallacieux\", \"Fallacieux\", \n . \"Fallacieux\", \"NonFallacieux\", \"NonFallacieux\", \"Fallacieux\", \n . \"Fallacieux\", \"NonFallacieux\", \"NonFallacieux\", \"Fallacieux\", \n . \"Fallacieux\", \"NonFallacieux\", \"NonFallacieux\", \"Fallacieux\", \n . \"Fallacieux\", \"NonFallacieux\", \"NonFallacieux\", \"Fallacieux\", \n . \"Fallacieux\", \"NonFallacieux\", \"NonFallacieux\", \"Fallacieux\", \n . \"Fallacieux\", \"NonFallacieux\", \"NonFallacieux\", \"Fallacieux\", \n . \"Fallacieux\", \"NonFallacieux\", \"NonFallacieux\", \"Fallacieux\", \n . \"Fallacieux\", \"NonFallacieux\", \"NonFallacieux\", \"Fallacieux\", \n . \"Fallacieux\", \"NonFallacieux\", \"NonFallacieux\", \"Fallacieux\", \n . \"Fallacieux\", \"NonFallacieux\", \"NonFallacieux\", \"Fallacieux\", \n . \"Fallacieux\", \"NonFallacieux\", \"NonFallacieux\", \"Fallacieux\", \n . \"Fallacieux\", \"NonFallacieux\", \"NonFallacieux\", \"Fallacieux\", \n . \"Fallacieux\", \"NonFallacieux\", \"NonFallacieux\", \"Fallacieux\", \n . \"Fallacieux\", \"NonFallacieux\", \"NonFallacieux\", \"Fallacieux\", \n . \"Fallacieux\", \"NonFallacieux\", \"NonFallacieux\", \"Fallacieux\", \n . \"Fallacieux\", \"NonFallacieux\", \"NonFallacieux\", \"Fallacieux\", \n . \"Fallacieux\", \"NonFallacieux\", \"NonFallacieux\", \"Fallacieux\", \n . \"Fallacieux\", \"NonFallacieux\", \"NonFallacieux\", \"Fallacieux\", \n . \"Fallacieux\", \"NonFallacieux\", \"NonFallacieux\", \"Fallacieux\", \n . \"Fallacieux\", \"NonFallacieux\", \"NonFallacieux\", \"Fallacieux\", \n . \"Fallacieux\", \"NonFallacieux\", \"NonFallacieux\", \"Fallacieux\", \n . \"Fallacieux\", \"NonFallacieux\", \"NonFallacieux\", \"Fallacieux\", \n . \"Fallacieux\", \"NonFallacieux\", \"NonFallacieux\", \"Fallacieux\", \n . \"Fallacieux\", \"NonFallacieux\", \"NonFallacieux\", \"Fallacieux\", \n . \"Fallacieux\", \"NonFallacieux\", \"NonFallacieux\", \"Fallacieux\", \n . \"Fallacieux\", \"NonFallacieux\", \"NonFallacieux\", \"Fallacieux\", \n . \"Fallacieux\", \"NonFallacieux\", \"NonFallacieux\", \"Fallacieux\", \n . \"Fallacieux\", \"NonFallacieux\", \"NonFallacieux\", \"Fallacieux\", \n . \"Fallacieux\", \"NonFallacieux\", \"NonFallacieux\", \"Fallacieux\", \n . \"Fallacieux\", \"NonFallacieux\", \"NonFallacieux\", \"Fallacieux\", \n . \"Fallacieux\", \"NonFallacieux\", \"NonFallacieux\", \"Fallacieux\", \n . \"Fallacieux\", \"NonFallacieux\", \"NonFallacieux\", \"Fallacieux\", \n . \"Fallacieux\", \"NonFallacieux\", \"NonFallacieux\", \"Fallacieux\", \n . \"Fallacieux\", \"NonFallacieux\", \"NonFallacieux\", \"Fallacieux\", \n . \"Fallacieux\", \"NonFallacieux\", \"NonFallacieux\", \"Fallacieux\", \n . \"Fallacieux\", \"NonFallacieux\", \"NonFallacieux\", \"Fallacieux\", \n . \"Fallacieux\", \"NonFallacieux\", \"NonFallacieux\", \"Fallacieux\", \n . \"Fallacieux\", \"NonFallacieux\", \"NonFallacieux\", \"Fallacieux\", \n . \"Fallacieux\", \"NonFallacieux\", \"NonFallacieux\", \"Fallacieux\", \n . \"Fallacieux\", \"NonFallacieux\", \"NonFallacieux\", \"Fallacieux\", \n . \"Fallacieux\", \"NonFallacieux\", \"NonFallacieux\", \"Fallacieux\", \n . \"Fallacieux\", \"NonFallacieux\", \"NonFallacieux\", \"Fallacieux\", \n . \"Fallacieux\", \"NonFallacieux\", \"NonFallacieux\", \"Fallacieux\", \n . \"Fallacieux\", \"NonFallacieux\", \"NonFallacieux\", \"Fallacieux\", \n . \"Fallacieux\", \"NonFallacieux\", \"NonFallacieux\", \"Fallacieux\", \n . \"Fallacieux\", \"NonFallacieux\", \"NonFallacieux\", \"Fallacieux\", \n . \"Fallacieux\", \"NonFallacieux\", \"NonFallacieux\", \"Fallacieux\", \n . \"Fallacieux\", \"NonFallacieux\", \"NonFallacieux\", \"Fallacieux\", \n . \"Fallacieux\", \"NonFallacieux\", \"NonFallacieux\", \"Fallacieux\", \n . \"Fallacieux\", \"NonFallacieux\", \"NonFallacieux\", \"Fallacieux\", \n . \"Fallacieux\", \"NonFallacieux\", \"NonFallacieux\", \"Fallacieux\", \n . \"Fallacieux\", \"NonFallacieux\", \"NonFallacieux\", \"Fallacieux\", \n . \"Fallacieux\", \"NonFallacieux\", \"NonFallacieux\", \"Fallacieux\", \n . \"Fallacieux\", \"NonFallacieux\", \"NonFallacieux\", \"Fallacieux\", \n . \"Fallacieux\", \"NonFallacieux\", \"NonFallacieux\", \"Fallacieux\", \n . \"Fallacieux\", \"NonFallacieux\", \"NonFallacieux\", \"Fallacieux\", \n . \"Fallacieux\", \"NonFallacieux\", \"NonFallacieux\", \"Fallacieux\", \n . \"Fallacieux\", \"NonFallacieux\", \"NonFallacieux\", \"Fallacieux\", \n . \"Fallacieux\", \"NonFallacieux\", \"NonFallacieux\", \"Fallacieux\", \n . \"Fallacieux\", \"NonFallacieux\", \"NonFallacieux\", \"Fallacieux\", \n . \"Fallacieux\", \"NonFallacieux\", \"NonFallacieux\", \"Fallacieux\", \n . \"Fallacieux\", \"NonFallacieux\", \"NonFallacieux\", \"Fallacieux\", \n . \"Fallacieux\", \"NonFallacieux\", \"NonFallacieux\", \"Fallacieux\", \n . \"Fallacieux\", \"NonFallacieux\", \"NonFallacieux\", \"Fallacieux\", \n . \"Fallacieux\", \"NonFallacieux\", \"Fallacieux\", \"Fallacieux\", \"NonFallacieux\", \n . \"NonFallacieux\", \"Fallacieux\", \"Fallacieux\", \"NonFallacieux\", \n . \"NonFallacieux\", \"Fallacieux\", \"Fallacieux\", \"NonFallacieux\", \n . \"NonFallacieux\", \"Fallacieux\", \"Fallacieux\", \"NonFallacieux\", \n . \"NonFallacieux\", \"Fallacieux\", \"Fallacieux\", \"NonFallacieux\", \n . \"NonFallacieux\", \"Fallacieux\", \"Fallacieux\", \"NonFallacieux\", \n . \"NonFallacieux\", \"Fallacieux\", \"Fallacieux\", \"NonFallacieux\", \n . \"NonFallacieux\", \"Fallacieux\", \"Fallacieux\", \"NonFallacieux\", \n . \"NonFallacieux\", \"Fallacieux\", \"Fallacieux\", \"NonFallacieux\", \n . \"NonFallacieux\", \"Fallacieux\", \"Fallacieux\", \"NonFallacieux\", \n . \"NonFallacieux\", \"Fallacieux\", \"Fallacieux\", \"NonFallacieux\", \n . \"NonFallacieux\", \"Fallacieux\", \"Fallacieux\", \"NonFallacieux\", \n . \"NonFallacieux\", \"Fallacieux\", \"Fallacieux\", \"NonFallacieux\", \n . \"NonFallacieux\", \"Fallacieux\", \"Fallacieux\", \"NonFallacieux\", \n . \"NonFallacieux\", \"Fallacieux\", \"Fallacieux\", \"NonFallacieux\", \n . \"NonFallacieux\", \"Fallacieux\", \"Fallacieux\", \"NonFallacieux\", \n . \"NonFallacieux\", \"Fallacieux\", \"Fallacieux\", \"NonFallacieux\", \n . \"NonFallacieux\", \"Fallacieux\", \"Fallacieux\", \"NonFallacieux\", \n . \"NonFallacieux\", \"Fallacieux\", \"Fallacieux\", \"NonFallacieux\", \n . \"NonFallacieux\", \"Fallacieux\", \"Fallacieux\", \"NonFallacieux\", \n . \"NonFallacieux\", \"Fallacieux\", \"Fallacieux\", \"NonFallacieux\", \n . \"NonFallacieux\", \"Fallacieux\", \"Fallacieux\", \"NonFallacieux\", \n . \"NonFallacieux\", \"Fallacieux\", \"Fallacieux\", \"NonFallacieux\", \n . \"NonFallacieux\", \"Fallacieux\", \"Fallacieux\", \"NonFallacieux\", \n . \"NonFallacieux\", \"Fallacieux\", \"Fallacieux\", \"NonFallacieux\", \n . \"NonFallacieux\", \"Fallacieux\", \"Fallacieux\", \"NonFallacieux\", \n . \"NonFallacieux\", \"Fallacieux\", \"Fallacieux\", \"NonFallacieux\", \n . \"NonFallacieux\", \"Fallacieux\", \"Fallacieux\", \"NonFallacieux\", \n . \"NonFallacieux\", \"Fallacieux\", \"Fallacieux\", \"NonFallacieux\", \n . \"NonFallacieux\", \"Fallacieux\", \"Fallacieux\", \"NonFallacieux\", \n . \"NonFallacieux\", \"Fallacieux\", \"Fallacieux\", \"NonFallacieux\", \n . \"NonFallacieux\", \"Fallacieux\", \"Fallacieux\", \"NonFallacieux\", \n . \"NonFallacieux\", \"Fallacieux\", \"Fallacieux\", \"NonFallacieux\", \n . \"NonFallacieux\", \"Fallacieux\", \"Fallacieux\", \"NonFallacieux\", \n . \"NonFallacieux\", \"Fallacieux\", \"Fallacieux\", \"NonFallacieux\", \n . \"NonFallacieux\", \"Fallacieux\", \"Fallacieux\", \"NonFallacieux\", \n . \"NonFallacieux\", \"Fallacieux\", \"Fallacieux\", \"NonFallacieux\", \n . \"NonFallacieux\", \"Fallacieux\", \"Fallacieux\", \"NonFallacieux\", \n . \"NonFallacieux\", \"Fallacieux\", \"Fallacieux\", \"NonFallacieux\", \n . \"NonFallacieux\", \"Fallacieux\", \"Fallacieux\", \"NonFallacieux\", \n . \"NonFallacieux\", \"Fallacieux\", \"Fallacieux\", \"NonFallacieux\", \n . \"NonFallacieux\", \"Fallacieux\", \"Fallacieux\", \"NonFallacieux\", \n . \"NonFallacieux\", \"Fallacieux\", \"Fallacieux\", \"NonFallacieux\", \n . \"NonFallacieux\", \"Fallacieux\", \"Fallacieux\", \"NonFallacieux\", \n . \"NonFallacieux\", \"Fallacieux\", \"Fallacieux\", \"NonFallacieux\", \n . \"NonFallacieux\", \"Fallacieux\", \"Fallacieux\", \"NonFallacieux\", \n . \"NonFallacieux\", \"Fallacieux\", \"Fallacieux\", \"NonFallacieux\", \n . \"NonFallacieux\", \"Fallacieux\", \"Fallacieux\", \"NonFallacieux\", \n . \"NonFallacieux\", \"Fallacieux\", \"Fallacieux\", \"NonFallacieux\", \n . \"NonFallacieux\", \"Fallacieux\", \"Fallacieux\", \"NonFallacieux\", \n . \"NonFallacieux\", \"Fallacieux\", \"Fallacieux\", \"NonFallacieux\", \n . \"NonFallacieux\", \"Fallacieux\", \"Fallacieux\", \"NonFallacieux\", \n . \"NonFallacieux\", \"Fallacieux\", \"Fallacieux\", \"NonFallacieux\", \n . \"NonFallacieux\", \"Fallacieux\", \"Fallacieux\", \"NonFallacieux\", \n . \"NonFallacieux\", \"Fallacieux\", \"Fallacieux\", \"NonFallacieux\", \n . \"NonFallacieux\", \"Fallacieux\", \"Fallacieux\", \"NonFallacieux\", \n . \"NonFallacieux\", \"Fallacieux\", \"Fallacieux\", \"NonFallacieux\", \n . \"NonFallacieux\", \"Fallacieux\", \"Fallacieux\", \"NonFallacieux\", \n . \"NonFallacieux\", \"Fallacieux\", \"Fallacieux\", \"NonFallacieux\", \n . \"NonFallacieux\", \"Fallacieux\", \"Fallacieux\", \"NonFallacieux\", \n . \"NonFallacieux\", \"Fallacieux\", \"Fallacieux\", \"NonFallacieux\", \n . \"NonFallacieux\", \"Fallacieux\", \"Fallacieux\", \"NonFallacieux\", \n . \"NonFallacieux\", \"Fallacieux\", \"Fallacieux\", \"NonFallacieux\", \n . \"NonFallacieux\", \"Fallacieux\", \"Fallacieux\", \"NonFallacieux\", \n . \"NonFallacieux\", \"Fallacieux\", \"Fallacieux\", \"NonFallacieux\", \n . \"NonFallacieux\", \"Fallacieux\", \"Fallacieux\", \"NonFallacieux\", \n . \"NonFallacieux\", \"Fallacieux\", \"Fallacieux\", \"NonFallacieux\", \n . \"NonFallacieux\", \"Fallacieux\", \"Fallacieux\", \"NonFallacieux\", \n . \"NonFallacieux\", \"Fallacieux\", \"Fallacieux\", \"NonFallacieux\", \n . \"NonFallacieux\", \"Fallacieux\", \"Fallacieux\", \"NonFallacieux\", \n . \"NonFallacieux\", \"Fallacieux\", \"Fallacieux\", \"NonFallacieux\", \n . \"NonFallacieux\", \"Fallacieux\", \"Fallacieux\", \"NonFallacieux\", \n . \"NonFallacieux\", \"Fallacieux\", \"Fallacieux\", \"NonFallacieux\", \n . \"NonFallacieux\", \"Fallacieux\", \"Fallacieux\", \"NonFallacieux\", \n . \"NonFallacieux\", \"Fallacieux\", \"Fallacieux\", \"NonFallacieux\", \n . \"NonFallacieux\", \"Fallacieux\", \"Fallacieux\", \"NonFallacieux\", \n . \"NonFallacieux\", \"Fallacieux\", \"Fallacieux\", \"NonFallacieux\", \n . \"NonFallacieux\", \"Fallacieux\", \"Fallacieux\", \"NonFallacieux\", \n . \"NonFallacieux\", \"Fallacieux\", \"Fallacieux\", \"NonFallacieux\", \n . \"NonFallacieux\", \"Fallacieux\", \"Fallacieux\", \"NonFallacieux\", \n . \"NonFallacieux\", \"Fallacieux\", \"Fallacieux\", \"NonFallacieux\", \n . \"NonFallacieux\", \"Fallacieux\", \"Fallacieux\", \"NonFallacieux\", \n . \"NonFallacieux\", \"Fallacieux\", \"Fallacieux\", \"NonFallacieux\", \n . \"NonFallacieux\", \"Fallacieux\", \"Fallacieux\", \"NonFallacieux\", \n . \"NonFallacieux\", \"Fallacieux\", \"Fallacieux\", \"NonFallacieux\", \n . \"NonFallacieux\", \"Fallacieux\", \"Fallacieux\", \"NonFallacieux\", \n . \"NonFallacieux\", \"Fallacieux\", \"Fallacieux\", \"NonFallacieux\", \n . \"NonFallacieux\", \"Fallacieux\", \"Fallacieux\", \"NonFallacieux\", \n . \"NonFallacieux\", \"Fallacieux\", \"Fallacieux\", \"NonFallacieux\", \n . \"NonFallacieux\", \"Fallacieux\", \"Fallacieux\", \"NonFallacieux\"), \n .     `Presence Connecteur` = c(\"oui\", \"non\", \"oui\", \"non\", \"oui\", \n .     \"non\", \"oui\", \"non\", \"oui\", \"non\", \"oui\", \"non\", \"oui\", \"non\", \n .     \"oui\", \"non\", \"oui\", \"non\", \"oui\", \"non\", \"oui\", \"non\", \"oui\", \n .     \"non\", \"oui\", \"non\", \"oui\", \"non\", \"oui\", \"non\", \"oui\", \"non\", \n .     \"oui\", \"non\", \"oui\", \"non\", \"oui\", \"non\", \"oui\", \"non\", \"oui\", \n .     \"non\", \"oui\", \"non\", \"oui\", \"non\", \"oui\", \"non\", \"oui\", \"non\", \n .     \"oui\", \"non\", \"oui\", \"non\", \"oui\", \"non\", \"oui\", \"non\", \"oui\", \n .     \"non\", \"oui\", \"non\", \"oui\", \"non\", \"oui\", \"non\", \"oui\", \"non\", \n .     \"oui\", \"non\", \"oui\", \"non\", \"oui\", \"non\", \"oui\", \"non\", \"oui\", \n .     \"non\", \"oui\", \"non\", \"oui\", \"non\", \"oui\", \"non\", \"oui\", \"non\", \n .     \"oui\", \"non\", \"oui\", \"non\", \"oui\", \"non\", \"oui\", \"non\", \"oui\", \n .     \"non\", \"oui\", \"non\", \"oui\", \"non\", \"oui\", \"non\", \"oui\", \"non\", \n .     \"oui\", \"non\", \"oui\", \"non\", \"oui\", \"non\", \"oui\", \"non\", \"oui\", \n .     \"non\", \"oui\", \"non\", \"oui\", \"non\", \"oui\", \"non\", \"oui\", \"non\", \n .     \"oui\", \"non\", \"oui\", \"non\", \"oui\", \"non\", \"oui\", \"non\", \"oui\", \n .     \"non\", \"oui\", \"non\", \"oui\", \"non\", \"oui\", \"non\", \"oui\", \"non\", \n .     \"oui\", \"non\", \"oui\", \"non\", \"oui\", \"non\", \"oui\", \"non\", \"oui\", \n .     \"non\", \"oui\", \"non\", \"oui\", \"non\", \"oui\", \"non\", \"oui\", \"non\", \n .     \"oui\", \"non\", \"oui\", \"non\", \"oui\", \"non\", \"oui\", \"non\", \"oui\", \n .     \"non\", \"oui\", \"non\", \"oui\", \"non\", \"oui\", \"non\", \"oui\", \"non\", \n .     \"oui\", \"non\", \"oui\", \"non\", \"oui\", \"non\", \"oui\", \"non\", \"oui\", \n .     \"non\", \"oui\", \"non\", \"oui\", \"non\", \"oui\", \"non\", \"oui\", \"non\", \n .     \"oui\", \"non\", \"oui\", \"non\", \"oui\", \"non\", \"oui\", \"non\", \"oui\", \n .     \"non\", \"oui\", \"non\", \"oui\", \"non\", \"oui\", \"non\", \"oui\", \"non\", \n .     \"oui\", \"non\", \"oui\", \"non\", \"oui\", \"non\", \"oui\", \"non\", \"oui\", \n .     \"non\", \"oui\", \"non\", \"oui\", \"non\", \"oui\", \"non\", \"oui\", \"non\", \n .     \"oui\", \"non\", \"oui\", \"non\", \"oui\", \"non\", \"oui\", \"non\", \"oui\", \n .     \"non\", \"oui\", \"non\", \"oui\", \"non\", \"oui\", \"non\", \"oui\", \"non\", \n .     \"oui\", \"non\", \"oui\", \"non\", \"oui\", \"non\", \"oui\", \"non\", \"oui\", \n .     \"non\", \"oui\", \"non\", \"oui\", \"non\", \"oui\", \"non\", \"oui\", \"non\", \n .     \"oui\", \"non\", \"oui\", \"non\", \"oui\", \"non\", \"oui\", \"non\", \"oui\", \n .     \"non\", \"oui\", \"non\", \"oui\", \"non\", \"oui\", \"non\", \"oui\", \"non\", \n .     \"oui\", \"non\", \"oui\", \"non\", \"oui\", \"non\", \"oui\", \"non\", \"oui\", \n .     \"non\", \"oui\", \"non\", \"oui\", \"non\", \"oui\", \"non\", \"oui\", \"non\", \n .     \"oui\", \"non\", \"oui\", \"non\", \"oui\", \"non\", \"oui\", \"non\", \"oui\", \n .     \"non\", \"oui\", \"non\", \"oui\", \"non\", \"oui\", \"non\", \"oui\", \"non\", \n .     \"oui\", \"non\", \"oui\", \"non\", \"oui\", \"non\", \"oui\", \"non\", \"oui\", \n .     \"non\", \"oui\", \"non\", \"oui\", \"non\", \"oui\", \"non\", \"oui\", \"non\", \n .     \"oui\", \"non\", \"oui\", \"non\", \"oui\", \"non\", \"oui\", \"non\", \"oui\", \n .     \"non\", \"oui\", \"non\", \"oui\", \"non\", \"oui\", \"non\", \"oui\", \"non\", \n .     \"oui\", \"non\", \"oui\", \"non\", \"non\", \"oui\", \"non\", \"oui\", \"non\", \n .     \"oui\", \"non\", \"oui\", \"non\", \"oui\", \"non\", \"oui\", \"non\", \"oui\", \n .     \"non\", \"oui\", \"non\", \"oui\", \"non\", \"oui\", \"non\", \"oui\", \"non\", \n .     \"oui\", \"non\", \"oui\", \"non\", \"oui\", \"non\", \"oui\", \"non\", \"oui\", \n .     \"non\", \"oui\", \"non\", \"oui\", \"non\", \"oui\", \"non\", \"oui\", \"non\", \n .     \"oui\", \"non\", \"oui\", \"non\", \"oui\", \"non\", \"oui\", \"non\", \"oui\", \n .     \"non\", \"oui\", \"non\", \"oui\", \"non\", \"oui\", \"non\", \"oui\", \"non\", \n .     \"oui\", \"non\", \"oui\", \"non\", \"oui\", \"non\", \"oui\", \"non\", \"oui\", \n .     \"non\", \"oui\", \"non\", \"oui\", \"non\", \"oui\", \"non\", \"oui\", \"non\", \n .     \"oui\", \"non\", \"oui\", \"non\", \"oui\", \"non\", \"oui\", \"non\", \"oui\", \n .     \"non\", \"oui\", \"non\", \"oui\", \"non\", \"oui\", \"non\", \"oui\", \"non\", \n .     \"oui\", \"non\", \"oui\", \"non\", \"oui\", \"non\", \"oui\", \"non\", \"oui\", \n .     \"non\", \"oui\", \"non\", \"oui\", \"non\", \"oui\", \"non\", \"oui\", \"non\", \n .     \"oui\", \"non\", \"oui\", \"non\", \"oui\", \"non\", \"oui\", \"non\", \"oui\", \n .     \"non\", \"oui\", \"non\", \"oui\", \"non\", \"oui\", \"non\", \"oui\", \"non\", \n .     \"oui\", \"non\", \"oui\", \"non\", \"oui\", \"non\", \"oui\", \"non\", \"oui\", \n .     \"non\", \"oui\", \"non\", \"oui\", \"non\", \"oui\", \"non\", \"oui\", \"non\", \n .     \"oui\", \"non\", \"oui\", \"non\", \"oui\", \"non\", \"oui\", \"non\", \"oui\", \n .     \"non\", \"oui\", \"non\", \"oui\", \"non\", \"oui\", \"non\", \"oui\", \"non\", \n .     \"oui\", \"non\", \"oui\", \"non\", \"oui\", \"non\", \"oui\", \"non\", \"oui\", \n .     \"non\", \"oui\", \"non\", \"oui\", \"non\", \"oui\", \"non\", \"oui\", \"non\", \n .     \"oui\", \"non\", \"oui\", \"non\", \"oui\", \"non\", \"oui\", \"non\", \"oui\", \n .     \"non\", \"oui\", \"non\", \"oui\", \"non\", \"oui\", \"non\", \"oui\", \"non\", \n .     \"oui\", \"non\", \"oui\", \"non\", \"oui\", \"non\", \"oui\", \"non\", \"oui\", \n .     \"non\", \"oui\", \"non\", \"oui\", \"non\", \"oui\", \"non\", \"oui\", \"non\", \n .     \"oui\", \"non\", \"oui\", \"non\", \"oui\", \"non\", \"oui\", \"non\", \"oui\", \n .     \"non\", \"oui\", \"non\", \"oui\", \"non\", \"oui\", \"non\", \"oui\", \"non\", \n .     \"oui\", \"non\", \"oui\", \"non\", \"oui\", \"non\", \"oui\", \"non\", \"oui\", \n .     \"non\", \"oui\", \"non\", \"oui\", \"non\", \"oui\", \"non\", \"oui\", \"non\", \n .     \"oui\", \"non\", \"oui\", \"non\", \"oui\", \"non\", \"oui\", \"non\", \"oui\", \n .     \"non\", \"oui\", \"non\", \"oui\", \"non\", \"oui\", \"non\", \"oui\", \"non\", \n .     \"oui\", \"non\", \"oui\", \"non\", \"oui\", \"non\", \"oui\", \"non\", \"oui\", \n .     \"non\", \"oui\", \"non\", \"oui\", \"non\", \"oui\", \"non\", \"oui\", \"non\", \n .     \"oui\", \"non\", \"oui\", \"non\", \"oui\", \"non\", \"oui\", \"non\", \"oui\", \n .     \"non\", \"oui\", \"non\", \"oui\", \"non\", \"oui\", \"non\", \"oui\", \"non\", \n .     \"oui\", \"non\", \"oui\", \"non\", \"oui\", \"non\", \"oui\", \"non\", \"oui\", \n .     \"non\", \"oui\", \"non\", \"oui\", \"non\", \"oui\", \"non\", \"oui\", \"non\", \n .     \"oui\", \"non\", \"oui\", \"non\", \"oui\", \"non\", \"oui\", \"non\", \"oui\", \n .     \"non\", \"oui\", \"non\", \"oui\", \"non\", \"oui\", \"non\", \"oui\", \"non\", \n .     \"oui\", \"non\", \"oui\", \"non\", \"oui\", \"non\", \"oui\", \"non\", \"oui\", \n .     \"non\", \"oui\", \"non\", \"oui\", \"non\", \"oui\", \"non\", \"oui\", \"non\", \n .     \"oui\", \"non\", \"oui\", \"non\", \"oui\", \"non\", \"oui\", \"non\", \"oui\", \n .     \"non\", \"oui\", \"non\", \"oui\", \"non\", \"oui\", \"non\", \"oui\", \"non\", \n .     \"oui\", \"non\", \"oui\", \"non\", \"oui\", \"non\", \"oui\", \"non\", \"oui\", \n .     \"non\", \"oui\", \"non\", \"oui\", \"non\", \"oui\", \"non\", \"oui\", \"oui\", \n .     \"non\", \"oui\", \"non\", \"oui\", \"non\", \"oui\", \"non\", \"oui\", \"non\", \n .     \"oui\", \"non\", \"oui\", \"non\", \"oui\", \"non\", \"oui\", \"non\", \"oui\", \n .     \"non\", \"oui\", \"non\", \"oui\", \"non\", \"oui\", \"non\", \"oui\", \"non\", \n .     \"oui\", \"non\", \"oui\", \"non\", \"oui\", \"non\", \"oui\", \"non\", \"oui\", \n .     \"non\", \"oui\", \"non\", \"oui\", \"non\", \"oui\", \"non\", \"oui\", \"non\", \n .     \"oui\", \"non\", \"oui\", \"non\", \"oui\", \"non\", \"oui\", \"non\", \"oui\", \n .     \"non\", \"oui\", \"non\", \"oui\", \"non\", \"oui\", \"non\", \"oui\", \"non\", \n .     \"oui\", \"non\", \"oui\", \"non\", \"oui\", \"non\", \"oui\", \"non\", \"oui\", \n .     \"non\", \"oui\", \"non\", \"oui\", \"non\", \"oui\", \"non\", \"oui\", \"non\", \n .     \"oui\", \"non\", \"oui\", \"non\", \"oui\", \"non\", \"oui\", \"non\", \"oui\", \n .     \"non\", \"oui\", \"non\", \"oui\", \"non\", \"oui\", \"non\", \"oui\", \"non\", \n .     \"oui\", \"non\", \"oui\", \"non\", \"oui\", \"non\", \"oui\", \"non\", \"oui\", \n .     \"non\", \"oui\", \"non\", \"oui\", \"non\", \"oui\", \"non\", \"oui\", \"non\", \n .     \"oui\", \"non\", \"oui\", \"non\", \"oui\", \"non\", \"oui\", \"non\", \"oui\", \n .     \"non\", \"oui\", \"non\", \"oui\", \"non\", \"oui\", \"non\", \"oui\", \"non\", \n .     \"oui\", \"non\", \"oui\", \"non\", \"oui\", \"non\", \"oui\", \"non\", \"oui\", \n .     \"non\", \"oui\", \"non\", \"oui\", \"non\", \"oui\", \"non\", \"oui\", \"non\", \n .     \"oui\", \"non\", \"oui\", \"non\", \"oui\", \"non\", \"oui\", \"non\", \"oui\", \n .     \"non\", \"oui\", \"non\", \"oui\", \"non\", \"oui\", \"non\", \"oui\", \"non\", \n .     \"oui\", \"non\", \"oui\", \"non\", \"oui\", \"non\", \"oui\", \"non\", \"oui\", \n .     \"non\", \"oui\", \"non\", \"oui\", \"non\", \"oui\", \"non\", \"oui\", \"non\", \n .     \"oui\", \"non\", \"oui\", \"non\", \"oui\", \"non\", \"oui\", \"non\", \"oui\", \n .     \"non\", \"oui\", \"non\", \"oui\", \"non\", \"oui\", \"non\", \"oui\", \"non\", \n .     \"oui\", \"non\", \"oui\", \"non\", \"oui\", \"non\", \"oui\", \"non\", \"oui\", \n .     \"non\", \"oui\", \"non\", \"oui\", \"non\", \"oui\", \"non\", \"oui\", \"non\", \n .     \"oui\", \"non\", \"oui\", \"non\", \"oui\", \"non\", \"oui\", \"non\", \"oui\", \n .     \"non\", \"oui\", \"non\", \"oui\", \"non\", \"oui\", \"non\", \"oui\", \"non\", \n .     \"oui\", \"non\", \"oui\", \"non\", \"oui\", \"non\", \"oui\", \"non\", \"oui\", \n .     \"non\", \"oui\", \"non\", \"oui\", \"non\", \"oui\", \"non\", \"oui\", \"non\", \n .     \"oui\", \"non\", \"oui\", \"non\", \"oui\", \"non\", \"oui\", \"non\", \"oui\", \n .     \"non\", \"oui\", \"non\", \"oui\", \"non\", \"oui\", \"non\", \"oui\", \"non\", \n .     \"oui\", \"non\", \"oui\", \"non\", \"oui\", \"non\", \"oui\", \"non\", \"oui\", \n .     \"non\", \"oui\", \"non\", \"oui\", \"non\", \"oui\", \"non\", \"oui\", \"non\", \n .     \"oui\", \"non\", \"oui\", \"non\", \"oui\", \"non\", \"oui\", \"non\", \"oui\", \n .     \"non\", \"oui\", \"non\", \"oui\", \"non\", \"oui\", \"non\", \"oui\", \"non\", \n .     \"oui\", \"non\", \"oui\", \"non\", \"oui\", \"non\", \"oui\", \"non\", \"oui\", \n .     \"non\", \"oui\", \"non\", \"oui\", \"non\", \"oui\", \"non\", \"oui\", \"non\", \n .     \"oui\", \"non\", \"oui\", \"non\", \"oui\", \"non\", \"oui\", \"non\", \"oui\", \n .     \"non\", \"oui\", \"non\", \"oui\", \"non\", \"oui\", \"non\", \"oui\", \"non\", \n .     \"oui\", \"non\", \"oui\", \"non\", \"oui\", \"non\", \"oui\", \"non\", \"oui\", \n .     \"non\", \"oui\", \"non\", \"oui\", \"non\", \"oui\", \"non\", \"oui\", \"non\", \n .     \"oui\", \"non\", \"oui\", \"non\", \"oui\", \"non\", \"oui\", \"non\", \"oui\", \n .     \"non\", \"oui\", \"non\", \"oui\", \"non\", \"oui\", \"non\", \"oui\", \"non\", \n .     \"oui\", \"non\", \"oui\", \"non\", \"oui\", \"non\", \"oui\", \"non\", \"oui\", \n .     \"non\", \"oui\", \"non\", \"non\", \"oui\", \"non\", \"oui\", \"non\", \"oui\", \n .     \"non\", \"oui\", \"non\", \"oui\", \"non\", \"oui\", \"non\", \"oui\", \"non\", \n .     \"oui\", \"non\", \"oui\", \"non\", \"oui\", \"non\", \"oui\", \"non\", \"oui\", \n .     \"non\", \"oui\", \"non\", \"oui\", \"non\", \"oui\", \"non\", \"oui\", \"non\", \n .     \"oui\", \"non\", \"oui\", \"non\", \"oui\", \"non\", \"oui\", \"non\", \"oui\", \n .     \"non\", \"oui\", \"non\", \"oui\", \"non\", \"oui\", \"non\", \"oui\", \"non\", \n .     \"oui\", \"non\", \"oui\", \"non\", \"oui\", \"non\", \"oui\", \"non\", \"oui\", \n .     \"non\", \"oui\", \"non\", \"oui\", \"non\", \"oui\", \"non\", \"oui\", \"non\", \n .     \"oui\", \"non\", \"oui\", \"non\", \"oui\", \"non\", \"oui\", \"non\", \"oui\", \n .     \"non\", \"oui\", \"non\", \"oui\", \"non\", \"oui\", \"non\", \"oui\", \"non\", \n .     \"oui\", \"non\", \"oui\", \"non\", \"oui\", \"non\", \"oui\", \"non\", \"oui\", \n .     \"non\", \"oui\", \"non\", \"oui\", \"non\", \"oui\", \"non\", \"oui\", \"non\", \n .     \"oui\", \"non\", \"oui\", \"non\", \"oui\", \"non\", \"oui\", \"non\", \"oui\", \n .     \"non\", \"oui\", \"non\", \"oui\", \"non\", \"oui\", \"non\", \"oui\", \"non\", \n .     \"oui\", \"non\", \"oui\", \"non\", \"oui\", \"non\", \"oui\", \"non\", \"oui\", \n .     \"non\", \"oui\", \"non\", \"oui\", \"non\", \"oui\", \"non\", \"oui\", \"non\", \n .     \"oui\", \"non\", \"oui\", \"non\", \"oui\", \"non\", \"oui\", \"non\", \"oui\", \n .     \"non\", \"oui\", \"non\", \"oui\", \"non\", \"oui\", \"non\", \"oui\", \"non\", \n .     \"oui\", \"non\", \"oui\", \"non\", \"oui\", \"non\", \"oui\", \"non\", \"oui\", \n .     \"non\", \"oui\", \"non\", \"oui\", \"non\", \"oui\", \"non\", \"oui\", \"non\", \n .     \"oui\", \"non\", \"oui\", \"non\", \"oui\", \"non\", \"oui\", \"non\", \"oui\", \n .     \"non\", \"oui\", \"non\", \"oui\", \"non\", \"oui\", \"non\", \"oui\", \"non\", \n .     \"oui\", \"non\", \"oui\", \"non\", \"oui\", \"non\", \"oui\", \"non\", \"oui\", \n .     \"non\", \"oui\", \"non\", \"oui\", \"non\", \"oui\", \"non\", \"oui\", \"non\", \n .     \"oui\", \"non\", \"oui\", \"non\", \"oui\", \"non\", \"oui\", \"non\", \"oui\", \n .     \"non\", \"oui\", \"non\", \"oui\", \"non\", \"oui\", \"non\", \"oui\", \"non\", \n .     \"oui\", \"non\", \"oui\", \"non\", \"oui\", \"non\", \"oui\", \"non\", \"oui\", \n .     \"non\", \"oui\", \"non\", \"oui\", \"non\", \"oui\", \"non\", \"oui\", \"non\", \n .     \"oui\", \"non\", \"oui\", \"non\", \"oui\", \"non\", \"oui\", \"non\", \"oui\", \n .     \"non\", \"oui\", \"non\", \"oui\", \"non\", \"oui\", \"non\", \"oui\", \"non\", \n .     \"oui\", \"non\", \"oui\", \"non\", \"oui\", \"non\", \"oui\", \"non\", \"oui\", \n .     \"non\", \"oui\", \"non\", \"oui\", \"non\", \"oui\", \"non\", \"oui\", \"non\", \n .     \"oui\", \"non\", \"oui\", \"non\", \"oui\", \"non\", \"oui\", \"non\", \"oui\", \n .     \"non\", \"oui\", \"non\", \"oui\", \"non\", \"oui\", \"non\", \"oui\", \"non\", \n .     \"oui\", \"non\", \"oui\", \"non\", \"oui\", \"non\", \"oui\", \"non\", \"oui\", \n .     \"non\", \"oui\", \"non\", \"oui\", \"non\", \"oui\", \"non\", \"oui\", \"non\", \n .     \"oui\", \"non\", \"oui\", \"non\", \"oui\", \"non\", \"oui\", \"non\", \"oui\", \n .     \"non\", \"oui\", \"non\", \"oui\", \"non\", \"oui\", \"non\", \"oui\", \"non\", \n .     \"oui\", \"non\", \"oui\", \"non\", \"oui\", \"non\", \"oui\", \"non\", \"oui\", \n .     \"non\", \"oui\", \"non\", \"oui\", \"non\", \"oui\", \"non\", \"oui\", \"non\", \n .     \"oui\", \"non\", \"oui\", \"non\", \"oui\", \"non\", \"oui\", \"non\", \"oui\", \n .     \"non\", \"oui\", \"non\", \"oui\", \"non\", \"oui\", \"non\", \"oui\", \"non\", \n .     \"oui\", \"non\", \"oui\", \"non\", \"oui\", \"non\", \"oui\", \"non\", \"oui\", \n .     \"non\", \"oui\", \"non\", \"oui\", \"non\", \"oui\", \"non\", \"oui\", \"non\", \n .     \"oui\", \"non\", \"oui\", \"non\", \"oui\", \"non\", \"oui\", \"non\", \"oui\", \n .     \"non\", \"oui\", \"non\", \"oui\", \"non\", \"oui\", \"non\", \"oui\", \"non\", \n .     \"oui\", \"non\", \"oui\", \"non\", \"oui\", \"non\", \"oui\", \"non\", \"oui\", \n .     \"non\", \"oui\", \"non\", \"oui\", \"non\", \"oui\", \"non\", \"oui\", \"non\", \n .     \"oui\", \"non\", \"oui\", \"non\", \"oui\", \"non\", \"oui\", \"non\", \"oui\", \n .     \"non\", \"oui\", \"oui\", \"non\", \"oui\", \"non\", \"oui\", \"non\", \"oui\", \n .     \"non\", \"oui\", \"non\", \"oui\", \"non\", \"oui\", \"non\", \"oui\", \"non\", \n .     \"oui\", \"non\", \"oui\", \"non\", \"oui\", \"non\", \"oui\", \"non\", \"oui\", \n .     \"non\", \"oui\", \"non\", \"oui\", \"non\", \"oui\", \"non\", \"oui\", \"non\", \n .     \"oui\", \"non\", \"oui\", \"non\", \"oui\", \"non\", \"oui\", \"non\", \"oui\", \n .     \"non\", \"oui\", \"non\", \"oui\", \"non\", \"oui\", \"non\", \"oui\", \"non\", \n .     \"oui\", \"non\", \"oui\", \"non\", \"oui\", \"non\", \"oui\", \"non\", \"oui\", \n .     \"non\", \"oui\", \"non\", \"oui\", \"non\", \"oui\", \"non\", \"oui\", \"non\", \n .     \"oui\", \"non\", \"oui\", \"non\", \"oui\", \"non\", \"oui\", \"non\", \"oui\", \n .     \"non\", \"oui\", \"non\", \"oui\", \"non\", \"oui\", \"non\", \"oui\", \"non\", \n .     \"oui\", \"non\", \"oui\", \"non\", \"oui\", \"non\", \"oui\", \"non\", \"oui\", \n .     \"non\", \"oui\", \"non\", \"oui\", \"non\", \"oui\", \"non\", \"oui\", \"non\", \n .     \"oui\", \"non\", \"oui\", \"non\", \"oui\", \"non\", \"oui\", \"non\", \"oui\", \n .     \"non\", \"oui\", \"non\", \"oui\", \"non\", \"oui\", \"non\", \"oui\", \"non\", \n .     \"oui\", \"non\", \"oui\", \"non\", \"oui\", \"non\", \"oui\", \"non\", \"oui\", \n .     \"non\", \"oui\", \"non\", \"oui\", \"non\", \"oui\", \"non\", \"oui\", \"non\", \n .     \"oui\", \"non\", \"oui\", \"non\", \"oui\", \"non\", \"oui\", \"non\", \"oui\", \n .     \"non\", \"oui\", \"non\", \"oui\", \"non\", \"oui\", \"non\", \"oui\", \"non\", \n .     \"oui\", \"non\", \"oui\", \"non\", \"oui\", \"non\", \"oui\", \"non\", \"oui\", \n .     \"non\", \"oui\", \"non\", \"oui\", \"non\", \"oui\", \"non\", \"oui\", \"non\", \n .     \"oui\", \"non\", \"oui\", \"non\", \"oui\", \"non\", \"oui\", \"non\", \"oui\", \n .     \"non\", \"oui\", \"non\", \"oui\", \"non\", \"oui\", \"non\", \"oui\", \"non\", \n .     \"oui\", \"non\", \"oui\", \"non\", \"oui\", \"non\", \"oui\", \"non\", \"oui\", \n .     \"non\", \"oui\", \"non\", \"oui\", \"non\", \"oui\", \"non\", \"oui\", \"non\", \n .     \"oui\", \"non\", \"oui\", \"non\", \"oui\", \"non\", \"oui\", \"non\", \"oui\", \n .     \"non\", \"oui\", \"non\", \"oui\", \"non\", \"oui\", \"non\", \"oui\", \"non\", \n .     \"oui\", \"non\", \"oui\", \"non\", \"oui\", \"non\", \"oui\", \"non\", \"oui\", \n .     \"non\", \"oui\", \"non\", \"oui\", \"non\", \"oui\", \"non\", \"oui\", \"non\", \n .     \"oui\", \"non\", \"oui\", \"non\", \"oui\", \"non\", \"oui\", \"non\", \"oui\", \n .     \"non\", \"oui\", \"non\", \"oui\", \"non\", \"oui\", \"non\", \"oui\", \"non\", \n .     \"oui\", \"non\", \"oui\", \"non\", \"oui\", \"non\", \"oui\", \"non\", \"oui\", \n .     \"non\", \"oui\", \"non\", \"non\", \"oui\", \"non\", \"oui\", \"non\", \"oui\", \n .     \"non\", \"oui\", \"non\", \"oui\", \"non\", \"oui\", \"non\", \"oui\", \"non\", \n .     \"oui\", \"non\", \"oui\", \"non\", \"oui\", \"non\", \"oui\", \"non\", \"oui\", \n .     \"non\", \"oui\", \"non\", \"oui\", \"non\", \"oui\", \"non\", \"oui\", \"non\", \n .     \"oui\", \"non\", \"oui\", \"non\", \"oui\", \"non\", \"oui\", \"non\", \"oui\", \n .     \"non\", \"oui\", \"non\", \"oui\", \"non\", \"oui\", \"non\", \"oui\", \"non\", \n .     \"oui\", \"non\", \"oui\", \"non\", \"oui\", \"non\", \"oui\", \"non\", \"oui\", \n .     \"non\", \"oui\", \"non\", \"oui\", \"non\", \"oui\", \"non\", \"oui\", \"non\", \n .     \"oui\", \"non\", \"oui\", \"non\", \"oui\", \"non\", \"oui\", \"non\", \"oui\", \n .     \"non\", \"oui\", \"non\", \"oui\", \"non\", \"oui\", \"non\", \"oui\", \"non\", \n .     \"oui\", \"non\", \"oui\", \"non\", \"oui\", \"non\", \"oui\", \"non\", \"oui\", \n .     \"non\", \"oui\", \"non\", \"oui\", \"non\", \"oui\", \"non\", \"oui\", \"non\", \n .     \"oui\", \"non\", \"oui\", \"non\", \"oui\", \"non\", \"oui\", \"non\", \"oui\", \n .     \"non\", \"oui\", \"non\", \"oui\", \"non\", \"oui\", \"non\", \"oui\", \"non\", \n .     \"oui\", \"non\", \"oui\", \"non\", \"oui\", \"non\", \"oui\", \"non\", \"oui\", \n .     \"non\", \"oui\", \"non\", \"oui\", \"non\", \"oui\", \"non\", \"oui\", \"non\", \n .     \"oui\", \"non\", \"oui\", \"non\", \"oui\", \"non\", \"oui\", \"non\", \"oui\", \n .     \"non\", \"oui\", \"non\", \"oui\", \"non\", \"oui\", \"non\", \"oui\", \"non\", \n .     \"oui\", \"non\", \"oui\", \"non\", \"oui\", \"non\", \"oui\", \"non\", \"oui\", \n .     \"non\", \"oui\", \"non\", \"oui\", \"non\", \"oui\", \"non\", \"oui\", \"non\", \n .     \"oui\", \"non\", \"oui\", \"non\", \"oui\", \"non\", \"oui\", \"non\", \"oui\", \n .     \"non\", \"oui\", \"non\", \"oui\", \"non\", \"oui\", \"non\", \"oui\", \"non\", \n .     \"oui\", \"non\", \"oui\", \"non\", \"oui\", \"non\", \"oui\", \"non\", \"oui\", \n .     \"non\", \"oui\", \"non\", \"oui\", \"non\", \"oui\", \"non\", \"oui\", \"non\", \n .     \"oui\", \"non\", \"oui\", \"non\", \"oui\", \"non\", \"oui\", \"non\", \"oui\", \n .     \"non\", \"oui\", \"non\", \"oui\", \"non\", \"oui\", \"non\", \"oui\", \"non\", \n .     \"oui\", \"non\", \"oui\", \"non\", \"oui\", \"non\", \"oui\", \"non\", \"oui\", \n .     \"non\", \"oui\", \"non\", \"oui\", \"non\", \"oui\", \"non\", \"oui\", \"non\", \n .     \"oui\", \"non\", \"oui\", \"non\", \"oui\", \"non\", \"oui\", \"non\", \"oui\", \n .     \"non\", \"oui\", \"non\", \"oui\", \"non\", \"oui\", \"non\", \"oui\", \"non\", \n .     \"oui\", \"non\", \"oui\", \"non\", \"oui\", \"non\", \"oui\", \"non\", \"oui\", \n .     \"non\", \"oui\", \"non\", \"oui\", \"non\", \"oui\", \"non\", \"oui\", \"non\", \n .     \"oui\", \"non\", \"oui\", \"non\", \"oui\", \"non\", \"oui\", \"non\", \"oui\", \n .     \"non\", \"oui\", \"non\", \"oui\", \"non\", \"oui\", \"non\", \"oui\", \"non\", \n .     \"oui\", \"non\", \"oui\", \"non\", \"oui\", \"non\", \"oui\", \"non\", \"oui\", \n .     \"non\", \"oui\", \"non\", \"oui\", \"non\", \"oui\", \"non\", \"oui\", \"oui\", \n .     \"non\", \"oui\", \"non\", \"oui\", \"non\", \"oui\", \"non\", \"oui\", \"non\", \n .     \"oui\", \"non\", \"oui\", \"non\", \"oui\", \"non\", \"oui\", \"non\", \"oui\", \n .     \"non\", \"oui\", \"non\", \"oui\", \"non\", \"oui\", \"non\", \"oui\", \"non\", \n .     \"oui\", \"non\", \"oui\", \"non\", \"oui\", \"non\", \"oui\", \"non\", \"oui\", \n .     \"non\", \"oui\", \"non\", \"oui\", \"non\", \"oui\", \"non\", \"oui\", \"non\", \n .     \"oui\", \"non\", \"oui\", \"non\", \"oui\", \"non\", \"oui\", \"non\", \"oui\", \n .     \"non\", \"oui\", \"non\", \"oui\", \"non\", \"oui\", \"non\", \"oui\", \"non\", \n .     \"oui\", \"non\", \"oui\", \"non\", \"oui\", \"non\", \"oui\", \"non\", \"oui\", \n .     \"non\", \"oui\", \"non\", \"oui\", \"non\", \"oui\", \"non\", \"oui\", \"non\", \n .     \"oui\", \"non\", \"oui\", \"non\", \"oui\", \"non\", \"oui\", \"non\", \"oui\", \n .     \"non\", \"oui\", \"non\", \"oui\", \"non\", \"oui\", \"non\", \"oui\", \"non\", \n .     \"oui\", \"non\", \"oui\", \"non\", \"oui\", \"non\", \"oui\", \"non\", \"oui\", \n .     \"non\", \"oui\", \"non\", \"oui\", \"non\", \"oui\", \"non\", \"oui\", \"non\", \n .     \"oui\", \"non\", \"oui\", \"non\", \"oui\", \"non\", \"oui\", \"non\", \"oui\", \n .     \"non\", \"oui\", \"non\", \"oui\", \"non\", \"oui\", \"non\", \"oui\", \"non\", \n .     \"oui\", \"non\", \"oui\", \"non\", \"oui\", \"non\", \"oui\", \"non\", \"oui\", \n .     \"non\", \"oui\", \"non\", \"oui\", \"non\", \"oui\", \"non\", \"oui\", \"non\", \n .     \"oui\", \"non\", \"oui\", \"non\", \"oui\", \"non\", \"oui\", \"non\", \"oui\", \n .     \"non\", \"oui\", \"non\", \"oui\", \"non\", \"oui\", \"non\", \"oui\", \"non\", \n .     \"oui\", \"non\", \"oui\", \"non\", \"oui\", \"non\", \"oui\", \"non\", \"oui\", \n .     \"non\", \"oui\", \"non\", \"oui\", \"non\", \"oui\", \"non\", \"oui\", \"non\", \n .     \"oui\", \"non\", \"oui\", \"non\", \"oui\", \"non\", \"oui\", \"non\", \"oui\", \n .     \"non\", \"oui\", \"non\", \"oui\", \"non\", \"oui\", \"non\", \"oui\", \"non\", \n .     \"oui\", \"non\", \"oui\", \"non\", \"oui\", \"non\", \"oui\", \"non\", \"oui\", \n .     \"non\", \"oui\", \"non\", \"oui\", \"non\", \"oui\", \"non\", \"oui\", \"non\", \n .     \"oui\", \"non\", \"oui\", \"non\", \"oui\", \"non\", \"oui\", \"non\", \"oui\", \n .     \"non\", \"oui\", \"non\", \"oui\", \"non\", \"oui\", \"non\", \"oui\", \"non\", \n .     \"oui\", \"non\", \"oui\", \"non\", \"oui\", \"non\", \"oui\", \"non\", \"oui\", \n .     \"non\", \"oui\", \"non\", \"oui\", \"non\", \"oui\", \"non\", \"oui\", \"non\", \n .     \"oui\", \"non\", \"oui\", \"non\", \"oui\", \"non\", \"oui\", \"non\", \"oui\", \n .     \"non\", \"oui\", \"non\", \"oui\", \"non\", \"oui\", \"non\", \"oui\", \"non\", \n .     \"oui\", \"non\", \"oui\", \"non\", \"oui\", \"non\", \"oui\", \"non\", \"oui\", \n .     \"non\", \"oui\", \"non\", \"oui\", \"non\", \"oui\", \"non\", \"oui\", \"non\", \n .     \"oui\", \"non\", \"oui\", \"non\", \"oui\", \"non\", \"oui\", \"non\", \"oui\", \n .     \"non\", \"oui\", \"non\", \"oui\", \"non\", \"oui\", \"non\", \"oui\", \"non\", \n .     \"oui\", \"non\", \"oui\", \"non\", \"oui\", \"non\", \"oui\", \"non\", \"oui\", \n .     \"non\", \"oui\", \"non\", \"oui\", \"non\", \"oui\", \"non\", \"oui\", \"non\", \n .     \"oui\", \"non\", \"oui\", \"non\", \"oui\", \"non\", \"oui\", \"non\", \"oui\", \n .     \"non\", \"oui\", \"non\", \"oui\", \"non\", \"oui\", \"non\", \"oui\", \"non\", \n .     \"oui\", \"non\", \"oui\", \"non\", \"oui\", \"non\", \"oui\", \"non\", \"non\", \n .     \"oui\", \"non\", \"oui\", \"non\", \"oui\", \"non\", \"oui\", \"non\", \"oui\", \n .     \"non\", \"oui\", \"non\", \"oui\", \"non\", \"oui\", \"non\", \"oui\", \"non\", \n .     \"oui\", \"non\", \"oui\", \"non\", \"oui\", \"non\", \"oui\", \"non\", \"oui\", \n .     \"non\", \"oui\", \"non\", \"oui\", \"non\", \"oui\", \"non\", \"oui\", \"non\", \n .     \"oui\", \"non\", \"oui\", \"non\", \"oui\", \"non\", \"oui\", \"non\", \"oui\", \n .     \"non\", \"oui\", \"non\", \"oui\", \"non\", \"oui\", \"non\", \"oui\", \"non\", \n .     \"oui\", \"non\", \"oui\", \"non\", \"oui\", \"non\", \"oui\", \"non\", \"oui\", \n .     \"non\", \"oui\", \"non\", \"oui\", \"non\", \"oui\", \"non\", \"oui\", \"non\", \n .     \"oui\", \"non\", \"oui\", \"non\", \"oui\", \"non\", \"oui\", \"non\", \"oui\", \n .     \"non\", \"oui\", \"non\", \"oui\", \"non\", \"oui\", \"non\", \"oui\", \"non\", \n .     \"oui\", \"non\", \"oui\", \"non\", \"oui\", \"non\", \"oui\", \"non\", \"oui\", \n .     \"non\", \"oui\", \"non\", \"oui\", \"non\", \"oui\", \"non\", \"oui\", \"non\", \n .     \"oui\", \"non\", \"oui\", \"non\", \"oui\", \"non\", \"oui\", \"non\", \"oui\", \n .     \"non\", \"oui\", \"non\", \"oui\", \"non\", \"oui\", \"non\", \"oui\", \"non\", \n .     \"oui\", \"non\", \"oui\", \"non\", \"oui\", \"non\", \"oui\", \"non\", \"oui\", \n .     \"non\", \"oui\", \"non\", \"oui\", \"non\", \"oui\", \"non\", \"oui\", \"non\", \n .     \"oui\", \"non\", \"oui\", \"non\", \"oui\", \"non\", \"oui\", \"non\", \"oui\", \n .     \"non\", \"oui\", \"non\", \"oui\", \"non\", \"oui\", \"non\", \"oui\", \"non\", \n .     \"oui\", \"non\", \"oui\", \"non\", \"oui\", \"non\", \"oui\", \"non\", \"oui\", \n .     \"non\", \"oui\", \"non\", \"oui\", \"non\", \"oui\", \"non\", \"oui\", \"non\", \n .     \"oui\", \"non\", \"oui\", \"non\", \"oui\", \"non\", \"oui\", \"non\", \"oui\", \n .     \"non\", \"oui\", \"non\", \"oui\", \"non\", \"oui\", \"non\", \"oui\", \"non\", \n .     \"oui\", \"non\", \"oui\", \"non\", \"oui\", \"non\", \"oui\", \"non\", \"oui\", \n .     \"non\", \"oui\", \"non\", \"oui\", \"non\", \"oui\", \"non\", \"oui\", \"non\", \n .     \"oui\", \"non\", \"oui\", \"non\", \"oui\", \"non\", \"oui\", \"non\", \"oui\", \n .     \"non\", \"oui\", \"non\", \"oui\", \"non\", \"oui\", \"non\", \"oui\", \"non\", \n .     \"oui\", \"non\", \"oui\", \"non\", \"oui\", \"non\", \"oui\", \"non\", \"oui\", \n .     \"non\", \"oui\", \"non\", \"oui\", \"non\", \"oui\", \"non\", \"oui\", \"non\", \n .     \"oui\", \"non\", \"oui\", \"non\", \"oui\", \"non\", \"oui\", \"non\", \"oui\", \n .     \"non\", \"oui\", \"non\", \"oui\", \"non\", \"oui\", \"non\", \"oui\", \"non\", \n .     \"oui\", \"non\", \"oui\", \"non\", \"oui\", \"non\", \"oui\", \"non\", \"oui\", \n .     \"non\", \"oui\", \"non\", \"oui\", \"non\", \"oui\", \"non\", \"oui\", \"non\", \n .     \"oui\", \"non\", \"oui\", \"non\", \"oui\", \"non\", \"oui\", \"non\", \"oui\", \n .     \"non\", \"oui\", \"non\", \"oui\", \"non\", \"oui\", \"non\", \"oui\", \"non\", \n .     \"oui\", \"non\", \"oui\", \"non\", \"oui\", \"non\", \"oui\", \"non\", \"oui\", \n .     \"non\", \"oui\", \"non\", \"oui\", \"non\", \"oui\", \"non\", \"oui\", \"non\", \n .     \"oui\", \"non\", \"oui\", \"non\", \"oui\", \"non\", \"oui\", \"non\", \"oui\", \n .     \"non\", \"oui\", \"non\", \"oui\", \"non\", \"oui\", \"non\", \"oui\", \"non\", \n .     \"oui\", \"non\", \"oui\", \"non\", \"oui\", \"non\", \"oui\", \"non\", \"oui\", \n .     \"non\", \"oui\", \"non\", \"oui\", \"non\", \"oui\", \"non\", \"oui\"), \n .     Valeur = c(5, 2, 5, 6, 4, 3, 5, 6, 3, 5, 6, 3, 1, 4, 6, 5, \n .     3, 3, 5, 3, 4, 4, 4, 5, 3, 5, 3, 3, 2, 3, 2, 4, 4, 2, 5, \n .     3, 4, 3, 3, 4, 4, 5, 4, 7, 2, 4, 3, 5, 5, 5, 5, 5, 1, 4, \n .     5, 6, 4, 3, 5, 6, 6, 5, 1, 6, 4, 7, 6, 4, 4, 5, 4, 5, 3, \n .     7, 4, 4, 2, 3, 5, 4, 3, 3, 5, 5, 5, 6, 4, 3, 5, 4, 5, 3, \n .     2, 4, 4, 5, 4, 3, 3, 4, 4, 5, 4, 4, 3, 4, 4, 4, 3, 3, 4, \n .     4, 2, 2, 4, 4, 4, 3, 4, 4, 3, 3, 5, 5, 5, 3, 4, 5, 4, 4, \n .     4, 4, 3, 4, 4, 4, 4, 4, 4, 4, 4, 4, 4, 4, 4, 4, 4, 4, 4, \n .     4, 4, 4, 4, 4, 4, 4, 4, 4, 4, 4, 5, 6, 5, 6, 6, 5, 4, 5, \n .     5, 5, 6, 6, 6, 5, 6, 6, 4, 6, 5, 6, 6, 5, 6, 6, 6, 5, 6, \n .     4, 6, 6, 5, 6, 5, 5, 5, 6, 6, 6, 6, 5, 5, 4, 6, 6, 5, 3, \n .     4, 6, 4, 4, 5, 5, 3, 3, 4, 4, 4, 2, 5, 3, 4, 5, 3, 5, 3, \n .     5, 5, 3, 2, 3, 6, 4, 3, 3, 5, 4, 3, 2, 5, 6, 3, 4, 3, 6, \n .     7, 4, 4, 4, 2, 4, 3, 1, 2, 4, 1, 3, 4, 4, 5, 4, 5, 5, 5, \n .     6, 1, 1, 2, 1, 4, 2, 4, 4, 2, 5, 4, 2, 3, 5, 4, 3, 2, 4, \n .     5, 4, 4, 4, 4, 4, 4, 4, 5, 4, 1, 4, 4, 5, 3, 1, 5, 4, 3, \n .     4, 3, 4, 4, 3, 4, 4, 4, 2, 4, 5, 5, 4, 1, 5, 4, 5, 6, 4, \n .     7, 3, 4, 5, 4, 3, 4, 5, 2, 2, 5, 4, 2, 7, 5, 5, 1, 3, 1, \n .     3, 4, 3, 3, 6, 2, 7, 6, 5, 1, 3, 4, 4, 1, 2, 4, 4, 3, 4, \n .     4, 4, 1, 6, 4, 1, 5, 4, 6, 3, 1, 6, 4, 5, 1, 4, 4, 3, 2, \n .     5, 3, 1, 2, 6, 4, 2, 3, 6, 6, 3, 2, 5, 6, 6, 3, 6, 5, 2, \n .     5, 5, 3, 2, 4, 4, 5, 1, 4, 4, 4, 5, 4, 3, 4, 3, 2, 4, 4, \n .     4, 5, 6, 4, 4, 4, 5, 6, 6, 5, 4, 6, 6, 6, 4, 3, 6, 6, 7, \n .     6, 3, 7, 5, 5, 7, 1, 6, 5, 1, 6, 2, 2, 3, 2, 6, 2, 1, 1, \n .     4, 4, 5, 3, 4, 3, 3, 4, 4, 2, 4, 2, 3, 5, 2, 1, 5, 2, 4, \n .     2, 6, 5, 2, 1, 2, 6, 2, 3, 4, 3, 2, 6, 3, 3, 5, 4, 3, 6, \n .     4, 3, 5, 4, 5, 4, 2, 6, 4, 6, 6, 3, 5, 3, 5, 3, 3, 5, 2, \n .     3, 2, 3, 3, 5, 6, 4, 4, 6, 6, 1, 5, 6, 1, 5, 6, 4, 6, 3, \n .     3, 4, 2, 1, 3, 5, 3, 3, 5, 4, 3, 4, 4, 5, 2, 6, 6, 4, 2, \n .     1, 4, 6, 4, 3, 7, 6, 4, 3, 3, 6, 5, 3, 7, 6, 1, 6, 3, 4, \n .     5, 1, 7, 5, 3, 4, 6, 6, 3, 1, 6, 5, 5, 6, 5, 4, 5, 5, 6, \n .     6, 1, 4, 6, 6, 6, 3, 6, 6, 3, 4, 5, 6, 3, 4, 5, 3, 1, 4, \n .     5, 3, 5, 4, 2, 5, 4, 3, 2, 4, 3, 2, 3, 4, 3, 4, 5, 3, 2, \n .     2, 5, 5, 2, 2, 2, 1, 2, 1, 1, 2, 2, 1, 2, 5, 5, 4, 5, 5, \n .     3, 5, 4, 5, 4, 6, 5, 6, 5, 4, 4, 4, 5, 4, 5, 5, 4, 5, 6, \n .     4, 4, 4, 4, 6, 5, 5, 4, 4, 5, 4, 5, 5, 4, 5, 5, 5, 4, 3, \n .     4, 6, 1, 4, 1, 1, 6, 6, 3, 1, 6, 1, 6, 6, 4, 1, 3, 6, 4, \n .     5, 4, 6, 3, 4, 4, 4, 3, 4, 5, 6, 5, 5, 3, 4, 5, 5, 4, 5, \n .     6, 3, 5, 3, 5, 5, 2, 6, 6, 3, 5, 3, 3, 3, 4, 4, 5, 4, 5, \n .     5, 4, 5, 4, 5, 3, 1, 6, 3, 1, 3, 5, 4, 5, 3, 5, 5, 4, 5, \n .     5, 4, 3, 5, 5, 3, 3, 5, 4, 4, 3, 5, 4, 3, 5, 5, 5, 5, 2, \n .     4, 5, 4, 4, 5, 5, 3, 4, 5, 6, 5, 5, 5, 5, 5, 5, 4, 5, 4, \n .     5, 6, 4, 4, 5, 4, 3, 1, 2, 6, 5, 2, 6, 6, 5, 3, 1, 6, 7, \n .     6, 2, 6, 4, 2, 6, 6, 6, 3, 4, 4, 1, 3, 3, 5, 4, 4, 2, 6, \n .     4, 5, 4, 1, 4, 1, 3, 6, 6, 1, 1, 6, 6, 1, 2, 6, 4, 5, 5, \n .     5, 3, 6, 3, 4, 1, 2, 3, 1, 4, 1, 1, 5, 6, 4, 3, 6, 2, 2, \n .     5, 5, 4, 5, 3, 6, 5, 2, 1, 2, 3, 3, 3, 3, 2, 2, 2, 3, 2, \n .     2, 3, 2, 3, 2, 3, 2, 2, 2, 2, 2, 2, 2, 2, 3, 2, 2, 2, 2, \n .     3, 2, 4, 2, 4, 3, 2, 3, 3, 2, 3, 4, 3, 3, 5, 4, 5, 3, 2, \n .     6, 5, 3, 4, 2, 2, 4, 2, 5, 5, 5, 3, 5, 3, 2, 2, 3, 5, 5, \n .     3, 3, 5, 4, 1, 4, 3, 5, 4, 3, 4, 4, 4, 3, 6, 5, 4, 4, 2, \n .     5, 3, 6, 6, 3, 5, 6, 6, 6, 6, 6, 6, 6, 6, 6, 6, 1, 5, 6, \n .     6, 6, 6, 6, 6, 4, 3, 6, 7, 1, 6, 6, 6, 2, 4, 6, 4, 2, 3, \n .     6, 5, 3, 2, 5, 4, 4, 5, 4, 4, 3, 4, 4, 3, 4, 2, 4, 5, 5, \n .     4, 5, 5, 5, 3, 4, 3, 3, 3, 4, 4, 3, 4, 5, 5, 5, 5, 5, 3, \n .     3, 7, 6, 7, 4, 4, 5, 3, 2, 3, 4, 3, 4, 5, 3, 6, 4, 4, 4, \n .     4, 4, 5, 4, 4, 5, 2, 3, 4, 3, 5, 4, 5, 5, 1, 2, 4, 3, 4, \n .     7, 5, 4, 5, 5, 4, 6, 5, 6, 6, 6, 6, 6, 6, 3, 6, 6, 6, 4, \n .     6, 6, 6, 6, 6, 6, 6, 6, 5, 6, 6, 6, 6, 6, 6, 2, 6, 6, 6, \n .     6, 6, 3, 5, 3, 5, 3, 3, 6, 3, 6, 6, 4, 5, 2, 5, 5, 4, 5, \n .     2, 5, 5, 5, 3, 5, 5, 5, 4, 5, 4, 5, 4, 5, 5, 3, 7, 4, 3, \n .     3, 4, 4, 5, 6, 5, 2, 3, 4, 3, 4, 4, 4, 4, 4, 4, 4, 5, 6, \n .     5, 2, 4, 6, 1, 4, 4, 4, 6, 5, 4, 6, 4, 6, 4, 6, 3, 4, 4, \n .     5, 5, 3, 4, 4, 2, 3, 3, 1, 6, 6, 2, 4, 6, 5, 2, 2, 4, 3, \n .     3, 4, 4, 2, 4, 4, 5, 5, 4, 3, 5, 4, 4, 5, 4, 5, 3, 3, 4, \n .     4, 3, 4, 2, 3, 4, 4, 5, 4, 1, 2, 6, 6, 3, 3, 1, 6, 1, 3, \n .     6, 6, 4, 3, 6, 5, 4, 6, 6, 4, 5, 1, 6, 5, 4, 5, 4, 3, 1, \n .     3, 5, 5, 3, 3, 5, 5, 4, 1, 6, 5, 2, 2, 6, 6, 6, 4, 4, 6, \n .     2, 4, 6, 6, 6, 4, 5, 6, 6, 5, 6, 2, 6, 2, 6, 6, 2, 6, 5, \n .     6, 7, 6, 6, 6, 5, 6, 1, 5, 6, 6, 5, 3, 3, 2, 6, 5, 3, 1, \n .     5, 4, 5, 2, 6, 5, 4, 5, 4, 4, 3, 5, 2, 5, 2, 1, 5, 5, 5, \n .     5, 5, 3, 5, 5, 5, 3, 4, 4, 4, 4, 2, 5, 1, 1, 3, 1, 6, 6, \n .     1, 5, 3, 5, 4, 1, 6, 6, 2, 4, 4, 3, 3, 5, 5, 4, 3, 3, 6, \n .     6, 1, 6, 4, 4, 4, 4, 5, 3, 3, 5, 4, 6, 3, 3, 5, 5, 5, 5, \n .     5, 5, 1, 5, 5, 5, 5, 4, 4, 3, 3, 4, 5, 3, 4, 5, 4, 4, 4, \n .     4, 4, 4, 4, 4, 4, 3, 2, 4, 4, 4, 3, 4, 3, 4, 4, 2, 2, 3, \n .     2, 5, 6, 6, 5, 4, 4, 6, 4, 2, 2, 5, 3, 2, 5, 4, 5, 5, 3, \n .     4, 4, 2, 3, 2, 6, 4, 2, 5, 5, 1, 5, 4, 2, 1, 4, 5, 1, 4, \n .     5, 3, 4, 3, 5, 6, 4, 1, 4, 5, 4, 2, 4, 4, 4, 3, 5, 5, 3, \n .     4, 4, 5, 5, 2, 5, 5, 4, 4, 2, 5, 5, 5, 6, 4, 3, 3, 6, 4, \n .     4, 5, 4, 4, 5, 5, 6, 6, 6, 5, 6, 6, 5, 6, 6, 6, 6, 6, 6, \n .     6, 6, 6, 6, 6, 6, 6, 6, 6, 6, 6, 6, 6, 5, 4, 6, 6, 4, 6, \n .     6, 6, 6, 5, 6, 5, 3, 1, 6, 6, 5, 5, 5, 5, 3, 3, 4, 5, 4, \n .     5, 5, 5, 4, 2, 4, 5, 5, 2, 6, 6, 5, 4, 5, 5, 3, 3, 5, 5, \n .     4, 3, 5, 6, 5, 2, 4, 3, 3, 6, 6, 6, 6, 6, 1, 1, 3, 6, 6, \n .     1, 6, 3, 6, 6, 1, 6, 6, 6, 6, 1, 4, 6, 1, 6, 6, 1, 6, 6, \n .     1, 5, 6, 6, 6, 6, 6, 6, 6, 3, 3, 3, 4, 4, 4, 3, 2, 2, 4, \n .     4, 2, 3, 2, 5, 4, 2, 5, 3, 4, 3, 4, 3, 4, 3, 4, 3, 4, 3, \n .     4, 4, 4, 4, 2, 3, 4, 2, 4, 5, 5, 4, 2, 4, 6, 4, 5, 5, 5, \n .     2, 5, 2, 3, 1, 4, 2, 6, 6, 4, 4, 5, 5, 6, 3, 1, 5, 6, 6, \n .     4, 4, 3, 4, 5, 1, 3, 4, 4, 1, 5, 4, 5, 4, 4, 3, 4, 4, 3, \n .     2, 4, 1, 2, 5, 5, 2, 4, 4, 4, 3, 3, 5, 1, 2, 4, 4, 2, 2, \n .     2, 3, 2, 2, 2, 5, 4, 3, 2, 3, 4, 4, 5, 2, 2, 3, 2, 5, 5, \n .     3, 2, 4, 5, 3, 4, 5, 5, 1, 4, 5, 5, 4, 3, 4, 5, 6, 5, 2, \n .     3, 5, 5, 5, 4, 3, 2, 5, 4, 4, 3, 4, 4, 2, 3, 5, 5, 4, 5, \n .     4, 4, 5, 5, 3, 3, 6, 5, 3, 4, 2, 3, 2, 5, 3, 3, 5, 7, 5, \n .     5, 3, 3, 3, 6, 5, 2, 4, 3, 4, 5, 3, 3, 3, 5, 2, 2, 7, 4, \n .     1, 1, 6, 6, 6, 2, 2, 2, 1, 1, 6, 6, 1, 6, 6, 6, 5, 1, 1, \n .     2, 3, 6, 6, 2, 6, 6, 6, 6, 5, 5, 5, 6, 2, 1, 7, 6, 7, 1, \n .     6, 4, 2, 3, 3, 2, 3, 4, 4, 2, 3, 4, 3, 2, 2, 2, 4, 2, 1, \n .     3, 3, 4, 2, 3, 2, 2, 2, 5, 3, 2, 2, 4, 2, 2, 2, 5, 4, 3, \n .     2, 3, 4, 3, 3, 4, 4, 2, 4, 3, 4, 4, 4, 4, 4, 4, 3, 2, 4, \n .     4, 2, 3, 4, 3, 3, 4, 4, 3, 3, 5, 3, 3, 4, 4, 4, 4, 4, 3, \n .     4, 3, 2, 4, 4, 3, 5, 5, 5, 2, 4, 3, 4, 5, 1, 2, 3, 2, 3, \n .     5, 4, 5, 5, 4, 4, 5, 5, 5, 5, 1, 5, 5, 4, 4, 5, 3, 3, 5, \n .     2, 4, 5, 4, 5, 5, 5, 1, 3, 4, 4, 2, 3, 3, 4, 2, 4, 5, 4, \n .     2, 1, 2, 6, 2, 2, 2, 5, 3, 4, 5, 5, 3, 5, 5, 4, 2, 2, 4, \n .     6, 4, 3, 5, 4, 3, 2, 5, 5, 3, 7, 4, 3, 6, 5, 1, 2, 5, 4, \n .     6, 4, 2, 3, 4, 5, 6, 2, 2, 4, 2, 5, 6, 3, 4, 4, 4, 6, 3, \n .     2, 5, 6, 2, 4, 3, 2, 5, 2, 5, 6, 1, 4, 5, 4, 1, 3, 4, 3, \n .     4, 2, 3, 3, 3, 1, 3, 4, 2, 3, 2, 4, 4, 3, 2, 2, 2, 4, 5, \n .     6, 2, 3, 4, 4, 4, 3, 4, 3, 3, 2, 3, 3, 2, 1, 4, 5, 4, 4, \n .     4, 4, 2, 4, 2, 4, 1, 3, 4, 4, 1, 4, 5, 4, 5, 4, 4, 4, 4, \n .     4, 6, 5, 4, 4, 4, 4, 6, 4, 4, 3, 3, 4, 2, 6, 3, 2, 5, 4, \n .     2, 5, 4, 3, 3, 2, 4, 4, 2, 1, 4, 2, 2, 1, 5, 3, 2, 4, 3, \n .     4, 2, 2, 4, 4, 2, 2, 3, 4, 3, 2, 4, 4, 2, 3, 4, 5, 2, 3, \n .     4, 2, 2, 7, 4, 3, 3, 5, 5, 3, 3, 4, 4, 4, 7, 4, 5, 3, 7, \n .     3, 4, 2, 3, 2, 6, 5, 3, 5, 5, 7, 4, 4, 4, 2, 5, 7, 5, 3, \n .     4, 7, 6, 4, 1, 4, 3, 7, 1, 5, 4, 4, 3, 5, 2, 3, 2, 5, 4, \n .     5, 4, 4, 4, 4, 1, 2, 5, 4, 2, 1, 5, 7, 5, 4, 4, 4, 4, 5, \n .     2, 5, 4, 4, 4, 1, 2, 4, 3, 4, 4, 5, 5, 2, 4, 4, 4, 6, 3, \n .     3, 6, 4, 2, 5, 4, 3, 3, 1, 6, 6, 3, 3, 4, 1, 4, 4, 5, 4, \n .     4, 5, 6, 2, 2, 5, 3, 1, 3, 4, 1, 2, 5, 4, 4, 1, 4, 4, 4, \n .     5, 3, 6, 4, 2, 3, 5, 6, 1, 4, 4, 5, 3, 4, 4, 5, 1, 6, 2, \n .     3, 2, 5, 3, 5, 1, 2, 5, 4, 2, 5, 6, 3, 4, 4, 6, 5, 3, 4, \n .     4, 2, 3, 4, 5, 4, 5, 3, 5, 6, 4, 4, 5, 6, 4, 3, 6, 5, 5, \n .     3, 4, 5, 4, 4, 4, 5, 4, 6, 1, 4, 1, 3, 3, 4, 4, 7, 5, 6, \n .     2, 4, 5, 2, 6, 2, 4, 5, 2, 1, 5, 6, 1, 4, 4, 4, 5, 3, 4, \n .     5, 4, 5, 5, 4, 4, 5, 7, 4, 3, 4, 2, 5, 2, 1, 5, 6, 2, 6, \n .     5, 6, 1, 6, 5, 4, 3, 2, 2, 5, 2, 4, 4, 2, 4, 5, 4, 5, 4, \n .     2, 6, 5, 2, 3, 3, 5, 3, 2, 5, 3, 3, 3, 5, 3, 1, 5, 5, 2, \n .     1, 5, 6, 5, 3, 3, 5, 5, 4, 5, 3, 5, 4, 2, 2, 5, 1, 3, 4, \n .     4, 5, 4, 5, 3, 5, 6, 5, 4, 7, 2, 4, 2, 2, 4, 3, 4, 2, 2, \n .     2, 2, 4, 4, 4, 5, 1, 2, 5, 2, 4, 1, 2, 3, 1, 1, 4, 3, 1, \n .     4, 2, 5, 5, 2, 3, 5, 1, 2, 4, 2, 3, 3, 2, 2, 1, 2, 5, 2, \n .     2, 6, 6, 2, 5, 5, 6, 4, 4, 6, 6, 4, 5, 5, 5, 3, 2, 5, 6, \n .     5, 2, 5, 5, 3, 4, 5, 5, 3, 3, 4, 5, 3, 4, 5, 5, 4, 2, 4, \n .     4, 3, 2, 3, 4, 4, 4, 5, 4, 3, 2, 4, 4, 4, 4, 4, 3, 5, 5, \n .     4, 2, 3, 5, 4, 3, 6, 3, 2, 3, 5, 3, 4, 4, 3, 3, 4, 4, 6, \n .     5, 3, 3, 3, 2, 4, 4, 3, 2, 4, 4, 3, 3, 3, 4, 3, 2, 3, 3, \n .     2, 4, 3, 4, 4, 2, 4, 3, 4, 4, 1, 3, 2, 3, 4, 3, 2, 2, 4, \n .     4, 3, 2, 3, 5, 3, 3, 5, 4, 3, 4, 3, 4, 4, 5, 4, 5, 3, 3, \n .     4, 4, 4, 5, 5, 5, 5, 3, 3, 4, 4, 5, 4, 4, 3, 3, 3, 5, 4, \n .     3, 5, 3, 4, 4, 3, 2, 4, 2, 3, 4, 3, 2, 4, 4, 2, 1, 4, 4, \n .     1, 4, 5, 4, 3, 4, 7, 5, 3, 2, 1, 5, 1, 4, 4, 3, 1, 1, 3, \n .     3, 2, 6, 4, 5, 1, 3, 6, 3, 1, 1, 6, 5, 3, 5, 5, 2, 1, 4, \n .     6, 5, 5, 3, 5, 4, 3, 2, 6, 6, 6, 2, 3, 6, 6, 6, 3, 6, 2, \n .     1, 6, 5, 2, 5, 6, 6, 1, 1, 6, 1, 4, 2, 1, 5, 1, 7, 4, 5, \n .     4, 4, 4, 5, 5, 1, 4, 5, 2, 4, 7, 5, 4, 1, 5, 4, 5, 1, 1, \n .     2, 5, 5, 1, 4, 4, 7, 5, 5, 4, 5, 3, 5, 3, 3, 5, 6, 3, 4, \n .     2, 6, 3, 3, 5, 4, 3, 5, 5, 6, 1, 3, 3, 6, 6, 1, 5, 5, 1, \n .     3, 3, 5, 6, 2, 1, 5, 3, 3, 5, 6, 3, 2, 4, 4, 3, 3, 4, 5, \n .     4, 4, 4, 5, 3, 4, 4, 4, 4, 6, 4, 5, 3, 4, 5, 4, 3, 2, 4, \n .     4, 4, 3, 4, 3, 4, 3, 4, 4, 3, 4, 7, 4, 3, 4, 4)), row.names = c(NA, \n . -2920L), class = c(\"tbl_df\", \"tbl\", \"data.frame\")), x = \"Condition\", \n .     y = \"Valeur\", fun = function (data, x, y, color = \"black\", \n .         fill = \"white\", palette = NULL, linetype = \"solid\", size = NULL, \n .         width = 0.7, notch = FALSE, title = NULL, xlab = NULL, \n .         ylab = NULL, bxp.errorbar = FALSE, bxp.errorbar.width = 0.4, \n .         add = \"none\", add.params = list(), error.plot = \"pointrange\", \n .         ggtheme = theme_pubr(), ...) \n .     {\n .         if (!is.factor(data[, x])) \n .             data[, x] <- as.factor(data[, x])\n .         p <- ggplot(data, aes_string(x, y))\n .         if (bxp.errorbar) {\n .             p <- p + stat_boxplot(geom = \"errorbar\", width = bxp.errorbar.width)\n .         }\n .         p <- p + geom_exec(geom_boxplot, data = data, color = color, \n .             fill = fill, linetype = linetype, size = size, width = width, \n .             notch = notch, position = position_dodge(0.8), size = size, \n .             ...)\n .         add.params <- .check_add.params(add, add.params, error.plot, \n .             data, color, fill, ...) %>% .add_item(p = p, add = add, \n .             error.plot = error.plot)\n .         p <- do.call(ggadd, add.params) %>% ggpar(palette = palette, \n .             ggtheme = ggtheme, title = title, xlab = xlab, ylab = ylab, \n .             ...)\n .         p\n .     })",
      "4. purrr::pmap(opts, fun, color = color, fill = fill, legend = legend, \n .     legend.title = legend.title, ggtheme = ggtheme, facet.by = facet.by, \n .     add = add, add.params = add.params, user.add.color = user.add.color, \n .     label = .lab, font.label = font.label, repel = repel, label.rectangle = label.rectangle, \n .     ...)",
      "5. .f(y = .l[[1L]][[1L]], data = .l[[2L]][[1L]], x = .l[[3L]][[1L]], \n .     ...)",
      "6. geom_exec(geom_boxplot, data = data, color = color, fill = fill, \n .     linetype = linetype, size = size, width = width, notch = notch, \n .     position = position_dodge(0.8), size = size, ...)",
      "7. do.call(ggplot2::aes_string, mapping)",
      "8. (function (x, y, ...) \n . {\n .     mapping <- list(...)\n .     if (!missing(x)) \n .         mapping[\"x\"] <- list(x)\n .     if (!missing(y)) \n .         mapping[\"y\"] <- list(y)\n .     caller_env <- parent.frame()\n .     mapping <- lapply(mapping, function(x) {\n .         if (is.character(x)) {\n .             x <- parse_expr(x)\n .         }\n .         new_aesthetic(x, env = caller_env)\n .     })\n .     structure(rename_aes(mapping), class = \"uneval\")\n . })(color = \"Presence Connecteur\")",
      "9. lapply(mapping, function(x) {\n .     if (is.character(x)) {\n .         x <- parse_expr(x)\n .     }\n .     new_aesthetic(x, env = caller_env)\n . })",
      "10. FUN(X[[i]], ...)",
      "11. parse_expr(x)",
      "12. parse_exprs(x)",
      "13. parse(text = x)"
     ]
    }
   ],
   "source": [
    "ggboxplot(DB_Proportion, x = \"Condition\", y = \"Valeur\", color = \"Presence Connecteur\",\n",
    "          palette = c(\"#00AFBB\", \"#E7B800\"))"
   ]
  },
  {
   "cell_type": "markdown",
   "metadata": {},
   "source": [
    "The above two errors are due to the fact, that we have space in the names of columns. Let's change that.\n"
   ]
  },
  {
   "cell_type": "code",
   "execution_count": 246,
   "metadata": {
    "collapsed": true,
    "jupyter": {
     "outputs_hidden": true
    }
   },
   "outputs": [],
   "source": [
    "DB_cleaned <- DB_cleaned %>% rename(\"PresenceConnecteur\" = \"Presence Connecteur\")"
   ]
  },
  {
   "cell_type": "code",
   "execution_count": 247,
   "metadata": {
    "collapsed": true,
    "jupyter": {
     "outputs_hidden": true
    }
   },
   "outputs": [],
   "source": [
    "DB_cleaned <- DB_cleaned %>% rename(\"TypeQuestion\" = \"Type Question\")"
   ]
  },
  {
   "cell_type": "code",
   "execution_count": 248,
   "metadata": {
    "collapsed": true,
    "jupyter": {
     "outputs_hidden": true
    }
   },
   "outputs": [],
   "source": [
    "DB_cleaned <- DB_cleaned %>% rename(\"ParticipantID\" = \"Participant ID\")"
   ]
  },
  {
   "cell_type": "code",
   "execution_count": 249,
   "metadata": {
    "collapsed": true,
    "jupyter": {
     "outputs_hidden": true
    }
   },
   "outputs": [],
   "source": [
    "write_csv(DB_cleaned,\"DB_cleaned.csv\")"
   ]
  },
  {
   "cell_type": "code",
   "execution_count": 250,
   "metadata": {
    "collapsed": true,
    "jupyter": {
     "outputs_hidden": true
    }
   },
   "outputs": [
    {
     "data": {
      "text/html": [
       "<table>\n",
       "<caption>A tibble: 6 × 6</caption>\n",
       "<thead>\n",
       "\t<tr><th scope=col>ParticipantID</th><th scope=col>Valeur</th><th scope=col>Item</th><th scope=col>Condition</th><th scope=col>PresenceConnecteur</th><th scope=col>TypeQuestion</th></tr>\n",
       "\t<tr><th scope=col>&lt;dbl&gt;</th><th scope=col>&lt;dbl&gt;</th><th scope=col>&lt;dbl&gt;</th><th scope=col>&lt;chr&gt;</th><th scope=col>&lt;chr&gt;</th><th scope=col>&lt;chr&gt;</th></tr>\n",
       "</thead>\n",
       "<tbody>\n",
       "\t<tr><td>1</td><td>5</td><td>1</td><td>Fallacieux</td><td>oui</td><td>Proportion </td></tr>\n",
       "\t<tr><td>1</td><td>5</td><td>1</td><td>Fallacieux</td><td>oui</td><td>Decoulement</td></tr>\n",
       "\t<tr><td>1</td><td>5</td><td>1</td><td>Fallacieux</td><td>oui</td><td>AccordA    </td></tr>\n",
       "\t<tr><td>1</td><td>4</td><td>1</td><td>Fallacieux</td><td>oui</td><td>AccordB    </td></tr>\n",
       "\t<tr><td>1</td><td>2</td><td>2</td><td>Fallacieux</td><td>non</td><td>Proportion </td></tr>\n",
       "\t<tr><td>1</td><td>4</td><td>2</td><td>Fallacieux</td><td>non</td><td>Decoulement</td></tr>\n",
       "</tbody>\n",
       "</table>\n"
      ],
      "text/latex": [
       "A tibble: 6 × 6\n",
       "\\begin{tabular}{r|llllll}\n",
       " ParticipantID & Valeur & Item & Condition & PresenceConnecteur & TypeQuestion\\\\\n",
       " <dbl> & <dbl> & <dbl> & <chr> & <chr> & <chr>\\\\\n",
       "\\hline\n",
       "\t 1 & 5 & 1 & Fallacieux & oui & Proportion \\\\\n",
       "\t 1 & 5 & 1 & Fallacieux & oui & Decoulement\\\\\n",
       "\t 1 & 5 & 1 & Fallacieux & oui & AccordA    \\\\\n",
       "\t 1 & 4 & 1 & Fallacieux & oui & AccordB    \\\\\n",
       "\t 1 & 2 & 2 & Fallacieux & non & Proportion \\\\\n",
       "\t 1 & 4 & 2 & Fallacieux & non & Decoulement\\\\\n",
       "\\end{tabular}\n"
      ],
      "text/markdown": [
       "\n",
       "A tibble: 6 × 6\n",
       "\n",
       "| ParticipantID &lt;dbl&gt; | Valeur &lt;dbl&gt; | Item &lt;dbl&gt; | Condition &lt;chr&gt; | PresenceConnecteur &lt;chr&gt; | TypeQuestion &lt;chr&gt; |\n",
       "|---|---|---|---|---|---|\n",
       "| 1 | 5 | 1 | Fallacieux | oui | Proportion  |\n",
       "| 1 | 5 | 1 | Fallacieux | oui | Decoulement |\n",
       "| 1 | 5 | 1 | Fallacieux | oui | AccordA     |\n",
       "| 1 | 4 | 1 | Fallacieux | oui | AccordB     |\n",
       "| 1 | 2 | 2 | Fallacieux | non | Proportion  |\n",
       "| 1 | 4 | 2 | Fallacieux | non | Decoulement |\n",
       "\n"
      ],
      "text/plain": [
       "  ParticipantID Valeur Item Condition  PresenceConnecteur TypeQuestion\n",
       "1 1             5      1    Fallacieux oui                Proportion  \n",
       "2 1             5      1    Fallacieux oui                Decoulement \n",
       "3 1             5      1    Fallacieux oui                AccordA     \n",
       "4 1             4      1    Fallacieux oui                AccordB     \n",
       "5 1             2      2    Fallacieux non                Proportion  \n",
       "6 1             4      2    Fallacieux non                Decoulement "
      ]
     },
     "metadata": {},
     "output_type": "display_data"
    }
   ],
   "source": [
    "head(DB_cleaned)"
   ]
  },
  {
   "cell_type": "code",
   "execution_count": 251,
   "metadata": {
    "collapsed": true,
    "jupyter": {
     "outputs_hidden": true
    }
   },
   "outputs": [],
   "source": [
    "DB_Proportion <- DB_cleaned %>%\n",
    "  filter(TypeQuestion==\"Proportion\") %>%\n",
    "  select(Condition, PresenceConnecteur, Valeur)"
   ]
  },
  {
   "cell_type": "code",
   "execution_count": 252,
   "metadata": {
    "collapsed": true,
    "jupyter": {
     "outputs_hidden": true
    }
   },
   "outputs": [
    {
     "data": {
      "text/html": [
       "<table>\n",
       "<caption>A tibble: 6 × 3</caption>\n",
       "<thead>\n",
       "\t<tr><th scope=col>Condition</th><th scope=col>PresenceConnecteur</th><th scope=col>Valeur</th></tr>\n",
       "\t<tr><th scope=col>&lt;chr&gt;</th><th scope=col>&lt;chr&gt;</th><th scope=col>&lt;dbl&gt;</th></tr>\n",
       "</thead>\n",
       "<tbody>\n",
       "\t<tr><td>Fallacieux   </td><td>oui</td><td>5</td></tr>\n",
       "\t<tr><td>Fallacieux   </td><td>non</td><td>2</td></tr>\n",
       "\t<tr><td>NonFallacieux</td><td>oui</td><td>5</td></tr>\n",
       "\t<tr><td>NonFallacieux</td><td>non</td><td>6</td></tr>\n",
       "\t<tr><td>Fallacieux   </td><td>oui</td><td>4</td></tr>\n",
       "\t<tr><td>Fallacieux   </td><td>non</td><td>3</td></tr>\n",
       "</tbody>\n",
       "</table>\n"
      ],
      "text/latex": [
       "A tibble: 6 × 3\n",
       "\\begin{tabular}{r|lll}\n",
       " Condition & PresenceConnecteur & Valeur\\\\\n",
       " <chr> & <chr> & <dbl>\\\\\n",
       "\\hline\n",
       "\t Fallacieux    & oui & 5\\\\\n",
       "\t Fallacieux    & non & 2\\\\\n",
       "\t NonFallacieux & oui & 5\\\\\n",
       "\t NonFallacieux & non & 6\\\\\n",
       "\t Fallacieux    & oui & 4\\\\\n",
       "\t Fallacieux    & non & 3\\\\\n",
       "\\end{tabular}\n"
      ],
      "text/markdown": [
       "\n",
       "A tibble: 6 × 3\n",
       "\n",
       "| Condition &lt;chr&gt; | PresenceConnecteur &lt;chr&gt; | Valeur &lt;dbl&gt; |\n",
       "|---|---|---|\n",
       "| Fallacieux    | oui | 5 |\n",
       "| Fallacieux    | non | 2 |\n",
       "| NonFallacieux | oui | 5 |\n",
       "| NonFallacieux | non | 6 |\n",
       "| Fallacieux    | oui | 4 |\n",
       "| Fallacieux    | non | 3 |\n",
       "\n"
      ],
      "text/plain": [
       "  Condition     PresenceConnecteur Valeur\n",
       "1 Fallacieux    oui                5     \n",
       "2 Fallacieux    non                2     \n",
       "3 NonFallacieux oui                5     \n",
       "4 NonFallacieux non                6     \n",
       "5 Fallacieux    oui                4     \n",
       "6 Fallacieux    non                3     "
      ]
     },
     "metadata": {},
     "output_type": "display_data"
    }
   ],
   "source": [
    "head(DB_Proportion)"
   ]
  },
  {
   "cell_type": "code",
   "execution_count": 253,
   "metadata": {
    "collapsed": true,
    "jupyter": {
     "outputs_hidden": true
    }
   },
   "outputs": [
    {
     "data": {
      "image/png": "[encoded data removed]",
      "text/plain": [
       "plot without title"
      ]
     },
     "metadata": {
      "image/png": {
       "height": 420,
       "width": 420
      },
      "text/plain": {
       "height": 420,
       "width": 420
      }
     },
     "output_type": "display_data"
    }
   ],
   "source": [
    "boxplot(Valeur ~ Condition:PresenceConnecteur,\n",
    "        data = DB_Proportion,\n",
    "        xlab = \"Condition x PresenceConnecteur\",\n",
    "        ylab = \"Valeur\")"
   ]
  },
  {
   "cell_type": "code",
   "execution_count": 254,
   "metadata": {
    "collapsed": true,
    "jupyter": {
     "outputs_hidden": true
    }
   },
   "outputs": [
    {
     "data": {
      "image/png": "[encoded data removed]",
      "text/plain": [
       "plot without title"
      ]
     },
     "metadata": {
      "image/png": {
       "height": 420,
       "width": 420
      },
      "text/plain": {
       "height": 420,
       "width": 420
      }
     },
     "output_type": "display_data"
    }
   ],
   "source": [
    "ggboxplot(DB_Proportion, x = \"Condition\", y = \"Valeur\", color = \"PresenceConnecteur\",\n",
    "          palette = c(\"#00AFBB\", \"#E7B800\"))"
   ]
  },
  {
   "cell_type": "markdown",
   "metadata": {},
   "source": [
    "### Two-way anova without interaction effect"
   ]
  },
  {
   "cell_type": "code",
   "execution_count": 35,
   "metadata": {
    "collapsed": true,
    "jupyter": {
     "outputs_hidden": true
    }
   },
   "outputs": [
    {
     "data": {
      "text/plain": [
       "                     Df Sum Sq Mean Sq F value Pr(>F)    \n",
       "Condition             1    466   465.6  237.91 <2e-16 ***\n",
       "PresenceConnecteur    1      5     4.9    2.52  0.113    \n",
       "Residuals          2917   5709     2.0                   \n",
       "---\n",
       "Signif. codes:  0 ‘***’ 0.001 ‘**’ 0.01 ‘*’ 0.05 ‘.’ 0.1 ‘ ’ 1"
      ]
     },
     "metadata": {},
     "output_type": "display_data"
    }
   ],
   "source": [
    "res.aov1 <- aov(Valeur ~  Condition + PresenceConnecteur, data = DB_Proportion)\n",
    "summary(res.aov1)"
   ]
  },
  {
   "cell_type": "code",
   "execution_count": 36,
   "metadata": {
    "collapsed": true,
    "jupyter": {
     "outputs_hidden": true
    }
   },
   "outputs": [
    {
     "name": "stdout",
     "output_type": "stream",
     "text": [
      "Tables of means\n",
      "Grand mean\n",
      "         \n",
      "3.923973 \n",
      "\n",
      " Condition \n",
      "Condition\n",
      "   Fallacieux NonFallacieux \n",
      "         3.52          4.32 \n",
      "\n",
      " PresenceConnecteur \n",
      "PresenceConnecteur\n",
      " non  oui \n",
      "3.97 3.88 \n"
     ]
    }
   ],
   "source": [
    "print(model.tables(res.aov1,\"means\"),digits=3) "
   ]
  },
  {
   "cell_type": "markdown",
   "metadata": {},
   "source": [
    "### Two-way anova with interaction effect"
   ]
  },
  {
   "cell_type": "code",
   "execution_count": 37,
   "metadata": {
    "collapsed": true,
    "jupyter": {
     "outputs_hidden": true
    }
   },
   "outputs": [
    {
     "data": {
      "text/plain": [
       "                               Df Sum Sq Mean Sq F value Pr(>F)    \n",
       "Condition                       1    466   465.6 237.856 <2e-16 ***\n",
       "PresenceConnecteur              1      5     4.9   2.519  0.113    \n",
       "Condition:PresenceConnecteur    1      1     0.5   0.280  0.597    \n",
       "Residuals                    2916   5708     2.0                   \n",
       "---\n",
       "Signif. codes:  0 ‘***’ 0.001 ‘**’ 0.01 ‘*’ 0.05 ‘.’ 0.1 ‘ ’ 1"
      ]
     },
     "metadata": {},
     "output_type": "display_data"
    }
   ],
   "source": [
    "res.aov2 <- aov(Valeur ~ Condition*PresenceConnecteur, data = DB_Proportion)\n",
    "summary(res.aov2)"
   ]
  },
  {
   "cell_type": "code",
   "execution_count": 38,
   "metadata": {
    "collapsed": true,
    "jupyter": {
     "outputs_hidden": true
    }
   },
   "outputs": [
    {
     "name": "stdout",
     "output_type": "stream",
     "text": [
      "Tables of means\n",
      "Grand mean\n",
      "         \n",
      "3.923973 \n",
      "\n",
      " Condition \n",
      "Condition\n",
      "   Fallacieux NonFallacieux \n",
      "         3.52          4.32 \n",
      "\n",
      " PresenceConnecteur \n",
      "PresenceConnecteur\n",
      " non  oui \n",
      "3.97 3.88 \n",
      "\n",
      " Condition:PresenceConnecteur \n",
      "               PresenceConnecteur\n",
      "Condition       non  oui \n",
      "  Fallacieux    3.58 3.47\n",
      "  NonFallacieux 4.35 4.30\n"
     ]
    }
   ],
   "source": [
    "print(model.tables(res.aov2,\"means\"),digits=3) "
   ]
  },
  {
   "cell_type": "markdown",
   "metadata": {},
   "source": [
    "### Test whether the assumptions of the ANOVA hold"
   ]
  },
  {
   "cell_type": "code",
   "execution_count": 39,
   "metadata": {
    "collapsed": true,
    "jupyter": {
     "outputs_hidden": true
    }
   },
   "outputs": [
    {
     "data": {
      "image/png": "[encoded data removed]",
      "text/plain": [
       "Plot with title “”"
      ]
     },
     "metadata": {
      "image/png": {
       "height": 420,
       "width": 420
      },
      "text/plain": {
       "height": 420,
       "width": 420
      }
     },
     "output_type": "display_data"
    }
   ],
   "source": [
    "plot(res.aov2, 1)"
   ]
  },
  {
   "cell_type": "code",
   "execution_count": 40,
   "metadata": {
    "collapsed": true,
    "jupyter": {
     "outputs_hidden": true
    }
   },
   "outputs": [
    {
     "name": "stderr",
     "output_type": "stream",
     "text": [
      "Loading required package: carData\n",
      "\n",
      "\n",
      "Attaching package: ‘car’\n",
      "\n",
      "\n",
      "The following object is masked from ‘package:psych’:\n",
      "\n",
      "    logit\n",
      "\n",
      "\n",
      "The following object is masked from ‘package:dplyr’:\n",
      "\n",
      "    recode\n",
      "\n",
      "\n"
     ]
    }
   ],
   "source": [
    "library(car)"
   ]
  },
  {
   "cell_type": "code",
   "execution_count": 42,
   "metadata": {
    "collapsed": true,
    "jupyter": {
     "outputs_hidden": true
    }
   },
   "outputs": [
    {
     "data": {
      "text/html": [
       "<table>\n",
       "<caption>A anova: 2 × 3</caption>\n",
       "<thead>\n",
       "\t<tr><th></th><th scope=col>Df</th><th scope=col>F value</th><th scope=col>Pr(&gt;F)</th></tr>\n",
       "\t<tr><th></th><th scope=col>&lt;int&gt;</th><th scope=col>&lt;dbl&gt;</th><th scope=col>&lt;dbl&gt;</th></tr>\n",
       "</thead>\n",
       "<tbody>\n",
       "\t<tr><th scope=row>group</th><td>   3</td><td>11.79286</td><td>1.120616e-07</td></tr>\n",
       "\t<tr><th scope=row> </th><td>2916</td><td>      NA</td><td>          NA</td></tr>\n",
       "</tbody>\n",
       "</table>\n"
      ],
      "text/latex": [
       "A anova: 2 × 3\n",
       "\\begin{tabular}{r|lll}\n",
       "  & Df & F value & Pr(>F)\\\\\n",
       "  & <int> & <dbl> & <dbl>\\\\\n",
       "\\hline\n",
       "\tgroup &    3 & 11.79286 & 1.120616e-07\\\\\n",
       "\t  & 2916 &       NA &           NA\\\\\n",
       "\\end{tabular}\n"
      ],
      "text/markdown": [
       "\n",
       "A anova: 2 × 3\n",
       "\n",
       "| <!--/--> | Df &lt;int&gt; | F value &lt;dbl&gt; | Pr(&gt;F) &lt;dbl&gt; |\n",
       "|---|---|---|---|\n",
       "| group |    3 | 11.79286 | 1.120616e-07 |\n",
       "| <!----> | 2916 |       NA |           NA |\n",
       "\n"
      ],
      "text/plain": [
       "      Df   F value  Pr(>F)      \n",
       "group    3 11.79286 1.120616e-07\n",
       "      2916       NA           NA"
      ]
     },
     "metadata": {},
     "output_type": "display_data"
    }
   ],
   "source": [
    "leveneTest(Valeur ~ Condition*PresenceConnecteur, data = DB_Proportion)"
   ]
  },
  {
   "cell_type": "markdown",
   "metadata": {},
   "source": [
    "The variance across the groups is significantly different."
   ]
  },
  {
   "cell_type": "code",
   "execution_count": 43,
   "metadata": {
    "collapsed": true,
    "jupyter": {
     "outputs_hidden": true
    }
   },
   "outputs": [
    {
     "data": {
      "image/png": "[encoded data removed]",
      "text/plain": [
       "Plot with title “”"
      ]
     },
     "metadata": {
      "image/png": {
       "height": 420,
       "width": 420
      },
      "text/plain": {
       "height": 420,
       "width": 420
      }
     },
     "output_type": "display_data"
    }
   ],
   "source": [
    "plot(res.aov2, 2)"
   ]
  },
  {
   "cell_type": "code",
   "execution_count": 255,
   "metadata": {
    "collapsed": true,
    "jupyter": {
     "outputs_hidden": true
    }
   },
   "outputs": [
    {
     "data": {
      "text/plain": [
       "\n",
       "\tShapiro-Wilk normality test\n",
       "\n",
       "data:  aov_residuals\n",
       "W = 0.97444, p-value < 2.2e-16\n"
      ]
     },
     "metadata": {},
     "output_type": "display_data"
    }
   ],
   "source": [
    "# Extract the residuals\n",
    "aov_residuals <- residuals(object = res.aov2)\n",
    "# Run Shapiro-Wilk test\n",
    "shapiro.test(x = aov_residuals)"
   ]
  },
  {
   "cell_type": "code",
   "execution_count": 258,
   "metadata": {
    "collapsed": true,
    "jupyter": {
     "outputs_hidden": true
    }
   },
   "outputs": [
    {
     "data": {
      "image/png": "[encoded data removed]",
      "text/plain": [
       "plot without title"
      ]
     },
     "metadata": {
      "image/png": {
       "height": 420,
       "width": 420
      },
      "text/plain": {
       "height": 420,
       "width": 420
      }
     },
     "output_type": "display_data"
    }
   ],
   "source": [
    "#hist(aov_residuals)\n",
    "qplot(aov_residuals,\n",
    "      geom=\"histogram\",\n",
    "      binwidth = 0.5,  \n",
    "      main = \"Histogram of anova residuals\")"
   ]
  },
  {
   "cell_type": "markdown",
   "metadata": {},
   "source": [
    "However visually the quantiles of the normal distribution and the quantiles of the residuals of the model are close to the refernce line (first bisector), which suggests normality, and with the bandwidth of 0.5 the histogram of the residuals seems to be normal, the residuals fail on the Shapiro-Wilkoxon normality test."
   ]
  },
  {
   "cell_type": "markdown",
   "metadata": {},
   "source": [
    "## Post hoc test for main effects and interactions"
   ]
  },
  {
   "cell_type": "code",
   "execution_count": 46,
   "metadata": {
    "collapsed": true,
    "jupyter": {
     "outputs_hidden": true
    }
   },
   "outputs": [
    {
     "data": {
      "text/plain": [
       "  Tukey multiple comparisons of means\n",
       "    95% family-wise confidence level\n",
       "\n",
       "Fit: aov(formula = Valeur ~ Condition * PresenceConnecteur, data = BD_Proportion)\n",
       "\n",
       "$Condition\n",
       "                              diff       lwr       upr p adj\n",
       "NonFallacieux-Fallacieux 0.7986301 0.6970949 0.9001654     0\n",
       "\n",
       "$PresenceConnecteur\n",
       "               diff       lwr        upr     p adj\n",
       "oui-non -0.08219178 -0.183727 0.01934345 0.1125688\n",
       "\n",
       "$`Condition:PresenceConnecteur`\n",
       "                                           diff        lwr         upr\n",
       "NonFallacieux:non-Fallacieux:non     0.77123288  0.5829880  0.95947779\n",
       "Fallacieux:oui-Fallacieux:non       -0.10958904 -0.2978340  0.07865587\n",
       "NonFallacieux:oui-Fallacieux:non     0.71643836  0.5281934  0.90468327\n",
       "Fallacieux:oui-NonFallacieux:non    -0.88082192 -1.0690668 -0.69257700\n",
       "NonFallacieux:oui-NonFallacieux:non -0.05479452 -0.2430394  0.13345039\n",
       "NonFallacieux:oui-Fallacieux:oui     0.82602740  0.6377825  1.01427231\n",
       "                                        p adj\n",
       "NonFallacieux:non-Fallacieux:non    0.0000000\n",
       "Fallacieux:oui-Fallacieux:non       0.4397341\n",
       "NonFallacieux:oui-Fallacieux:non    0.0000000\n",
       "Fallacieux:oui-NonFallacieux:non    0.0000000\n",
       "NonFallacieux:oui-NonFallacieux:non 0.8774493\n",
       "NonFallacieux:oui-Fallacieux:oui    0.0000000\n"
      ]
     },
     "metadata": {},
     "output_type": "display_data"
    }
   ],
   "source": [
    "TukeyHSD(res.aov2)"
   ]
  },
  {
   "cell_type": "markdown",
   "metadata": {},
   "source": [
    "# 4. Second look at ANOVA - Is this what we wanted?"
   ]
  },
  {
   "cell_type": "markdown",
   "metadata": {},
   "source": [
    "If you check the degree of freedom of the residuals, you realise that it is huge, while in the paper it is 32, respectively 39. What did we wrong? Before doing the analysis we should probably agrregate more our data."
   ]
  },
  {
   "cell_type": "markdown",
   "metadata": {},
   "source": [
    "## 5. Model example for repeated measure ANOVA"
   ]
  },
  {
   "cell_type": "markdown",
   "metadata": {},
   "source": [
    "To read more about how to carry out such an analysis visit https://www.datanovia.com/en/lessons/repeated-measures-anova-in-r/."
   ]
  },
  {
   "cell_type": "code",
   "execution_count": null,
   "metadata": {
    "collapsed": true,
    "jupyter": {
     "outputs_hidden": true
    }
   },
   "outputs": [],
   "source": [
    "install.packages(\"rstatix\")"
   ]
  },
  {
   "cell_type": "code",
   "execution_count": null,
   "metadata": {
    "collapsed": true,
    "jupyter": {
     "outputs_hidden": true
    }
   },
   "outputs": [],
   "source": [
    "library(rstatix)"
   ]
  },
  {
   "cell_type": "code",
   "execution_count": 132,
   "metadata": {
    "collapsed": true,
    "jupyter": {
     "outputs_hidden": true
    }
   },
   "outputs": [
    {
     "name": "stderr",
     "output_type": "stream",
     "text": [
      "Installing package into ‘/home/.local/R/3.6/lib’\n",
      "(as ‘lib’ is unspecified)\n",
      "\n"
     ]
    }
   ],
   "source": [
    "install.packages(\"datarium\")\n",
    "library(datarium)"
   ]
  },
  {
   "cell_type": "markdown",
   "metadata": {},
   "source": [
    "## Load the data"
   ]
  },
  {
   "cell_type": "code",
   "execution_count": 156,
   "metadata": {
    "collapsed": true,
    "jupyter": {
     "outputs_hidden": true
    }
   },
   "outputs": [
    {
     "data": {
      "text/html": [
       "<table>\n",
       "<caption>A tibble: 4 × 6</caption>\n",
       "<thead>\n",
       "\t<tr><th scope=col>id</th><th scope=col>diet</th><th scope=col>exercises</th><th scope=col>t1</th><th scope=col>t2</th><th scope=col>t3</th></tr>\n",
       "\t<tr><th scope=col>&lt;fct&gt;</th><th scope=col>&lt;fct&gt;</th><th scope=col>&lt;fct&gt;</th><th scope=col>&lt;dbl&gt;</th><th scope=col>&lt;dbl&gt;</th><th scope=col>&lt;dbl&gt;</th></tr>\n",
       "</thead>\n",
       "<tbody>\n",
       "\t<tr><td>3 </td><td>no </td><td>no </td><td>11.35</td><td>11.12</td><td>11.35</td></tr>\n",
       "\t<tr><td>3 </td><td>no </td><td>yes</td><td>12.05</td><td>13.67</td><td>17.84</td></tr>\n",
       "\t<tr><td>10</td><td>yes</td><td>no </td><td>11.12</td><td>15.29</td><td>10.89</td></tr>\n",
       "\t<tr><td>2 </td><td>yes</td><td>yes</td><td>11.35</td><td>14.83</td><td>15.06</td></tr>\n",
       "</tbody>\n",
       "</table>\n"
      ],
      "text/latex": [
       "A tibble: 4 × 6\n",
       "\\begin{tabular}{r|llllll}\n",
       " id & diet & exercises & t1 & t2 & t3\\\\\n",
       " <fct> & <fct> & <fct> & <dbl> & <dbl> & <dbl>\\\\\n",
       "\\hline\n",
       "\t 3  & no  & no  & 11.35 & 11.12 & 11.35\\\\\n",
       "\t 3  & no  & yes & 12.05 & 13.67 & 17.84\\\\\n",
       "\t 10 & yes & no  & 11.12 & 15.29 & 10.89\\\\\n",
       "\t 2  & yes & yes & 11.35 & 14.83 & 15.06\\\\\n",
       "\\end{tabular}\n"
      ],
      "text/markdown": [
       "\n",
       "A tibble: 4 × 6\n",
       "\n",
       "| id &lt;fct&gt; | diet &lt;fct&gt; | exercises &lt;fct&gt; | t1 &lt;dbl&gt; | t2 &lt;dbl&gt; | t3 &lt;dbl&gt; |\n",
       "|---|---|---|---|---|---|\n",
       "| 3  | no  | no  | 11.35 | 11.12 | 11.35 |\n",
       "| 3  | no  | yes | 12.05 | 13.67 | 17.84 |\n",
       "| 10 | yes | no  | 11.12 | 15.29 | 10.89 |\n",
       "| 2  | yes | yes | 11.35 | 14.83 | 15.06 |\n",
       "\n"
      ],
      "text/plain": [
       "  id diet exercises t1    t2    t3   \n",
       "1 3  no   no        11.35 11.12 11.35\n",
       "2 3  no   yes       12.05 13.67 17.84\n",
       "3 10 yes  no        11.12 15.29 10.89\n",
       "4 2  yes  yes       11.35 14.83 15.06"
      ]
     },
     "metadata": {},
     "output_type": "display_data"
    }
   ],
   "source": [
    "set.seed(123)\n",
    "data(\"weightloss\", package = \"datarium\")\n",
    "weightloss %>% sample_n_by(diet, exercises, size = 1)"
   ]
  },
  {
   "cell_type": "code",
   "execution_count": 158,
   "metadata": {
    "collapsed": true,
    "jupyter": {
     "outputs_hidden": true
    }
   },
   "outputs": [
    {
     "data": {
      "text/html": [
       "<table>\n",
       "<caption>A tibble: 12 × 5</caption>\n",
       "<thead>\n",
       "\t<tr><th scope=col>id</th><th scope=col>diet</th><th scope=col>exercises</th><th scope=col>time</th><th scope=col>score</th></tr>\n",
       "\t<tr><th scope=col>&lt;fct&gt;</th><th scope=col>&lt;fct&gt;</th><th scope=col>&lt;fct&gt;</th><th scope=col>&lt;fct&gt;</th><th scope=col>&lt;dbl&gt;</th></tr>\n",
       "</thead>\n",
       "<tbody>\n",
       "\t<tr><td>3 </td><td>no </td><td>no </td><td>t1</td><td>11.35</td></tr>\n",
       "\t<tr><td>3 </td><td>no </td><td>no </td><td>t2</td><td>11.12</td></tr>\n",
       "\t<tr><td>10</td><td>no </td><td>no </td><td>t3</td><td>11.35</td></tr>\n",
       "\t<tr><td>2 </td><td>no </td><td>yes</td><td>t1</td><td> 9.96</td></tr>\n",
       "\t<tr><td>6 </td><td>no </td><td>yes</td><td>t2</td><td>12.98</td></tr>\n",
       "\t<tr><td>11</td><td>no </td><td>yes</td><td>t3</td><td>19.00</td></tr>\n",
       "\t<tr><td>5 </td><td>yes</td><td>no </td><td>t1</td><td>11.59</td></tr>\n",
       "\t<tr><td>4 </td><td>yes</td><td>no </td><td>t2</td><td> 9.73</td></tr>\n",
       "\t<tr><td>6 </td><td>yes</td><td>no </td><td>t3</td><td>12.74</td></tr>\n",
       "\t<tr><td>9 </td><td>yes</td><td>yes</td><td>t1</td><td>11.82</td></tr>\n",
       "\t<tr><td>10</td><td>yes</td><td>yes</td><td>t2</td><td>14.13</td></tr>\n",
       "\t<tr><td>11</td><td>yes</td><td>yes</td><td>t3</td><td>15.06</td></tr>\n",
       "</tbody>\n",
       "</table>\n"
      ],
      "text/latex": [
       "A tibble: 12 × 5\n",
       "\\begin{tabular}{r|lllll}\n",
       " id & diet & exercises & time & score\\\\\n",
       " <fct> & <fct> & <fct> & <fct> & <dbl>\\\\\n",
       "\\hline\n",
       "\t 3  & no  & no  & t1 & 11.35\\\\\n",
       "\t 3  & no  & no  & t2 & 11.12\\\\\n",
       "\t 10 & no  & no  & t3 & 11.35\\\\\n",
       "\t 2  & no  & yes & t1 &  9.96\\\\\n",
       "\t 6  & no  & yes & t2 & 12.98\\\\\n",
       "\t 11 & no  & yes & t3 & 19.00\\\\\n",
       "\t 5  & yes & no  & t1 & 11.59\\\\\n",
       "\t 4  & yes & no  & t2 &  9.73\\\\\n",
       "\t 6  & yes & no  & t3 & 12.74\\\\\n",
       "\t 9  & yes & yes & t1 & 11.82\\\\\n",
       "\t 10 & yes & yes & t2 & 14.13\\\\\n",
       "\t 11 & yes & yes & t3 & 15.06\\\\\n",
       "\\end{tabular}\n"
      ],
      "text/markdown": [
       "\n",
       "A tibble: 12 × 5\n",
       "\n",
       "| id &lt;fct&gt; | diet &lt;fct&gt; | exercises &lt;fct&gt; | time &lt;fct&gt; | score &lt;dbl&gt; |\n",
       "|---|---|---|---|---|\n",
       "| 3  | no  | no  | t1 | 11.35 |\n",
       "| 3  | no  | no  | t2 | 11.12 |\n",
       "| 10 | no  | no  | t3 | 11.35 |\n",
       "| 2  | no  | yes | t1 |  9.96 |\n",
       "| 6  | no  | yes | t2 | 12.98 |\n",
       "| 11 | no  | yes | t3 | 19.00 |\n",
       "| 5  | yes | no  | t1 | 11.59 |\n",
       "| 4  | yes | no  | t2 |  9.73 |\n",
       "| 6  | yes | no  | t3 | 12.74 |\n",
       "| 9  | yes | yes | t1 | 11.82 |\n",
       "| 10 | yes | yes | t2 | 14.13 |\n",
       "| 11 | yes | yes | t3 | 15.06 |\n",
       "\n"
      ],
      "text/plain": [
       "   id diet exercises time score\n",
       "1  3  no   no        t1   11.35\n",
       "2  3  no   no        t2   11.12\n",
       "3  10 no   no        t3   11.35\n",
       "4  2  no   yes       t1    9.96\n",
       "5  6  no   yes       t2   12.98\n",
       "6  11 no   yes       t3   19.00\n",
       "7  5  yes  no        t1   11.59\n",
       "8  4  yes  no        t2    9.73\n",
       "9  6  yes  no        t3   12.74\n",
       "10 9  yes  yes       t1   11.82\n",
       "11 10 yes  yes       t2   14.13\n",
       "12 11 yes  yes       t3   15.06"
      ]
     },
     "metadata": {},
     "output_type": "display_data"
    }
   ],
   "source": [
    "# Gather the columns t1, t2 and t3 into long format.\n",
    "# Convert id and time into factor variables\n",
    "weightloss <- weightloss %>%\n",
    "  gather(key = \"time\", value = \"score\", t1, t2, t3) %>%\n",
    "  convert_as_factor(id, time)\n",
    "# Inspect some random rows of the data by groups\n",
    "set.seed(123)\n",
    "weightloss %>% sample_n_by(diet, exercises, time, size = 1)"
   ]
  },
  {
   "cell_type": "markdown",
   "metadata": {},
   "source": [
    "## Summary statistics"
   ]
  },
  {
   "cell_type": "code",
   "execution_count": 159,
   "metadata": {
    "collapsed": true,
    "jupyter": {
     "outputs_hidden": true
    }
   },
   "outputs": [
    {
     "data": {
      "text/html": [
       "<table>\n",
       "<caption>A tibble: 12 × 7</caption>\n",
       "<thead>\n",
       "\t<tr><th scope=col>diet</th><th scope=col>exercises</th><th scope=col>time</th><th scope=col>variable</th><th scope=col>n</th><th scope=col>mean</th><th scope=col>sd</th></tr>\n",
       "\t<tr><th scope=col>&lt;fct&gt;</th><th scope=col>&lt;fct&gt;</th><th scope=col>&lt;fct&gt;</th><th scope=col>&lt;chr&gt;</th><th scope=col>&lt;dbl&gt;</th><th scope=col>&lt;dbl&gt;</th><th scope=col>&lt;dbl&gt;</th></tr>\n",
       "</thead>\n",
       "<tbody>\n",
       "\t<tr><td>no </td><td>no </td><td>t1</td><td>score</td><td>12</td><td>10.909</td><td>0.868</td></tr>\n",
       "\t<tr><td>no </td><td>no </td><td>t2</td><td>score</td><td>12</td><td>11.566</td><td>1.298</td></tr>\n",
       "\t<tr><td>no </td><td>no </td><td>t3</td><td>score</td><td>12</td><td>11.450</td><td>0.935</td></tr>\n",
       "\t<tr><td>no </td><td>yes</td><td>t1</td><td>score</td><td>12</td><td>10.794</td><td>1.267</td></tr>\n",
       "\t<tr><td>no </td><td>yes</td><td>t2</td><td>score</td><td>12</td><td>13.421</td><td>1.006</td></tr>\n",
       "\t<tr><td>no </td><td>yes</td><td>t3</td><td>score</td><td>12</td><td>16.817</td><td>1.530</td></tr>\n",
       "\t<tr><td>yes</td><td>no </td><td>t1</td><td>score</td><td>12</td><td>11.742</td><td>0.938</td></tr>\n",
       "\t<tr><td>yes</td><td>no </td><td>t2</td><td>score</td><td>12</td><td>12.416</td><td>1.420</td></tr>\n",
       "\t<tr><td>yes</td><td>no </td><td>t3</td><td>score</td><td>12</td><td>13.787</td><td>1.433</td></tr>\n",
       "\t<tr><td>yes</td><td>yes</td><td>t1</td><td>score</td><td>12</td><td>11.393</td><td>1.089</td></tr>\n",
       "\t<tr><td>yes</td><td>yes</td><td>t2</td><td>score</td><td>12</td><td>13.225</td><td>1.221</td></tr>\n",
       "\t<tr><td>yes</td><td>yes</td><td>t3</td><td>score</td><td>12</td><td>14.655</td><td>0.625</td></tr>\n",
       "</tbody>\n",
       "</table>\n"
      ],
      "text/latex": [
       "A tibble: 12 × 7\n",
       "\\begin{tabular}{r|lllllll}\n",
       " diet & exercises & time & variable & n & mean & sd\\\\\n",
       " <fct> & <fct> & <fct> & <chr> & <dbl> & <dbl> & <dbl>\\\\\n",
       "\\hline\n",
       "\t no  & no  & t1 & score & 12 & 10.909 & 0.868\\\\\n",
       "\t no  & no  & t2 & score & 12 & 11.566 & 1.298\\\\\n",
       "\t no  & no  & t3 & score & 12 & 11.450 & 0.935\\\\\n",
       "\t no  & yes & t1 & score & 12 & 10.794 & 1.267\\\\\n",
       "\t no  & yes & t2 & score & 12 & 13.421 & 1.006\\\\\n",
       "\t no  & yes & t3 & score & 12 & 16.817 & 1.530\\\\\n",
       "\t yes & no  & t1 & score & 12 & 11.742 & 0.938\\\\\n",
       "\t yes & no  & t2 & score & 12 & 12.416 & 1.420\\\\\n",
       "\t yes & no  & t3 & score & 12 & 13.787 & 1.433\\\\\n",
       "\t yes & yes & t1 & score & 12 & 11.393 & 1.089\\\\\n",
       "\t yes & yes & t2 & score & 12 & 13.225 & 1.221\\\\\n",
       "\t yes & yes & t3 & score & 12 & 14.655 & 0.625\\\\\n",
       "\\end{tabular}\n"
      ],
      "text/markdown": [
       "\n",
       "A tibble: 12 × 7\n",
       "\n",
       "| diet &lt;fct&gt; | exercises &lt;fct&gt; | time &lt;fct&gt; | variable &lt;chr&gt; | n &lt;dbl&gt; | mean &lt;dbl&gt; | sd &lt;dbl&gt; |\n",
       "|---|---|---|---|---|---|---|\n",
       "| no  | no  | t1 | score | 12 | 10.909 | 0.868 |\n",
       "| no  | no  | t2 | score | 12 | 11.566 | 1.298 |\n",
       "| no  | no  | t3 | score | 12 | 11.450 | 0.935 |\n",
       "| no  | yes | t1 | score | 12 | 10.794 | 1.267 |\n",
       "| no  | yes | t2 | score | 12 | 13.421 | 1.006 |\n",
       "| no  | yes | t3 | score | 12 | 16.817 | 1.530 |\n",
       "| yes | no  | t1 | score | 12 | 11.742 | 0.938 |\n",
       "| yes | no  | t2 | score | 12 | 12.416 | 1.420 |\n",
       "| yes | no  | t3 | score | 12 | 13.787 | 1.433 |\n",
       "| yes | yes | t1 | score | 12 | 11.393 | 1.089 |\n",
       "| yes | yes | t2 | score | 12 | 13.225 | 1.221 |\n",
       "| yes | yes | t3 | score | 12 | 14.655 | 0.625 |\n",
       "\n"
      ],
      "text/plain": [
       "   diet exercises time variable n  mean   sd   \n",
       "1  no   no        t1   score    12 10.909 0.868\n",
       "2  no   no        t2   score    12 11.566 1.298\n",
       "3  no   no        t3   score    12 11.450 0.935\n",
       "4  no   yes       t1   score    12 10.794 1.267\n",
       "5  no   yes       t2   score    12 13.421 1.006\n",
       "6  no   yes       t3   score    12 16.817 1.530\n",
       "7  yes  no        t1   score    12 11.742 0.938\n",
       "8  yes  no        t2   score    12 12.416 1.420\n",
       "9  yes  no        t3   score    12 13.787 1.433\n",
       "10 yes  yes       t1   score    12 11.393 1.089\n",
       "11 yes  yes       t2   score    12 13.225 1.221\n",
       "12 yes  yes       t3   score    12 14.655 0.625"
      ]
     },
     "metadata": {},
     "output_type": "display_data"
    }
   ],
   "source": [
    "weightloss %>%\n",
    "  group_by(diet, exercises, time) %>%\n",
    "  get_summary_stats(score, type = \"mean_sd\")"
   ]
  },
  {
   "cell_type": "code",
   "execution_count": 160,
   "metadata": {
    "collapsed": true,
    "jupyter": {
     "outputs_hidden": true
    }
   },
   "outputs": [
    {
     "name": "stdout",
     "output_type": "stream",
     "text": [
      "\u001b[90m# A tibble: 144 x 5\u001b[39m\n",
      "   id    diet  exercises time  score\n",
      "   \u001b[3m\u001b[90m<fct>\u001b[39m\u001b[23m \u001b[3m\u001b[90m<fct>\u001b[39m\u001b[23m \u001b[3m\u001b[90m<fct>\u001b[39m\u001b[23m     \u001b[3m\u001b[90m<fct>\u001b[39m\u001b[23m \u001b[3m\u001b[90m<dbl>\u001b[39m\u001b[23m\n",
      "\u001b[90m 1\u001b[39m 1     no    no        t1     10.4\n",
      "\u001b[90m 2\u001b[39m 2     no    no        t1     11.6\n",
      "\u001b[90m 3\u001b[39m 3     no    no        t1     11.4\n",
      "\u001b[90m 4\u001b[39m 4     no    no        t1     11.1\n",
      "\u001b[90m 5\u001b[39m 5     no    no        t1      9.5\n",
      "\u001b[90m 6\u001b[39m 6     no    no        t1      9.5\n",
      "\u001b[90m 7\u001b[39m 7     no    no        t1     11.1\n",
      "\u001b[90m 8\u001b[39m 8     no    no        t1     12.5\n",
      "\u001b[90m 9\u001b[39m 9     no    no        t1     11.4\n",
      "\u001b[90m10\u001b[39m 10    no    no        t1     11.1\n",
      "\u001b[90m# … with 134 more rows\u001b[39m\n"
     ]
    }
   ],
   "source": [
    "print(weightloss)"
   ]
  },
  {
   "cell_type": "markdown",
   "metadata": {},
   "source": [
    "# Visualisation"
   ]
  },
  {
   "cell_type": "code",
   "execution_count": 161,
   "metadata": {
    "collapsed": true,
    "jupyter": {
     "outputs_hidden": true
    }
   },
   "outputs": [
    {
     "data": {
      "image/png": "[encoded data removed]",
      "text/plain": [
       "plot without title"
      ]
     },
     "metadata": {
      "image/png": {
       "height": 420,
       "width": 420
      },
      "text/plain": {
       "height": 420,
       "width": 420
      }
     },
     "output_type": "display_data"
    }
   ],
   "source": [
    "bxp <- ggboxplot(\n",
    "  weightloss, x = \"exercises\", y = \"score\",\n",
    "  color = \"time\", palette = \"jco\",\n",
    "  facet.by = \"diet\", short.panel.labs = FALSE\n",
    "  )\n",
    "bxp"
   ]
  },
  {
   "cell_type": "markdown",
   "metadata": {},
   "source": [
    "## Check assumptions"
   ]
  },
  {
   "cell_type": "code",
   "execution_count": 162,
   "metadata": {
    "collapsed": true,
    "jupyter": {
     "outputs_hidden": true
    }
   },
   "outputs": [
    {
     "data": {
      "text/html": [
       "<table>\n",
       "<caption>A tibble: 5 × 7</caption>\n",
       "<thead>\n",
       "\t<tr><th scope=col>diet</th><th scope=col>exercises</th><th scope=col>time</th><th scope=col>id</th><th scope=col>score</th><th scope=col>is.outlier</th><th scope=col>is.extreme</th></tr>\n",
       "\t<tr><th scope=col>&lt;fct&gt;</th><th scope=col>&lt;fct&gt;</th><th scope=col>&lt;fct&gt;</th><th scope=col>&lt;fct&gt;</th><th scope=col>&lt;dbl&gt;</th><th scope=col>&lt;lgl&gt;</th><th scope=col>&lt;lgl&gt;</th></tr>\n",
       "</thead>\n",
       "<tbody>\n",
       "\t<tr><td>no </td><td>no</td><td>t3</td><td>2 </td><td>13.21</td><td>TRUE</td><td>FALSE</td></tr>\n",
       "\t<tr><td>yes</td><td>no</td><td>t1</td><td>1 </td><td>10.20</td><td>TRUE</td><td>FALSE</td></tr>\n",
       "\t<tr><td>yes</td><td>no</td><td>t1</td><td>3 </td><td>13.21</td><td>TRUE</td><td>FALSE</td></tr>\n",
       "\t<tr><td>yes</td><td>no</td><td>t1</td><td>4 </td><td>10.20</td><td>TRUE</td><td>FALSE</td></tr>\n",
       "\t<tr><td>yes</td><td>no</td><td>t2</td><td>10</td><td>15.29</td><td>TRUE</td><td>FALSE</td></tr>\n",
       "</tbody>\n",
       "</table>\n"
      ],
      "text/latex": [
       "A tibble: 5 × 7\n",
       "\\begin{tabular}{r|lllllll}\n",
       " diet & exercises & time & id & score & is.outlier & is.extreme\\\\\n",
       " <fct> & <fct> & <fct> & <fct> & <dbl> & <lgl> & <lgl>\\\\\n",
       "\\hline\n",
       "\t no  & no & t3 & 2  & 13.21 & TRUE & FALSE\\\\\n",
       "\t yes & no & t1 & 1  & 10.20 & TRUE & FALSE\\\\\n",
       "\t yes & no & t1 & 3  & 13.21 & TRUE & FALSE\\\\\n",
       "\t yes & no & t1 & 4  & 10.20 & TRUE & FALSE\\\\\n",
       "\t yes & no & t2 & 10 & 15.29 & TRUE & FALSE\\\\\n",
       "\\end{tabular}\n"
      ],
      "text/markdown": [
       "\n",
       "A tibble: 5 × 7\n",
       "\n",
       "| diet &lt;fct&gt; | exercises &lt;fct&gt; | time &lt;fct&gt; | id &lt;fct&gt; | score &lt;dbl&gt; | is.outlier &lt;lgl&gt; | is.extreme &lt;lgl&gt; |\n",
       "|---|---|---|---|---|---|---|\n",
       "| no  | no | t3 | 2  | 13.21 | TRUE | FALSE |\n",
       "| yes | no | t1 | 1  | 10.20 | TRUE | FALSE |\n",
       "| yes | no | t1 | 3  | 13.21 | TRUE | FALSE |\n",
       "| yes | no | t1 | 4  | 10.20 | TRUE | FALSE |\n",
       "| yes | no | t2 | 10 | 15.29 | TRUE | FALSE |\n",
       "\n"
      ],
      "text/plain": [
       "  diet exercises time id score is.outlier is.extreme\n",
       "1 no   no        t3   2  13.21 TRUE       FALSE     \n",
       "2 yes  no        t1   1  10.20 TRUE       FALSE     \n",
       "3 yes  no        t1   3  13.21 TRUE       FALSE     \n",
       "4 yes  no        t1   4  10.20 TRUE       FALSE     \n",
       "5 yes  no        t2   10 15.29 TRUE       FALSE     "
      ]
     },
     "metadata": {},
     "output_type": "display_data"
    }
   ],
   "source": [
    "weightloss %>%\n",
    "  group_by(diet, exercises, time) %>%\n",
    "  identify_outliers(score)"
   ]
  },
  {
   "cell_type": "code",
   "execution_count": 163,
   "metadata": {
    "collapsed": true,
    "jupyter": {
     "outputs_hidden": true
    }
   },
   "outputs": [
    {
     "data": {
      "text/html": [
       "<table>\n",
       "<caption>A tibble: 12 × 6</caption>\n",
       "<thead>\n",
       "\t<tr><th scope=col>diet</th><th scope=col>exercises</th><th scope=col>time</th><th scope=col>variable</th><th scope=col>statistic</th><th scope=col>p</th></tr>\n",
       "\t<tr><th scope=col>&lt;fct&gt;</th><th scope=col>&lt;fct&gt;</th><th scope=col>&lt;fct&gt;</th><th scope=col>&lt;chr&gt;</th><th scope=col>&lt;dbl&gt;</th><th scope=col>&lt;dbl&gt;</th></tr>\n",
       "</thead>\n",
       "<tbody>\n",
       "\t<tr><td>no </td><td>no </td><td>t1</td><td>score</td><td>0.9173082</td><td>0.2643971</td></tr>\n",
       "\t<tr><td>no </td><td>no </td><td>t2</td><td>score</td><td>0.9571979</td><td>0.7432089</td></tr>\n",
       "\t<tr><td>no </td><td>no </td><td>t3</td><td>score</td><td>0.9649090</td><td>0.8509028</td></tr>\n",
       "\t<tr><td>no </td><td>yes</td><td>t1</td><td>score</td><td>0.9223457</td><td>0.3059440</td></tr>\n",
       "\t<tr><td>no </td><td>yes</td><td>t2</td><td>score</td><td>0.9123400</td><td>0.2285804</td></tr>\n",
       "\t<tr><td>no </td><td>yes</td><td>t3</td><td>score</td><td>0.9525447</td><td>0.6744326</td></tr>\n",
       "\t<tr><td>yes</td><td>no </td><td>t1</td><td>score</td><td>0.9422786</td><td>0.5281443</td></tr>\n",
       "\t<tr><td>yes</td><td>no </td><td>t2</td><td>score</td><td>0.9816773</td><td>0.9894564</td></tr>\n",
       "\t<tr><td>yes</td><td>no </td><td>t3</td><td>score</td><td>0.9313724</td><td>0.3948864</td></tr>\n",
       "\t<tr><td>yes</td><td>yes</td><td>t1</td><td>score</td><td>0.9141565</td><td>0.2411125</td></tr>\n",
       "\t<tr><td>yes</td><td>yes</td><td>t2</td><td>score</td><td>0.9472878</td><td>0.5977346</td></tr>\n",
       "\t<tr><td>yes</td><td>yes</td><td>t3</td><td>score</td><td>0.9373215</td><td>0.4641723</td></tr>\n",
       "</tbody>\n",
       "</table>\n"
      ],
      "text/latex": [
       "A tibble: 12 × 6\n",
       "\\begin{tabular}{r|llllll}\n",
       " diet & exercises & time & variable & statistic & p\\\\\n",
       " <fct> & <fct> & <fct> & <chr> & <dbl> & <dbl>\\\\\n",
       "\\hline\n",
       "\t no  & no  & t1 & score & 0.9173082 & 0.2643971\\\\\n",
       "\t no  & no  & t2 & score & 0.9571979 & 0.7432089\\\\\n",
       "\t no  & no  & t3 & score & 0.9649090 & 0.8509028\\\\\n",
       "\t no  & yes & t1 & score & 0.9223457 & 0.3059440\\\\\n",
       "\t no  & yes & t2 & score & 0.9123400 & 0.2285804\\\\\n",
       "\t no  & yes & t3 & score & 0.9525447 & 0.6744326\\\\\n",
       "\t yes & no  & t1 & score & 0.9422786 & 0.5281443\\\\\n",
       "\t yes & no  & t2 & score & 0.9816773 & 0.9894564\\\\\n",
       "\t yes & no  & t3 & score & 0.9313724 & 0.3948864\\\\\n",
       "\t yes & yes & t1 & score & 0.9141565 & 0.2411125\\\\\n",
       "\t yes & yes & t2 & score & 0.9472878 & 0.5977346\\\\\n",
       "\t yes & yes & t3 & score & 0.9373215 & 0.4641723\\\\\n",
       "\\end{tabular}\n"
      ],
      "text/markdown": [
       "\n",
       "A tibble: 12 × 6\n",
       "\n",
       "| diet &lt;fct&gt; | exercises &lt;fct&gt; | time &lt;fct&gt; | variable &lt;chr&gt; | statistic &lt;dbl&gt; | p &lt;dbl&gt; |\n",
       "|---|---|---|---|---|---|\n",
       "| no  | no  | t1 | score | 0.9173082 | 0.2643971 |\n",
       "| no  | no  | t2 | score | 0.9571979 | 0.7432089 |\n",
       "| no  | no  | t3 | score | 0.9649090 | 0.8509028 |\n",
       "| no  | yes | t1 | score | 0.9223457 | 0.3059440 |\n",
       "| no  | yes | t2 | score | 0.9123400 | 0.2285804 |\n",
       "| no  | yes | t3 | score | 0.9525447 | 0.6744326 |\n",
       "| yes | no  | t1 | score | 0.9422786 | 0.5281443 |\n",
       "| yes | no  | t2 | score | 0.9816773 | 0.9894564 |\n",
       "| yes | no  | t3 | score | 0.9313724 | 0.3948864 |\n",
       "| yes | yes | t1 | score | 0.9141565 | 0.2411125 |\n",
       "| yes | yes | t2 | score | 0.9472878 | 0.5977346 |\n",
       "| yes | yes | t3 | score | 0.9373215 | 0.4641723 |\n",
       "\n"
      ],
      "text/plain": [
       "   diet exercises time variable statistic p        \n",
       "1  no   no        t1   score    0.9173082 0.2643971\n",
       "2  no   no        t2   score    0.9571979 0.7432089\n",
       "3  no   no        t3   score    0.9649090 0.8509028\n",
       "4  no   yes       t1   score    0.9223457 0.3059440\n",
       "5  no   yes       t2   score    0.9123400 0.2285804\n",
       "6  no   yes       t3   score    0.9525447 0.6744326\n",
       "7  yes  no        t1   score    0.9422786 0.5281443\n",
       "8  yes  no        t2   score    0.9816773 0.9894564\n",
       "9  yes  no        t3   score    0.9313724 0.3948864\n",
       "10 yes  yes       t1   score    0.9141565 0.2411125\n",
       "11 yes  yes       t2   score    0.9472878 0.5977346\n",
       "12 yes  yes       t3   score    0.9373215 0.4641723"
      ]
     },
     "metadata": {},
     "output_type": "display_data"
    }
   ],
   "source": [
    "weightloss %>%\n",
    "  group_by(diet, exercises, time) %>%\n",
    "  shapiro_test(score)"
   ]
  },
  {
   "cell_type": "code",
   "execution_count": 164,
   "metadata": {
    "collapsed": true,
    "jupyter": {
     "outputs_hidden": true
    }
   },
   "outputs": [
    {
     "data": {
      "image/png": "[encoded data removed]",
      "text/plain": [
       "plot without title"
      ]
     },
     "metadata": {
      "image/png": {
       "height": 420,
       "width": 420
      },
      "text/plain": {
       "height": 420,
       "width": 420
      }
     },
     "output_type": "display_data"
    }
   ],
   "source": [
    "ggqqplot(weightloss, \"score\", ggtheme = theme_bw()) +\n",
    "  facet_grid(diet + exercises ~ time, labeller = \"label_both\")"
   ]
  },
  {
   "cell_type": "markdown",
   "metadata": {},
   "source": [
    "## Computation"
   ]
  },
  {
   "cell_type": "code",
   "execution_count": 165,
   "metadata": {
    "collapsed": true,
    "jupyter": {
     "outputs_hidden": true
    }
   },
   "outputs": [
    {
     "data": {
      "text/html": [
       "<table>\n",
       "<caption>A anova_test: 7 × 7</caption>\n",
       "<thead>\n",
       "\t<tr><th scope=col>Effect</th><th scope=col>DFn</th><th scope=col>DFd</th><th scope=col>F</th><th scope=col>p</th><th scope=col>p&lt;.05</th><th scope=col>ges</th></tr>\n",
       "\t<tr><th scope=col>&lt;chr&gt;</th><th scope=col>&lt;dbl&gt;</th><th scope=col>&lt;dbl&gt;</th><th scope=col>&lt;dbl&gt;</th><th scope=col>&lt;dbl&gt;</th><th scope=col>&lt;chr&gt;</th><th scope=col>&lt;dbl&gt;</th></tr>\n",
       "</thead>\n",
       "<tbody>\n",
       "\t<tr><td>diet               </td><td>1.00</td><td>11.00</td><td>  6.021</td><td>3.20e-02</td><td>*</td><td>0.028</td></tr>\n",
       "\t<tr><td>exercises          </td><td>1.00</td><td>11.00</td><td> 58.928</td><td>9.65e-06</td><td>*</td><td>0.284</td></tr>\n",
       "\t<tr><td>time               </td><td>2.00</td><td>22.00</td><td>110.942</td><td>3.22e-12</td><td>*</td><td>0.541</td></tr>\n",
       "\t<tr><td>diet:exercises     </td><td>1.00</td><td>11.00</td><td> 75.356</td><td>2.98e-06</td><td>*</td><td>0.157</td></tr>\n",
       "\t<tr><td>diet:time          </td><td>1.38</td><td>15.17</td><td>  0.603</td><td>5.01e-01</td><td> </td><td>0.013</td></tr>\n",
       "\t<tr><td>exercises:time     </td><td>2.00</td><td>22.00</td><td> 20.826</td><td>8.41e-06</td><td>*</td><td>0.274</td></tr>\n",
       "\t<tr><td>diet:exercises:time</td><td>2.00</td><td>22.00</td><td> 14.246</td><td>1.07e-04</td><td>*</td><td>0.147</td></tr>\n",
       "</tbody>\n",
       "</table>\n"
      ],
      "text/latex": [
       "A anova_test: 7 × 7\n",
       "\\begin{tabular}{r|lllllll}\n",
       " Effect & DFn & DFd & F & p & p<.05 & ges\\\\\n",
       " <chr> & <dbl> & <dbl> & <dbl> & <dbl> & <chr> & <dbl>\\\\\n",
       "\\hline\n",
       "\t diet                & 1.00 & 11.00 &   6.021 & 3.20e-02 & * & 0.028\\\\\n",
       "\t exercises           & 1.00 & 11.00 &  58.928 & 9.65e-06 & * & 0.284\\\\\n",
       "\t time                & 2.00 & 22.00 & 110.942 & 3.22e-12 & * & 0.541\\\\\n",
       "\t diet:exercises      & 1.00 & 11.00 &  75.356 & 2.98e-06 & * & 0.157\\\\\n",
       "\t diet:time           & 1.38 & 15.17 &   0.603 & 5.01e-01 &   & 0.013\\\\\n",
       "\t exercises:time      & 2.00 & 22.00 &  20.826 & 8.41e-06 & * & 0.274\\\\\n",
       "\t diet:exercises:time & 2.00 & 22.00 &  14.246 & 1.07e-04 & * & 0.147\\\\\n",
       "\\end{tabular}\n"
      ],
      "text/markdown": [
       "\n",
       "A anova_test: 7 × 7\n",
       "\n",
       "| Effect &lt;chr&gt; | DFn &lt;dbl&gt; | DFd &lt;dbl&gt; | F &lt;dbl&gt; | p &lt;dbl&gt; | p&lt;.05 &lt;chr&gt; | ges &lt;dbl&gt; |\n",
       "|---|---|---|---|---|---|---|\n",
       "| diet                | 1.00 | 11.00 |   6.021 | 3.20e-02 | * | 0.028 |\n",
       "| exercises           | 1.00 | 11.00 |  58.928 | 9.65e-06 | * | 0.284 |\n",
       "| time                | 2.00 | 22.00 | 110.942 | 3.22e-12 | * | 0.541 |\n",
       "| diet:exercises      | 1.00 | 11.00 |  75.356 | 2.98e-06 | * | 0.157 |\n",
       "| diet:time           | 1.38 | 15.17 |   0.603 | 5.01e-01 | <!----> | 0.013 |\n",
       "| exercises:time      | 2.00 | 22.00 |  20.826 | 8.41e-06 | * | 0.274 |\n",
       "| diet:exercises:time | 2.00 | 22.00 |  14.246 | 1.07e-04 | * | 0.147 |\n",
       "\n"
      ],
      "text/plain": [
       "  Effect              DFn  DFd   F       p        p<.05 ges  \n",
       "1 diet                1.00 11.00   6.021 3.20e-02 *     0.028\n",
       "2 exercises           1.00 11.00  58.928 9.65e-06 *     0.284\n",
       "3 time                2.00 22.00 110.942 3.22e-12 *     0.541\n",
       "4 diet:exercises      1.00 11.00  75.356 2.98e-06 *     0.157\n",
       "5 diet:time           1.38 15.17   0.603 5.01e-01       0.013\n",
       "6 exercises:time      2.00 22.00  20.826 8.41e-06 *     0.274\n",
       "7 diet:exercises:time 2.00 22.00  14.246 1.07e-04 *     0.147"
      ]
     },
     "metadata": {},
     "output_type": "display_data"
    }
   ],
   "source": [
    "res.aov <- anova_test(\n",
    "  data = weightloss, dv = score, wid = id,\n",
    "  within = c(diet, exercises, time)\n",
    "  )\n",
    "get_anova_table(res.aov)"
   ]
  }
 ],
 "metadata": {
  "kernelspec": {
   "display_name": "R",
   "language": "R",
   "name": "ir"
  },
  "language_info": {
   "codemirror_mode": "r",
   "file_extension": ".r",
   "mimetype": "text/x-r-source",
   "name": "R",
   "pygments_lexer": "r",
   "version": "3.6.2"
  }
 },
 "nbformat": 4,
 "nbformat_minor": 4
}
