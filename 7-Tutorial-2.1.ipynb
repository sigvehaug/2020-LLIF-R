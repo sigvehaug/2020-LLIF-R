{
 "cells": [
  {
   "cell_type": "markdown",
   "metadata": {},
   "source": [
    "# Reproducing the results of publications\n",
    "\n",
    "Chosen article: **What makes a straw man acceptable? Three experiments assessing linguistic factors**  \n",
    "Autors: Jennifer Schumann, Sandrine Zufferey, Steve Oswald\n",
    "\n",
    "Link to the article: https://www.sciencedirect.com/science/article/pii/S0378216618304545?via%3Dihub\n",
    "\n",
    "Reproducing the underlying data analysis assumes usually the following steps:\n",
    "\n",
    "1. Read through the article.\n",
    "2. Check whether raw, tidied data is available.\n",
    "3. Check whether data analysis is published.\n",
    "\n",
    "4. If just raw or tidied data is available, check whether the description from the article and the metadata provides enough detail to reconstruct the descibed data analysis.\n",
    "5. If the data analysis is also published check whether it runs, whether the results match with the ones from the article and do the same as at point 4. \n",
    "\n",
    "Read the abstract and Section 5 of the above article and answer the following questions:\n",
    "* What's"
   ]
  }
 ],
 "metadata": {
  "kernelspec": {
   "display_name": "R",
   "language": "R",
   "name": "ir"
  },
  "language_info": {
   "codemirror_mode": "r",
   "file_extension": ".r",
   "mimetype": "text/x-r-source",
   "name": "R",
   "pygments_lexer": "r",
   "version": "3.6.2"
  }
 },
 "nbformat": 4,
 "nbformat_minor": 4
}
