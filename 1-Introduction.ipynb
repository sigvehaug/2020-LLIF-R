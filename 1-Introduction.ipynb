{
 "cells": [
  {
   "cell_type": "markdown",
   "metadata": {},
   "source": [
    "2020-01-06, S. Haug, K. Sipos, University of Bern"
   ]
  },
  {
   "cell_type": "markdown",
   "metadata": {},
   "source": [
    "# Statistics with R. \n",
    "\n",
    "## Workshop for L’Institut de langue et de littérature françaises\n",
    "\n",
    "In this workshop we will introduce you to the basic usage of R for statistical data analysis. We will base our workshop on the analysis of linguistics’ datasets and will show you some other applications of R.\n",
    "\n",
    "## I About the Workshop\n",
    "### Learning objectives\n",
    "\n",
    "At the end of the course, you will become comfortable with the R environment and be able to read, understand and write R commands, allowing you to implement and interpret a workflow for your own statistical data analysis. After the workshop you\n",
    "\n",
    "- know and can use computational notebooks for statistical data analysis\n",
    "- can read and write data from disk to data frames\n",
    "- can produce descriptive statistics and do plotting\n",
    "- can do some text mining\n",
    "- can reproduce the results in a publication of your field using R\n",
    "\n",
    "Further you know \n",
    "\n",
    "- what the Science IT Support can do for you\n",
    "- how to publish notebooks on GitHub and data on repositories\n",
    "\n",
    "### Target group\n",
    "- Researchers and PhDs from Walter Benjamin Kolleg\n",
    "\n",
    "### Prerequisites \n",
    "- Participants must bring own laptops\n",
    "- No prior knowledge in R is assumed\n",
    "- No software installation is required\n",
    "- Basic statistical knowledge is assumed\n",
    "\n",
    "### Methods\n",
    "The training alternates between short theoretical introductions and interactive programming sessions.\n",
    "\n",
    "### Certificate \n",
    "- A certificate of attendance will be provided\n",
    "\n",
    "### Coaches\n",
    "- Dr. Kinga Sipos, PD Dr. Sigve Haug\n",
    "\n",
    "### Disclaimers\n",
    "\n",
    "- The workshop doesn't cover big data\n",
    "- The workshop doesn't cover other data science languages like Python and Julia\n",
    "- The workshop doesn't cover non-rectangular data\n",
    "- The workshop doesn't teach statistical concepts (this is a prerequisite)\n",
    "- The workshop is only a get started oportunity\n",
    "\n",
    "Further R course offers at the university you find here https://www.scits.unibe.ch/training/training_and_workshops/ and here https://www.unibe.ch/research/promotion_of_early_career_researchers/ts/ts/program_spring_2020/index_eng.html"
   ]
  },
  {
   "cell_type": "markdown",
   "metadata": {},
   "source": [
    "## II Table of Contents\n",
    "\n",
    "**2020-02-06 Thursday**\n",
    "- 13:30 – 14:00 Introduction to computational notebooks and R\n",
    "- 14:00 – 15:00 Tutorial 1.1\n",
    "- 15:00 – 15:30 Break\n",
    "- 15:30 – 16:30 Tutorial 1.2\n",
    "- 16:30 - 16:45 How to use Science IT Support\n",
    "- 16:45 – 17:00 Installation of the Anaconda environment and R on own laptops\n",
    "\n",
    "**2020-02-07 Friday**\n",
    "- 13:30 – 14:00 Discussions\n",
    "- 14:00 – 15:00 Tutorial 2 (https://osf.io/yxj8q/)\n",
    "- 15:00 – 15:30 Break\n",
    "- 15:30 – 16:30 Tutorial 2 cont. \n",
    "- 16:30 – 17:00 Publish notebooks on GitHub and data on Zenodo\n",
    "- 17:00 - 18:00 Small debrief apero"
   ]
  },
  {
   "cell_type": "markdown",
   "metadata": {},
   "source": [
    "## 1 Introduction to computational notebooks and R\n",
    "\n",
    "\"A notebook interface (also called a computational notebook) is a virtual notebook environment used for literate **programming**. It pairs the functionality of **word processing** software with both the shell and kernel of that notebook's programming language. Millions of people use notebooks interfaces to analyze data for science, journalism, and education\" [https://en.wikipedia.org/wiki/Notebook_interface].\n",
    "\n",
    "You are now using a Jupyter Hub providing you with a Jupyter Lab with notebooks that can run **R, Python, Bash, C and Octave**. This Jupyter Hub is provided by EPFL as a service (noto.epfl.ch). You only need a AAI (campus) account to use it. \n",
    "\n",
    "Of course you may also install your own environment on your own computer. You can do that in Part 3 of the workshop. We recommend to install the **Anaconda** software to get anything you need. \n",
    "\n",
    "\n"
   ]
  },
  {
   "cell_type": "markdown",
   "metadata": {},
   "source": [
    "\n",
    "The data science process can be illustrated as following:\n",
    "\n",
    "![Data Science Diagram](DSwR.png)\n",
    "\n",
    "What is called Tidy in the diagram is also often called Cleaning, Cleansing, Filtering etc. Tidying plus Transforming can be summarised by the term Wrangling. To bring all these data science steps together, one uses **programming**."
   ]
  },
  {
   "cell_type": "markdown",
   "metadata": {},
   "source": [
    "### Tools for your data science work\n",
    "\n",
    "- R or Python (or other statistics software as SAS, STATA, SPSS ...)\n",
    "- Packages/Modules/Libraries for R or Python\n",
    "- Jupyter notebooks or RStudio (Integrated Development Environment - IDE). Both RStudio and Jupyter notebooks/lab come with Anaconda\n",
    "- Publication platforms (GitHub, Zenodo etc)\n",
    "\n",
    "R and Python can be used standalone, however, we recommend using an IDE."
   ]
  },
  {
   "cell_type": "markdown",
   "metadata": {},
   "source": [
    "## Documentation and Books\n",
    "\n",
    "Use your favourite search engine and add R to your question. Or go directly:\n",
    "\n",
    "- https://www.rdocumentation.org/\n",
    "- https://r4ds.had.co.nz/\n",
    "- https://www.tidytextmining.com/"
   ]
  },
  {
   "cell_type": "markdown",
   "metadata": {},
   "source": [
    "## Exercise 1 (10 Minutes)\n",
    "\n",
    "Play with this notebook and the Jupyter Lab: \n",
    "- Edit some text cell (if you know Latex or html, try to write some)\n",
    "- Use a code cell as a calculator\n",
    "- Restart your kernel\n",
    "- Change the file name of your notebook\n",
    "- Download your notebook"
   ]
  },
  {
   "cell_type": "code",
   "execution_count": null,
   "metadata": {},
   "outputs": [],
   "source": []
  }
 ],
 "metadata": {
  "kernelspec": {
   "display_name": "R",
   "language": "R",
   "name": "ir"
  },
  "language_info": {
   "codemirror_mode": "r",
   "file_extension": ".r",
   "mimetype": "text/x-r-source",
   "name": "R",
   "pygments_lexer": "r",
   "version": "3.6.2"
  }
 },
 "nbformat": 4,
 "nbformat_minor": 4
}
