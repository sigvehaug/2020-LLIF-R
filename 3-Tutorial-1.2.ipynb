{
 "cells": [
  {
   "cell_type": "markdown",
   "metadata": {},
   "source": [
    "## Tutorial 1.2 Text Mining Example and Exercise (15 minutes)\n",
    "\n",
    "There is a nice book on text mining: https://www.tidytextmining.com/. Here we do one example from that book. It creates the six novels from Jane Austen into a data frame that we can do statistical data analysis on. Someone has written a special package called janeaustenr which brings the novels into a data frame.\n",
    "\n",
    "First we install and load the packages we need. "
   ]
  },
  {
   "cell_type": "code",
   "execution_count": 13,
   "metadata": {},
   "outputs": [],
   "source": [
    "#install.packages(\"janeaustenr\")\n",
    "#install.packages(\"tidytext\")"
   ]
  },
  {
   "cell_type": "code",
   "execution_count": 15,
   "metadata": {},
   "outputs": [],
   "source": [
    "# Load the packages/libraries needed\n",
    "library(janeaustenr)\n",
    "library(dplyr)       #data manipulation\n",
    "library(ggplot2)     #visualizations\n",
    "library(gridExtra)   #viewing multiple plots together\n",
    "library(tidytext)    #text mining\n",
    "library(stringr)     #for regular expressions\n",
    "#library(wordcloud2) #creative visualizations"
   ]
  },
  {
   "cell_type": "markdown",
   "metadata": {},
   "source": [
    "Now we create a data frame with one line per row and columns telling which book and which chapter the line belongs to "
   ]
  },
  {
   "cell_type": "code",
   "execution_count": 18,
   "metadata": {},
   "outputs": [
    {
     "data": {
      "text/html": [
       "<table>\n",
       "<caption>A tibble: 6 × 4</caption>\n",
       "<thead>\n",
       "\t<tr><th scope=col>text</th><th scope=col>book</th><th scope=col>linenumber</th><th scope=col>chapter</th></tr>\n",
       "\t<tr><th scope=col>&lt;chr&gt;</th><th scope=col>&lt;fct&gt;</th><th scope=col>&lt;int&gt;</th><th scope=col>&lt;int&gt;</th></tr>\n",
       "</thead>\n",
       "<tbody>\n",
       "\t<tr><td>SENSE AND SENSIBILITY</td><td>Sense &amp; Sensibility</td><td>1</td><td>0</td></tr>\n",
       "\t<tr><td><span style=white-space:pre-wrap>                     </span></td><td>Sense &amp; Sensibility</td><td>2</td><td>0</td></tr>\n",
       "\t<tr><td><span style=white-space:pre-wrap>by Jane Austen       </span></td><td>Sense &amp; Sensibility</td><td>3</td><td>0</td></tr>\n",
       "\t<tr><td><span style=white-space:pre-wrap>                     </span></td><td>Sense &amp; Sensibility</td><td>4</td><td>0</td></tr>\n",
       "\t<tr><td><span style=white-space:pre-wrap>(1811)               </span></td><td>Sense &amp; Sensibility</td><td>5</td><td>0</td></tr>\n",
       "\t<tr><td><span style=white-space:pre-wrap>                     </span></td><td>Sense &amp; Sensibility</td><td>6</td><td>0</td></tr>\n",
       "</tbody>\n",
       "</table>\n"
      ],
      "text/latex": [
       "A tibble: 6 × 4\n",
       "\\begin{tabular}{r|llll}\n",
       " text & book & linenumber & chapter\\\\\n",
       " <chr> & <fct> & <int> & <int>\\\\\n",
       "\\hline\n",
       "\t SENSE AND SENSIBILITY & Sense \\& Sensibility & 1 & 0\\\\\n",
       "\t                       & Sense \\& Sensibility & 2 & 0\\\\\n",
       "\t by Jane Austen        & Sense \\& Sensibility & 3 & 0\\\\\n",
       "\t                       & Sense \\& Sensibility & 4 & 0\\\\\n",
       "\t (1811)                & Sense \\& Sensibility & 5 & 0\\\\\n",
       "\t                       & Sense \\& Sensibility & 6 & 0\\\\\n",
       "\\end{tabular}\n"
      ],
      "text/markdown": [
       "\n",
       "A tibble: 6 × 4\n",
       "\n",
       "| text &lt;chr&gt; | book &lt;fct&gt; | linenumber &lt;int&gt; | chapter &lt;int&gt; |\n",
       "|---|---|---|---|\n",
       "| SENSE AND SENSIBILITY | Sense &amp; Sensibility | 1 | 0 |\n",
       "| <!----> | Sense &amp; Sensibility | 2 | 0 |\n",
       "| by Jane Austen        | Sense &amp; Sensibility | 3 | 0 |\n",
       "| <!----> | Sense &amp; Sensibility | 4 | 0 |\n",
       "| (1811)                | Sense &amp; Sensibility | 5 | 0 |\n",
       "| <!----> | Sense &amp; Sensibility | 6 | 0 |\n",
       "\n"
      ],
      "text/plain": [
       "  text                  book                linenumber chapter\n",
       "1 SENSE AND SENSIBILITY Sense & Sensibility 1          0      \n",
       "2                       Sense & Sensibility 2          0      \n",
       "3 by Jane Austen        Sense & Sensibility 3          0      \n",
       "4                       Sense & Sensibility 4          0      \n",
       "5 (1811)                Sense & Sensibility 5          0      \n",
       "6                       Sense & Sensibility 6          0      "
      ]
     },
     "metadata": {},
     "output_type": "display_data"
    }
   ],
   "source": [
    "original_books <- austen_books() %>% # Creates a tidy data frame with each book line per row\n",
    "group_by(book) %>%                   # Do the following per book, e.g. add line numbers   \n",
    "mutate(linenumber = row_number(),    # Add columns with line number and chapters\n",
    "chapter = cumsum(str_detect(text, regex(\"^chapter [\\\\divxlc]\",ignore_case = TRUE)))) %>%\n",
    "ungroup()                            # Ungroup the data frame\n",
    "head(original_books)                       # Show the data new data frame "
   ]
  },
  {
   "cell_type": "markdown",
   "metadata": {},
   "source": [
    "Now we have the six books with one book line per row. We need it with one word per row. For that we can use the unnest_tokens method in the tidytext package:"
   ]
  },
  {
   "cell_type": "code",
   "execution_count": 19,
   "metadata": {},
   "outputs": [
    {
     "data": {
      "text/html": [
       "<table>\n",
       "<caption>A tibble: 6 × 4</caption>\n",
       "<thead>\n",
       "\t<tr><th scope=col>book</th><th scope=col>linenumber</th><th scope=col>chapter</th><th scope=col>word</th></tr>\n",
       "\t<tr><th scope=col>&lt;fct&gt;</th><th scope=col>&lt;int&gt;</th><th scope=col>&lt;int&gt;</th><th scope=col>&lt;chr&gt;</th></tr>\n",
       "</thead>\n",
       "<tbody>\n",
       "\t<tr><td>Sense &amp; Sensibility</td><td>1</td><td>0</td><td><span style=white-space:pre-wrap>sense      </span></td></tr>\n",
       "\t<tr><td>Sense &amp; Sensibility</td><td>1</td><td>0</td><td><span style=white-space:pre-wrap>and        </span></td></tr>\n",
       "\t<tr><td>Sense &amp; Sensibility</td><td>1</td><td>0</td><td>sensibility</td></tr>\n",
       "\t<tr><td>Sense &amp; Sensibility</td><td>3</td><td>0</td><td><span style=white-space:pre-wrap>by         </span></td></tr>\n",
       "\t<tr><td>Sense &amp; Sensibility</td><td>3</td><td>0</td><td><span style=white-space:pre-wrap>jane       </span></td></tr>\n",
       "\t<tr><td>Sense &amp; Sensibility</td><td>3</td><td>0</td><td><span style=white-space:pre-wrap>austen     </span></td></tr>\n",
       "</tbody>\n",
       "</table>\n"
      ],
      "text/latex": [
       "A tibble: 6 × 4\n",
       "\\begin{tabular}{r|llll}\n",
       " book & linenumber & chapter & word\\\\\n",
       " <fct> & <int> & <int> & <chr>\\\\\n",
       "\\hline\n",
       "\t Sense \\& Sensibility & 1 & 0 & sense      \\\\\n",
       "\t Sense \\& Sensibility & 1 & 0 & and        \\\\\n",
       "\t Sense \\& Sensibility & 1 & 0 & sensibility\\\\\n",
       "\t Sense \\& Sensibility & 3 & 0 & by         \\\\\n",
       "\t Sense \\& Sensibility & 3 & 0 & jane       \\\\\n",
       "\t Sense \\& Sensibility & 3 & 0 & austen     \\\\\n",
       "\\end{tabular}\n"
      ],
      "text/markdown": [
       "\n",
       "A tibble: 6 × 4\n",
       "\n",
       "| book &lt;fct&gt; | linenumber &lt;int&gt; | chapter &lt;int&gt; | word &lt;chr&gt; |\n",
       "|---|---|---|---|\n",
       "| Sense &amp; Sensibility | 1 | 0 | sense       |\n",
       "| Sense &amp; Sensibility | 1 | 0 | and         |\n",
       "| Sense &amp; Sensibility | 1 | 0 | sensibility |\n",
       "| Sense &amp; Sensibility | 3 | 0 | by          |\n",
       "| Sense &amp; Sensibility | 3 | 0 | jane        |\n",
       "| Sense &amp; Sensibility | 3 | 0 | austen      |\n",
       "\n"
      ],
      "text/plain": [
       "  book                linenumber chapter word       \n",
       "1 Sense & Sensibility 1          0       sense      \n",
       "2 Sense & Sensibility 1          0       and        \n",
       "3 Sense & Sensibility 1          0       sensibility\n",
       "4 Sense & Sensibility 3          0       by         \n",
       "5 Sense & Sensibility 3          0       jane       \n",
       "6 Sense & Sensibility 3          0       austen     "
      ]
     },
     "metadata": {},
     "output_type": "display_data"
    }
   ],
   "source": [
    "tidy_books <- original_books %>%\n",
    "  unnest_tokens(word, text)          # Unnests each text (line) column in to a set of words \n",
    "head(tidy_books)"
   ]
  },
  {
   "cell_type": "markdown",
   "metadata": {},
   "source": [
    "Now we can mine the Austen novels. For example check the most used words:"
   ]
  },
  {
   "cell_type": "code",
   "execution_count": 21,
   "metadata": {},
   "outputs": [],
   "source": [
    "word_counts<-tidy_books %>% count(word, sort = TRUE) "
   ]
  },
  {
   "cell_type": "code",
   "execution_count": 23,
   "metadata": {},
   "outputs": [],
   "source": [
    "#head(word_counts)"
   ]
  },
  {
   "cell_type": "markdown",
   "metadata": {},
   "source": [
    "Of course these are boring words. We will see how to remove them later."
   ]
  },
  {
   "cell_type": "markdown",
   "metadata": {},
   "source": [
    "## Exercise"
   ]
  },
  {
   "cell_type": "markdown",
   "metadata": {},
   "source": [
    "Now write the tidy_books data frame to a file called Data-Austen.csv for later usage: "
   ]
  },
  {
   "cell_type": "code",
   "execution_count": 50,
   "metadata": {},
   "outputs": [],
   "source": [
    "write_delim(tidy_books,'Data-Austen.cvs')"
   ]
  },
  {
   "cell_type": "markdown",
   "metadata": {},
   "source": [
    "## More text mining "
   ]
  },
  {
   "cell_type": "markdown",
   "metadata": {},
   "source": [
    "Let us remove the stop_words defined in the tidytext package:"
   ]
  },
  {
   "cell_type": "code",
   "execution_count": 36,
   "metadata": {},
   "outputs": [
    {
     "name": "stderr",
     "output_type": "stream",
     "text": [
      "Joining, by = \"word\"\n",
      "\n"
     ]
    }
   ],
   "source": [
    "tidy_books <- tidy_books %>%\n",
    "  anti_join(stop_words)"
   ]
  },
  {
   "cell_type": "markdown",
   "metadata": {},
   "source": [
    "Now the word count looks more interesting:"
   ]
  },
  {
   "cell_type": "code",
   "execution_count": 44,
   "metadata": {},
   "outputs": [],
   "source": [
    "wc<-tidy_books %>% count(word, sort = TRUE) "
   ]
  },
  {
   "cell_type": "code",
   "execution_count": 38,
   "metadata": {},
   "outputs": [
    {
     "data": {
      "text/html": [
       "<table>\n",
       "<caption>A tibble: 6 × 2</caption>\n",
       "<thead>\n",
       "\t<tr><th scope=col>word</th><th scope=col>n</th></tr>\n",
       "\t<tr><th scope=col>&lt;chr&gt;</th><th scope=col>&lt;int&gt;</th></tr>\n",
       "</thead>\n",
       "<tbody>\n",
       "\t<tr><td>miss </td><td>1855</td></tr>\n",
       "\t<tr><td>time </td><td>1337</td></tr>\n",
       "\t<tr><td>fanny</td><td> 862</td></tr>\n",
       "\t<tr><td>dear </td><td> 822</td></tr>\n",
       "\t<tr><td>lady </td><td> 817</td></tr>\n",
       "\t<tr><td>sir  </td><td> 806</td></tr>\n",
       "</tbody>\n",
       "</table>\n"
      ],
      "text/latex": [
       "A tibble: 6 × 2\n",
       "\\begin{tabular}{r|ll}\n",
       " word & n\\\\\n",
       " <chr> & <int>\\\\\n",
       "\\hline\n",
       "\t miss  & 1855\\\\\n",
       "\t time  & 1337\\\\\n",
       "\t fanny &  862\\\\\n",
       "\t dear  &  822\\\\\n",
       "\t lady  &  817\\\\\n",
       "\t sir   &  806\\\\\n",
       "\\end{tabular}\n"
      ],
      "text/markdown": [
       "\n",
       "A tibble: 6 × 2\n",
       "\n",
       "| word &lt;chr&gt; | n &lt;int&gt; |\n",
       "|---|---|\n",
       "| miss  | 1855 |\n",
       "| time  | 1337 |\n",
       "| fanny |  862 |\n",
       "| dear  |  822 |\n",
       "| lady  |  817 |\n",
       "| sir   |  806 |\n",
       "\n"
      ],
      "text/plain": [
       "  word  n   \n",
       "1 miss  1855\n",
       "2 time  1337\n",
       "3 fanny  862\n",
       "4 dear   822\n",
       "5 lady   817\n",
       "6 sir    806"
      ]
     },
     "metadata": {},
     "output_type": "display_data"
    }
   ],
   "source": [
    "head(word_counts)"
   ]
  },
  {
   "cell_type": "code",
   "execution_count": 54,
   "metadata": {},
   "outputs": [
    {
     "data": {
      "text/html": [
       "<table>\n",
       "<caption>A tibble: 1 × 2</caption>\n",
       "<thead>\n",
       "\t<tr><th scope=col>word</th><th scope=col>n</th></tr>\n",
       "\t<tr><th scope=col>&lt;chr&gt;</th><th scope=col>&lt;int&gt;</th></tr>\n",
       "</thead>\n",
       "<tbody>\n",
       "\t<tr><td>love</td><td>495</td></tr>\n",
       "</tbody>\n",
       "</table>\n"
      ],
      "text/latex": [
       "A tibble: 1 × 2\n",
       "\\begin{tabular}{r|ll}\n",
       " word & n\\\\\n",
       " <chr> & <int>\\\\\n",
       "\\hline\n",
       "\t love & 495\\\\\n",
       "\\end{tabular}\n"
      ],
      "text/markdown": [
       "\n",
       "A tibble: 1 × 2\n",
       "\n",
       "| word &lt;chr&gt; | n &lt;int&gt; |\n",
       "|---|---|\n",
       "| love | 495 |\n",
       "\n"
      ],
      "text/plain": [
       "  word n  \n",
       "1 love 495"
      ]
     },
     "metadata": {},
     "output_type": "display_data"
    }
   ],
   "source": [
    "wc[wc$word==\"love\",]"
   ]
  },
  {
   "cell_type": "code",
   "execution_count": 74,
   "metadata": {},
   "outputs": [
    {
     "data": {
      "text/html": [
       "<table>\n",
       "<caption>A tibble: 6 × 4</caption>\n",
       "<thead>\n",
       "\t<tr><th scope=col>book</th><th scope=col>chapter</th><th scope=col>word</th><th scope=col>n</th></tr>\n",
       "\t<tr><th scope=col>&lt;fct&gt;</th><th scope=col>&lt;int&gt;</th><th scope=col>&lt;chr&gt;</th><th scope=col>&lt;int&gt;</th></tr>\n",
       "</thead>\n",
       "<tbody>\n",
       "\t<tr><td>Persuasion</td><td>21</td><td>elliot </td><td>62</td></tr>\n",
       "\t<tr><td>Emma      </td><td>47</td><td>harriet</td><td>52</td></tr>\n",
       "\t<tr><td>Emma      </td><td>21</td><td>miss   </td><td>44</td></tr>\n",
       "\t<tr><td>Persuasion</td><td>12</td><td>anne   </td><td>43</td></tr>\n",
       "\t<tr><td>Persuasion</td><td>12</td><td>captain</td><td>42</td></tr>\n",
       "\t<tr><td>Persuasion</td><td>11</td><td>captain</td><td>41</td></tr>\n",
       "</tbody>\n",
       "</table>\n"
      ],
      "text/latex": [
       "A tibble: 6 × 4\n",
       "\\begin{tabular}{r|llll}\n",
       " book & chapter & word & n\\\\\n",
       " <fct> & <int> & <chr> & <int>\\\\\n",
       "\\hline\n",
       "\t Persuasion & 21 & elliot  & 62\\\\\n",
       "\t Emma       & 47 & harriet & 52\\\\\n",
       "\t Emma       & 21 & miss    & 44\\\\\n",
       "\t Persuasion & 12 & anne    & 43\\\\\n",
       "\t Persuasion & 12 & captain & 42\\\\\n",
       "\t Persuasion & 11 & captain & 41\\\\\n",
       "\\end{tabular}\n"
      ],
      "text/markdown": [
       "\n",
       "A tibble: 6 × 4\n",
       "\n",
       "| book &lt;fct&gt; | chapter &lt;int&gt; | word &lt;chr&gt; | n &lt;int&gt; |\n",
       "|---|---|---|---|\n",
       "| Persuasion | 21 | elliot  | 62 |\n",
       "| Emma       | 47 | harriet | 52 |\n",
       "| Emma       | 21 | miss    | 44 |\n",
       "| Persuasion | 12 | anne    | 43 |\n",
       "| Persuasion | 12 | captain | 42 |\n",
       "| Persuasion | 11 | captain | 41 |\n",
       "\n"
      ],
      "text/plain": [
       "  book       chapter word    n \n",
       "1 Persuasion 21      elliot  62\n",
       "2 Emma       47      harriet 52\n",
       "3 Emma       21      miss    44\n",
       "4 Persuasion 12      anne    43\n",
       "5 Persuasion 12      captain 42\n",
       "6 Persuasion 11      captain 41"
      ]
     },
     "metadata": {},
     "output_type": "display_data"
    }
   ],
   "source": [
    "wc_b <- tidy_books %>%\n",
    "group_by(book, chapter) %>%\n",
    "count(word, sort = TRUE) %>%\n",
    "#wc[wc$word==\"sex\",]\n",
    "#mutate(linenumber = row_number(),    # Add columns with line number and chapters\n",
    "#chapter = cumsum(str_detect(text, regex(\"^chapter [\\\\divxlc]\",ignore_case = TRUE)))) %>%\n",
    "ungroup()                    \n",
    "head(wc_b)                   "
   ]
  },
  {
   "cell_type": "code",
   "execution_count": 111,
   "metadata": {},
   "outputs": [
    {
     "data": {
      "text/html": [
       "<table>\n",
       "<caption>A tibble: 6 × 4</caption>\n",
       "<thead>\n",
       "\t<tr><th scope=col>book</th><th scope=col>chapter</th><th scope=col>word</th><th scope=col>n</th></tr>\n",
       "\t<tr><th scope=col>&lt;fct&gt;</th><th scope=col>&lt;int&gt;</th><th scope=col>&lt;chr&gt;</th><th scope=col>&lt;int&gt;</th></tr>\n",
       "</thead>\n",
       "<tbody>\n",
       "\t<tr><td>Emma               </td><td>21</td><td>miss</td><td>44</td></tr>\n",
       "\t<tr><td>Emma               </td><td>26</td><td>miss</td><td>36</td></tr>\n",
       "\t<tr><td>Mansfield Park     </td><td> 5</td><td>miss</td><td>31</td></tr>\n",
       "\t<tr><td>Sense &amp; Sensibility</td><td>21</td><td>miss</td><td>27</td></tr>\n",
       "\t<tr><td>Mansfield Park     </td><td> 9</td><td>miss</td><td>27</td></tr>\n",
       "\t<tr><td>Emma               </td><td> 1</td><td>miss</td><td>26</td></tr>\n",
       "</tbody>\n",
       "</table>\n"
      ],
      "text/latex": [
       "A tibble: 6 × 4\n",
       "\\begin{tabular}{r|llll}\n",
       " book & chapter & word & n\\\\\n",
       " <fct> & <int> & <chr> & <int>\\\\\n",
       "\\hline\n",
       "\t Emma                & 21 & miss & 44\\\\\n",
       "\t Emma                & 26 & miss & 36\\\\\n",
       "\t Mansfield Park      &  5 & miss & 31\\\\\n",
       "\t Sense \\& Sensibility & 21 & miss & 27\\\\\n",
       "\t Mansfield Park      &  9 & miss & 27\\\\\n",
       "\t Emma                &  1 & miss & 26\\\\\n",
       "\\end{tabular}\n"
      ],
      "text/markdown": [
       "\n",
       "A tibble: 6 × 4\n",
       "\n",
       "| book &lt;fct&gt; | chapter &lt;int&gt; | word &lt;chr&gt; | n &lt;int&gt; |\n",
       "|---|---|---|---|\n",
       "| Emma                | 21 | miss | 44 |\n",
       "| Emma                | 26 | miss | 36 |\n",
       "| Mansfield Park      |  5 | miss | 31 |\n",
       "| Sense &amp; Sensibility | 21 | miss | 27 |\n",
       "| Mansfield Park      |  9 | miss | 27 |\n",
       "| Emma                |  1 | miss | 26 |\n",
       "\n"
      ],
      "text/plain": [
       "  book                chapter word n \n",
       "1 Emma                21      miss 44\n",
       "2 Emma                26      miss 36\n",
       "3 Mansfield Park       5      miss 31\n",
       "4 Sense & Sensibility 21      miss 27\n",
       "5 Mansfield Park       9      miss 27\n",
       "6 Emma                 1      miss 26"
      ]
     },
     "metadata": {},
     "output_type": "display_data"
    }
   ],
   "source": [
    "#wc_b[wc_b$word==\"sex\",]\n",
    "#wc_b[wc_b$word==\"love\",]\n",
    "#wc_b[wc_b$word==\"murder\",]\n",
    "#wc_b[wc_b$word==\"doctor\",]\n",
    "\n",
    "#wc_sir<-wc_b[wc_b$word==\"sir\",]\n",
    "head(wc_miss)"
   ]
  },
  {
   "cell_type": "markdown",
   "metadata": {},
   "source": [
    "## Exercise "
   ]
  },
  {
   "cell_type": "markdown",
   "metadata": {},
   "source": [
    "Visualise the number of the word \"miss\" per chapter in the six Austen novels with box plots.\n",
    "\n",
    "- Make a new data frame with the rows from wc_b containing \"miss\" \n",
    "- Use the example from Tutorial 1.1 to make the box plots"
   ]
  },
  {
   "cell_type": "code",
   "execution_count": 113,
   "metadata": {},
   "outputs": [
    {
     "data": {
      "image/png": "[encoded data removed]",
      "text/plain": [
       "plot without title"
      ]
     },
     "metadata": {
      "image/png": {
       "height": 420,
       "width": 420
      },
      "text/plain": {
       "height": 420,
       "width": 420
      }
     },
     "output_type": "display_data"
    }
   ],
   "source": [
    "wc_miss<-wc_b[wc_b$word==\"miss\",]\n",
    "qplot(book,n, data=wc_miss, geom = \"boxplot\")"
   ]
  },
  {
   "cell_type": "markdown",
   "metadata": {},
   "source": [
    "## Done"
   ]
  },
  {
   "cell_type": "markdown",
   "metadata": {},
   "source": [
    "As you proabably have noticed, working with R is all about knowing the packages to use ! We have now played a bit with the packages useful dplyr and tidytext. In addition we used a special package bringing the six Austen novels into a data frame.\n"
   ]
  }
 ],
 "metadata": {
  "kernelspec": {
   "display_name": "R",
   "language": "R",
   "name": "ir"
  },
  "language_info": {
   "codemirror_mode": "r",
   "file_extension": ".r",
   "mimetype": "text/x-r-source",
   "name": "R",
   "pygments_lexer": "r",
   "version": "3.6.2"
  }
 },
 "nbformat": 4,
 "nbformat_minor": 4
}
